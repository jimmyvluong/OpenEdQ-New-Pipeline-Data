{
 "cells": [
  {
   "cell_type": "code",
   "execution_count": 143,
   "metadata": {},
   "outputs": [],
   "source": [
    "# Business logic applied to ERSS file:\n",
    "# We take a distinct count of a primary key based on an obfuscated SSN.\n",
    "# 0. Deduplicate the records based on calStateEduPersonUID (there doesn't seem to be any duplicates based on ID, Year, and Term.)\n",
    "# 1. erss_campus NOT IN (7, 97, 93): This includes all campuses including CalStateTEACH with an educator preparation program\n",
    "# 2. erss_cred_stat IN ('4','5','6','8', 'V'): This identifies students in a teaching credential program\n",
    "# 3. erss_year = 2021: Chosen to align with erss year 2021 in the Teaching Credentials Enrollment Dashboard\n",
    "# 4. erss_term = 4: Chosen to align with the Fall term in the Teaching Credentials Enrollment Dashboard\n",
    "# 5. erss_cred_obj mapped to SourceCode (MS, ES, and SS flag) using the \"Credential and Subject Matter Waiver Objective\" data dictionary definition\n"
   ]
  },
  {
   "cell_type": "code",
   "execution_count": 144,
   "metadata": {},
   "outputs": [],
   "source": [
    "# import pandas\n",
    "import pandas as pd"
   ]
  },
  {
   "cell_type": "code",
   "execution_count": 145,
   "metadata": {},
   "outputs": [],
   "source": [
    "# read in raw data\n",
    "df = pd.read_csv(\"..\\data\\erss\\ERSS_20213_20222_221215.csv\",\n",
    "dtype={'erss_cred_stat': str, 'erss_ethnic_old': str, 'erss_cred_emph': str, 'erss_spec_prog' :str})"
   ]
  },
  {
   "cell_type": "code",
   "execution_count": 146,
   "metadata": {},
   "outputs": [],
   "source": [
    "# confirm that only CSU campuses are in the dataset\n",
    "\n",
    "# create a DataFrame with CSU Name and CSU Campus Code\n",
    "# Dict = dict([(1, 'Geeks'), (2, 'For')])\n",
    "\n",
    "csu_campus_dictionary = dict(\n",
    "    [\n",
    "('35' ,'Bakersfield'),\n",
    "('73' ,'Channel Islands'),\n",
    "('20' ,'Chico'),\n",
    "('55' ,'Dominguez Hills'),\n",
    "('05' ,'East Bay'),\n",
    "('25' ,'Fresno'),\n",
    "('50' ,'Fullerton'),\n",
    "('30' ,'Humboldt'),\n",
    "('40' ,'Long Beach'),\n",
    "('45' ,'Los Angeles'),\n",
    "('06' ,'Monterey Bay'),\n",
    "('70' ,'Northridge'),\n",
    "('10' ,'Pomona'),\n",
    "('60' ,'Sacramento'),\n",
    "('63' ,'San Bernardino'),\n",
    "('65' ,'San Diego'),\n",
    "('75' ,'San Francisco'),\n",
    "('80' ,'San Jose'),\n",
    "('15' ,'San Luis Obispo'),\n",
    "('68' ,'San Marcos'),\n",
    "('85' ,'Sonoma'),\n",
    "('90' ,'Stanislaus'),\n",
    "('96' ,'CalStateTEACH')\n",
    "    ]\n",
    ")"
   ]
  },
  {
   "cell_type": "code",
   "execution_count": 147,
   "metadata": {},
   "outputs": [
    {
     "data": {
      "text/plain": [
       "{'35': 'Bakersfield',\n",
       " '73': 'Channel Islands',\n",
       " '20': 'Chico',\n",
       " '55': 'Dominguez Hills',\n",
       " '05': 'East Bay',\n",
       " '25': 'Fresno',\n",
       " '50': 'Fullerton',\n",
       " '30': 'Humboldt',\n",
       " '40': 'Long Beach',\n",
       " '45': 'Los Angeles',\n",
       " '06': 'Monterey Bay',\n",
       " '70': 'Northridge',\n",
       " '10': 'Pomona',\n",
       " '60': 'Sacramento',\n",
       " '63': 'San Bernardino',\n",
       " '65': 'San Diego',\n",
       " '75': 'San Francisco',\n",
       " '80': 'San Jose',\n",
       " '15': 'San Luis Obispo',\n",
       " '68': 'San Marcos',\n",
       " '85': 'Sonoma',\n",
       " '90': 'Stanislaus',\n",
       " '96': 'CalStateTEACH'}"
      ]
     },
     "execution_count": 147,
     "metadata": {},
     "output_type": "execute_result"
    }
   ],
   "source": [
    "csu_campus_dictionary "
   ]
  },
  {
   "cell_type": "code",
   "execution_count": 148,
   "metadata": {},
   "outputs": [],
   "source": [
    "# create DataFrame from the dictionary\n",
    "\n",
    "# https://pandas.pydata.org/docs/reference/api/pandas.DataFrame.from_dict.html\n",
    "\n",
    "csu_campus_name_df = pd.DataFrame.from_dict(csu_campus_dictionary, orient='index',\n",
    "                       columns=['campus_name'])"
   ]
  },
  {
   "cell_type": "code",
   "execution_count": 149,
   "metadata": {},
   "outputs": [
    {
     "data": {
      "text/html": [
       "<div>\n",
       "<style scoped>\n",
       "    .dataframe tbody tr th:only-of-type {\n",
       "        vertical-align: middle;\n",
       "    }\n",
       "\n",
       "    .dataframe tbody tr th {\n",
       "        vertical-align: top;\n",
       "    }\n",
       "\n",
       "    .dataframe thead th {\n",
       "        text-align: right;\n",
       "    }\n",
       "</style>\n",
       "<table border=\"1\" class=\"dataframe\">\n",
       "  <thead>\n",
       "    <tr style=\"text-align: right;\">\n",
       "      <th></th>\n",
       "      <th>campus_name</th>\n",
       "    </tr>\n",
       "  </thead>\n",
       "  <tbody>\n",
       "    <tr>\n",
       "      <th>35</th>\n",
       "      <td>Bakersfield</td>\n",
       "    </tr>\n",
       "    <tr>\n",
       "      <th>73</th>\n",
       "      <td>Channel Islands</td>\n",
       "    </tr>\n",
       "    <tr>\n",
       "      <th>20</th>\n",
       "      <td>Chico</td>\n",
       "    </tr>\n",
       "    <tr>\n",
       "      <th>55</th>\n",
       "      <td>Dominguez Hills</td>\n",
       "    </tr>\n",
       "    <tr>\n",
       "      <th>05</th>\n",
       "      <td>East Bay</td>\n",
       "    </tr>\n",
       "    <tr>\n",
       "      <th>25</th>\n",
       "      <td>Fresno</td>\n",
       "    </tr>\n",
       "    <tr>\n",
       "      <th>50</th>\n",
       "      <td>Fullerton</td>\n",
       "    </tr>\n",
       "    <tr>\n",
       "      <th>30</th>\n",
       "      <td>Humboldt</td>\n",
       "    </tr>\n",
       "    <tr>\n",
       "      <th>40</th>\n",
       "      <td>Long Beach</td>\n",
       "    </tr>\n",
       "    <tr>\n",
       "      <th>45</th>\n",
       "      <td>Los Angeles</td>\n",
       "    </tr>\n",
       "    <tr>\n",
       "      <th>06</th>\n",
       "      <td>Monterey Bay</td>\n",
       "    </tr>\n",
       "    <tr>\n",
       "      <th>70</th>\n",
       "      <td>Northridge</td>\n",
       "    </tr>\n",
       "    <tr>\n",
       "      <th>10</th>\n",
       "      <td>Pomona</td>\n",
       "    </tr>\n",
       "    <tr>\n",
       "      <th>60</th>\n",
       "      <td>Sacramento</td>\n",
       "    </tr>\n",
       "    <tr>\n",
       "      <th>63</th>\n",
       "      <td>San Bernardino</td>\n",
       "    </tr>\n",
       "    <tr>\n",
       "      <th>65</th>\n",
       "      <td>San Diego</td>\n",
       "    </tr>\n",
       "    <tr>\n",
       "      <th>75</th>\n",
       "      <td>San Francisco</td>\n",
       "    </tr>\n",
       "    <tr>\n",
       "      <th>80</th>\n",
       "      <td>San Jose</td>\n",
       "    </tr>\n",
       "    <tr>\n",
       "      <th>15</th>\n",
       "      <td>San Luis Obispo</td>\n",
       "    </tr>\n",
       "    <tr>\n",
       "      <th>68</th>\n",
       "      <td>San Marcos</td>\n",
       "    </tr>\n",
       "    <tr>\n",
       "      <th>85</th>\n",
       "      <td>Sonoma</td>\n",
       "    </tr>\n",
       "    <tr>\n",
       "      <th>90</th>\n",
       "      <td>Stanislaus</td>\n",
       "    </tr>\n",
       "    <tr>\n",
       "      <th>96</th>\n",
       "      <td>CalStateTEACH</td>\n",
       "    </tr>\n",
       "  </tbody>\n",
       "</table>\n",
       "</div>"
      ],
      "text/plain": [
       "        campus_name\n",
       "35      Bakersfield\n",
       "73  Channel Islands\n",
       "20            Chico\n",
       "55  Dominguez Hills\n",
       "05         East Bay\n",
       "25           Fresno\n",
       "50        Fullerton\n",
       "30         Humboldt\n",
       "40       Long Beach\n",
       "45      Los Angeles\n",
       "06     Monterey Bay\n",
       "70       Northridge\n",
       "10           Pomona\n",
       "60       Sacramento\n",
       "63   San Bernardino\n",
       "65        San Diego\n",
       "75    San Francisco\n",
       "80         San Jose\n",
       "15  San Luis Obispo\n",
       "68       San Marcos\n",
       "85           Sonoma\n",
       "90       Stanislaus\n",
       "96    CalStateTEACH"
      ]
     },
     "execution_count": 149,
     "metadata": {},
     "output_type": "execute_result"
    }
   ],
   "source": [
    "csu_campus_name_df.reset_index()\n",
    "csu_campus_name_df.rename(columns={\"index\": \"campus_code\"}).reset_index()\n",
    "csu_campus_name_df.rename(columns={\"index\": \"campus_code\"})"
   ]
  },
  {
   "cell_type": "code",
   "execution_count": 150,
   "metadata": {},
   "outputs": [],
   "source": [
    "df_2021_fall = df[(df['erss_year'] == 2021) &\n",
    " (df['erss_term'] == 4) &\n",
    " (df['erss_cred_stat'].isin(['4', '5', '6', '8', 'V']))]"
   ]
  },
  {
   "cell_type": "code",
   "execution_count": 151,
   "metadata": {},
   "outputs": [],
   "source": [
    "# load in credential objective lookup table\n",
    "df_lookup = pd.read_excel(\"..\\data\\credential_objective_lookup\\erss_cred_obj_lookup.xlsx\", sheet_name = \"edq_version\")"
   ]
  },
  {
   "cell_type": "code",
   "execution_count": 152,
   "metadata": {},
   "outputs": [],
   "source": [
    "# load in campus names and campus codes\n",
    "df_campus_codes = pd.read_excel(\"..\\data\\campus_codes\\campus_codes_and_names.xlsx\")"
   ]
  },
  {
   "cell_type": "code",
   "execution_count": 153,
   "metadata": {},
   "outputs": [],
   "source": [
    "df_lookup['erss_cred_obj']=df_lookup['erss_cred_obj'].astype(int)"
   ]
  },
  {
   "cell_type": "code",
   "execution_count": 154,
   "metadata": {},
   "outputs": [],
   "source": [
    "# left join the program type onto the main DataFrame\n",
    "df_2021_combined = pd.merge(df_2021_fall, df_lookup, left_on = \"erss_cred_obj\", right_on = \"erss_cred_obj\",how = 'left')"
   ]
  },
  {
   "cell_type": "code",
   "execution_count": 155,
   "metadata": {},
   "outputs": [
    {
     "data": {
      "text/plain": [
       "MS    5327\n",
       "SS    4384\n",
       "ES    2323\n",
       "Name: code_value, dtype: int64"
      ]
     },
     "execution_count": 155,
     "metadata": {},
     "output_type": "execute_result"
    }
   ],
   "source": [
    "df_2021_combined[\"code_value\"].value_counts()"
   ]
  },
  {
   "cell_type": "code",
   "execution_count": 156,
   "metadata": {},
   "outputs": [],
   "source": [
    "# left join the campus names onto the main DataFrame\n",
    "df_2021_combined_names = pd.merge(df_2021_combined, df_campus_codes, left_on = \"erss_campus\", right_on = \"campus_code\",how = 'left')"
   ]
  },
  {
   "cell_type": "code",
   "execution_count": 157,
   "metadata": {},
   "outputs": [],
   "source": [
    "df_2021_combined_names_MS_SS_ES_only = df_2021_combined_names[df_2021_combined_names[\"code_value\"].isin(['MS','SS','ES'])]"
   ]
  },
  {
   "cell_type": "code",
   "execution_count": 158,
   "metadata": {},
   "outputs": [],
   "source": [
    "df_2021_combined_names_MS_SS_ES_only.to_csv(\"..\\data\\output\\erss_2021_2022.csv\")"
   ]
  },
  {
   "cell_type": "code",
   "execution_count": 159,
   "metadata": {},
   "outputs": [
    {
     "data": {
      "text/plain": [
       "2323"
      ]
     },
     "execution_count": 159,
     "metadata": {},
     "output_type": "execute_result"
    }
   ],
   "source": [
    "# look at ES only\n",
    "df_es_only = df_2021_combined_names_MS_SS_ES_only[(df_2021_combined_names_MS_SS_ES_only[\"code_value\"] == 'ES')]\n",
    "len(df_es_only)"
   ]
  },
  {
   "cell_type": "code",
   "execution_count": 186,
   "metadata": {},
   "outputs": [
    {
     "data": {
      "text/plain": [
       "481.0    1340\n",
       "482.0     528\n",
       "436.0     338\n",
       "483.0      63\n",
       "485.0      34\n",
       "410.0       4\n",
       "490.0       4\n",
       "415.0       3\n",
       "430.0       2\n",
       "484.0       1\n",
       "463.0       1\n",
       "Name: erss_cred_obj, dtype: int64"
      ]
     },
     "execution_count": 186,
     "metadata": {},
     "output_type": "execute_result"
    }
   ],
   "source": [
    "# 400, 436, 481. 482, 483, 484, 485, 486, 487, 490\n",
    "df_es_only.erss_cred_obj.value_counts()\n",
    "# 410, 415, 430 (early childhood), 463 "
   ]
  },
  {
   "cell_type": "code",
   "execution_count": 187,
   "metadata": {},
   "outputs": [
    {
     "data": {
      "text/plain": [
       "2309"
      ]
     },
     "execution_count": 187,
     "metadata": {},
     "output_type": "execute_result"
    }
   ],
   "source": [
    "1340+528+338+63+35+4+1"
   ]
  },
  {
   "cell_type": "code",
   "execution_count": 163,
   "metadata": {},
   "outputs": [
    {
     "data": {
      "text/plain": [
       "12034"
      ]
     },
     "execution_count": 163,
     "metadata": {},
     "output_type": "execute_result"
    }
   ],
   "source": [
    "len(df_2021_combined_names_MS_SS_ES_only)"
   ]
  },
  {
   "cell_type": "code",
   "execution_count": 164,
   "metadata": {},
   "outputs": [
    {
     "data": {
      "text/plain": [
       "5    11002\n",
       "8      724\n",
       "4      194\n",
       "V       96\n",
       "6       18\n",
       "Name: erss_cred_stat, dtype: int64"
      ]
     },
     "execution_count": 164,
     "metadata": {},
     "output_type": "execute_result"
    }
   ],
   "source": [
    "df_2021_combined_names_MS_SS_ES_only.erss_cred_stat.value_counts()"
   ]
  },
  {
   "cell_type": "code",
   "execution_count": 165,
   "metadata": {},
   "outputs": [
    {
     "data": {
      "text/plain": [
       "7    5955\n",
       "1    3635\n",
       "4    1162\n",
       "8     536\n",
       "6     395\n",
       "2     310\n",
       "3      28\n",
       "5      13\n",
       "Name: erss_ipeds_race_catg, dtype: int64"
      ]
     },
     "execution_count": 165,
     "metadata": {},
     "output_type": "execute_result"
    }
   ],
   "source": [
    "# Ethnicity\n",
    "df_2021_combined_names_MS_SS_ES_only.erss_ipeds_race_catg.value_counts()"
   ]
  },
  {
   "cell_type": "code",
   "execution_count": 166,
   "metadata": {},
   "outputs": [
    {
     "data": {
      "text/plain": [
       "F    8926\n",
       "M    3097\n",
       "N      11\n",
       "Name: erss_sex, dtype: int64"
      ]
     },
     "execution_count": 166,
     "metadata": {},
     "output_type": "execute_result"
    }
   ],
   "source": [
    "df_2021_combined_names_MS_SS_ES_only.erss_sex.value_counts()"
   ]
  },
  {
   "cell_type": "code",
   "execution_count": 167,
   "metadata": {},
   "outputs": [
    {
     "data": {
      "text/plain": [
       "1    4969\n",
       "5    4148\n",
       "2     452\n",
       "4     129\n",
       "3      13\n",
       "Name: erss_enroll_stat, dtype: int64"
      ]
     },
     "execution_count": 167,
     "metadata": {},
     "output_type": "execute_result"
    }
   ],
   "source": [
    "df_ms_ss_only.erss_enroll_stat.value_counts()"
   ]
  },
  {
   "cell_type": "code",
   "execution_count": 174,
   "metadata": {},
   "outputs": [
    {
     "data": {
      "text/plain": [
       "9711"
      ]
     },
     "execution_count": 174,
     "metadata": {},
     "output_type": "execute_result"
    }
   ],
   "source": [
    "# take out ES students, then look at first-time numbers\n",
    "# look at ES only\n",
    "df_ms_ss_only = df_2021_combined_names_MS_SS_ES_only[(df_2021_combined_names_MS_SS_ES_only[\"code_value\"] == 'SS') | (df_2021_combined_names_MS_SS_ES_only[\"code_value\"] == 'MS') ]\n",
    "len(df_ms_ss_only)"
   ]
  },
  {
   "cell_type": "code",
   "execution_count": 175,
   "metadata": {},
   "outputs": [],
   "source": [
    "# Mapping of erss fields to dashboard filters.\n",
    "\n",
    "# CAMPUS: erss_campus which is a 2-digit code\n",
    "# CREDENTIAL TYPE: erss_cred_obj mapped to SourceCode (MS, ES, and SS flag) using the \"Credential and Subject Matter Waiver Objective\" data dictionary definition\n",
    "# ***CREDENTIAL OBJECTIVE***: erss_cred_obj CREDENTIAL TYPE is built off of this. Provides specific credential objective. primary California public school credential or Subject Matter waiver objective of the applicant\n",
    "# PATHWAY: REGULAR OR INTERNSHIP - erss_cred_stat depends on CRED_STAT field\n",
    "# ENTRY COHORT: erss_year and erss_term. Depends on earliest enrollment record. \n",
    "# STUDENT LEVEL: erss_stud_lev.\"Grade Level\" in the EnrollmentProgression view. ITEP == Integrated Teacher Educator Education Program.\n",
    "# GENDER: erss_sex. M, F, or N. IR & A does NOT show non-binary as an option.\n",
    "# FIRST GENERATION STATUS: Comes from \"PARENT/GUARDIAN #1 EDUCATION CODE\" in ERSA. Not suggested for use.\n",
    "# BREAKDOWN BY: \"Race/Ethnicity\". erss_ipeds_race_catg. Differes from IR & A who have a value for \"International Student\"\n",
    "\n",
    "## Post Completion Page only\n",
    "# CREDENTIAL LEVEL: Hard to understand where this is coming from.\n",
    "# COMPLETION YEAR: I suggest that we use the year of completion from the completer lists.\n",
    "\n",
    "### New or continuing student? erss_enroll_stat"
   ]
  },
  {
   "cell_type": "code",
   "execution_count": 176,
   "metadata": {},
   "outputs": [
    {
     "name": "stderr",
     "output_type": "stream",
     "text": [
      "C:\\Users\\jluong\\AppData\\Local\\Temp\\ipykernel_3164\\2798604719.py:1: DtypeWarning: Columns (30,36) have mixed types. Specify dtype option on import or set low_memory=False.\n",
      "  df_2020_2021_benchmark = pd.read_csv(\"..\\data\\erss\\ERSS_20203_20212_211020.csv\")\n"
     ]
    }
   ],
   "source": [
    "df_2020_2021_benchmark = pd.read_csv(\"..\\data\\erss\\ERSS_20203_20212_211020.csv\")"
   ]
  },
  {
   "cell_type": "code",
   "execution_count": 177,
   "metadata": {},
   "outputs": [],
   "source": [
    "df_2020_2021 = pd.read_csv(\"..\\data\\erss\\ERSS_20203_20212_211020.csv\", dtype={'erss_cred_stat': str, 'erss_ethnic_old': str, 'erss_cred_emph': str, 'erss_spec_prog' :str})"
   ]
  },
  {
   "cell_type": "code",
   "execution_count": 178,
   "metadata": {},
   "outputs": [],
   "source": [
    "# check: one more year of data for Fall 2020\n",
    "\n",
    "df_2020_2021 = pd.read_csv(\"..\\data\\erss\\ERSS_20203_20212_211020.csv\", dtype={'erss_cred_stat': str, 'erss_ethnic_old': str, 'erss_cred_emph': str, 'erss_spec_prog' :str})"
   ]
  },
  {
   "cell_type": "code",
   "execution_count": 179,
   "metadata": {},
   "outputs": [],
   "source": [
    "df_2020_fall = df_2020_2021[(df_2020_2021['erss_year'] == 2020) &\n",
    " (df_2020_2021['erss_term'] == 4) &\n",
    " (df_2020_2021['erss_cred_stat'].isin(['4', '5', '6', '8', 'V']))]"
   ]
  },
  {
   "cell_type": "code",
   "execution_count": 180,
   "metadata": {},
   "outputs": [],
   "source": [
    "# left join the program type onto the main DataFrame\n",
    "df_2020_combined = pd.merge(df_2020_fall, df_lookup, left_on = \"erss_cred_obj\", right_on = \"erss_cred_obj\",how = 'left')"
   ]
  },
  {
   "cell_type": "code",
   "execution_count": 181,
   "metadata": {},
   "outputs": [
    {
     "data": {
      "text/plain": [
       "MS    5162\n",
       "SS    3889\n",
       "ES    2318\n",
       "Name: code_value, dtype: int64"
      ]
     },
     "execution_count": 181,
     "metadata": {},
     "output_type": "execute_result"
    }
   ],
   "source": [
    "df_2020_combined[\"code_value\"].value_counts()"
   ]
  },
  {
   "cell_type": "code",
   "execution_count": 182,
   "metadata": {},
   "outputs": [],
   "source": [
    "df_es_only = df_2020_combined[(df_2020_combined[\"code_value\"] == 'ES')]"
   ]
  },
  {
   "cell_type": "code",
   "execution_count": 183,
   "metadata": {},
   "outputs": [
    {
     "data": {
      "text/plain": [
       "Mild/Moderate Disabilities (2010)                              1340\n",
       "Moderate/Severe Disabilities (2010)                             528\n",
       "Early Childhood Special Education (2010)                        338\n",
       "Visual Impairments (2010)                                        63\n",
       "Deaf and Hard of Hearing (2010)                                  34\n",
       "Reading Language Arts Specialist                                  4\n",
       "Adapted Physical Education                                        4\n",
       "Reading Certificate                                               3\n",
       "Early Childhood Education Specialist (retiring Summer 2023)       2\n",
       "Physical and Health Impairments (2010)                            1\n",
       "Learning Handicapped                                              1\n",
       "Name: description, dtype: int64"
      ]
     },
     "execution_count": 183,
     "metadata": {},
     "output_type": "execute_result"
    }
   ],
   "source": [
    "df_es_only[\"description\"].value_counts()"
   ]
  },
  {
   "cell_type": "code",
   "execution_count": 184,
   "metadata": {},
   "outputs": [
    {
     "data": {
      "text/plain": [
       "481.0    1340\n",
       "482.0     528\n",
       "436.0     338\n",
       "483.0      63\n",
       "485.0      34\n",
       "410.0       4\n",
       "490.0       4\n",
       "415.0       3\n",
       "430.0       2\n",
       "484.0       1\n",
       "463.0       1\n",
       "Name: erss_cred_obj, dtype: int64"
      ]
     },
     "execution_count": 184,
     "metadata": {},
     "output_type": "execute_result"
    }
   ],
   "source": [
    "df_es_only[\"erss_cred_obj\"].value_counts()"
   ]
  },
  {
   "cell_type": "code",
   "execution_count": 185,
   "metadata": {},
   "outputs": [
    {
     "ename": "KeyError",
     "evalue": "'Descriptor.CodeValue'",
     "output_type": "error",
     "traceback": [
      "\u001b[1;31m---------------------------------------------------------------------------\u001b[0m",
      "\u001b[1;31mKeyError\u001b[0m                                  Traceback (most recent call last)",
      "File \u001b[1;32mc:\\Users\\jluong\\Miniconda3\\envs\\minimal_ds\\lib\\site-packages\\pandas\\core\\indexes\\base.py:3621\u001b[0m, in \u001b[0;36mIndex.get_loc\u001b[1;34m(self, key, method, tolerance)\u001b[0m\n\u001b[0;32m   3620\u001b[0m \u001b[38;5;28;01mtry\u001b[39;00m:\n\u001b[1;32m-> 3621\u001b[0m     \u001b[38;5;28;01mreturn\u001b[39;00m \u001b[38;5;28;43mself\u001b[39;49m\u001b[38;5;241;43m.\u001b[39;49m\u001b[43m_engine\u001b[49m\u001b[38;5;241;43m.\u001b[39;49m\u001b[43mget_loc\u001b[49m\u001b[43m(\u001b[49m\u001b[43mcasted_key\u001b[49m\u001b[43m)\u001b[49m\n\u001b[0;32m   3622\u001b[0m \u001b[38;5;28;01mexcept\u001b[39;00m \u001b[38;5;167;01mKeyError\u001b[39;00m \u001b[38;5;28;01mas\u001b[39;00m err:\n",
      "File \u001b[1;32mc:\\Users\\jluong\\Miniconda3\\envs\\minimal_ds\\lib\\site-packages\\pandas\\_libs\\index.pyx:136\u001b[0m, in \u001b[0;36mpandas._libs.index.IndexEngine.get_loc\u001b[1;34m()\u001b[0m\n",
      "File \u001b[1;32mc:\\Users\\jluong\\Miniconda3\\envs\\minimal_ds\\lib\\site-packages\\pandas\\_libs\\index.pyx:163\u001b[0m, in \u001b[0;36mpandas._libs.index.IndexEngine.get_loc\u001b[1;34m()\u001b[0m\n",
      "File \u001b[1;32mpandas\\_libs\\hashtable_class_helper.pxi:5198\u001b[0m, in \u001b[0;36mpandas._libs.hashtable.PyObjectHashTable.get_item\u001b[1;34m()\u001b[0m\n",
      "File \u001b[1;32mpandas\\_libs\\hashtable_class_helper.pxi:5206\u001b[0m, in \u001b[0;36mpandas._libs.hashtable.PyObjectHashTable.get_item\u001b[1;34m()\u001b[0m\n",
      "\u001b[1;31mKeyError\u001b[0m: 'Descriptor.CodeValue'",
      "\nThe above exception was the direct cause of the following exception:\n",
      "\u001b[1;31mKeyError\u001b[0m                                  Traceback (most recent call last)",
      "Input \u001b[1;32mIn [185]\u001b[0m, in \u001b[0;36m<module>\u001b[1;34m\u001b[0m\n\u001b[1;32m----> 1\u001b[0m df_es_only_2 \u001b[38;5;241m=\u001b[39m df_2021_combined[(\u001b[43mdf_2021_combined\u001b[49m\u001b[43m[\u001b[49m\u001b[38;5;124;43m\"\u001b[39;49m\u001b[38;5;124;43mDescriptor.CodeValue\u001b[39;49m\u001b[38;5;124;43m\"\u001b[39;49m\u001b[43m]\u001b[49m \u001b[38;5;241m==\u001b[39m \u001b[38;5;124m'\u001b[39m\u001b[38;5;124mES\u001b[39m\u001b[38;5;124m'\u001b[39m)]\n",
      "File \u001b[1;32mc:\\Users\\jluong\\Miniconda3\\envs\\minimal_ds\\lib\\site-packages\\pandas\\core\\frame.py:3505\u001b[0m, in \u001b[0;36mDataFrame.__getitem__\u001b[1;34m(self, key)\u001b[0m\n\u001b[0;32m   3503\u001b[0m \u001b[38;5;28;01mif\u001b[39;00m \u001b[38;5;28mself\u001b[39m\u001b[38;5;241m.\u001b[39mcolumns\u001b[38;5;241m.\u001b[39mnlevels \u001b[38;5;241m>\u001b[39m \u001b[38;5;241m1\u001b[39m:\n\u001b[0;32m   3504\u001b[0m     \u001b[38;5;28;01mreturn\u001b[39;00m \u001b[38;5;28mself\u001b[39m\u001b[38;5;241m.\u001b[39m_getitem_multilevel(key)\n\u001b[1;32m-> 3505\u001b[0m indexer \u001b[38;5;241m=\u001b[39m \u001b[38;5;28;43mself\u001b[39;49m\u001b[38;5;241;43m.\u001b[39;49m\u001b[43mcolumns\u001b[49m\u001b[38;5;241;43m.\u001b[39;49m\u001b[43mget_loc\u001b[49m\u001b[43m(\u001b[49m\u001b[43mkey\u001b[49m\u001b[43m)\u001b[49m\n\u001b[0;32m   3506\u001b[0m \u001b[38;5;28;01mif\u001b[39;00m is_integer(indexer):\n\u001b[0;32m   3507\u001b[0m     indexer \u001b[38;5;241m=\u001b[39m [indexer]\n",
      "File \u001b[1;32mc:\\Users\\jluong\\Miniconda3\\envs\\minimal_ds\\lib\\site-packages\\pandas\\core\\indexes\\base.py:3623\u001b[0m, in \u001b[0;36mIndex.get_loc\u001b[1;34m(self, key, method, tolerance)\u001b[0m\n\u001b[0;32m   3621\u001b[0m     \u001b[38;5;28;01mreturn\u001b[39;00m \u001b[38;5;28mself\u001b[39m\u001b[38;5;241m.\u001b[39m_engine\u001b[38;5;241m.\u001b[39mget_loc(casted_key)\n\u001b[0;32m   3622\u001b[0m \u001b[38;5;28;01mexcept\u001b[39;00m \u001b[38;5;167;01mKeyError\u001b[39;00m \u001b[38;5;28;01mas\u001b[39;00m err:\n\u001b[1;32m-> 3623\u001b[0m     \u001b[38;5;28;01mraise\u001b[39;00m \u001b[38;5;167;01mKeyError\u001b[39;00m(key) \u001b[38;5;28;01mfrom\u001b[39;00m \u001b[38;5;21;01merr\u001b[39;00m\n\u001b[0;32m   3624\u001b[0m \u001b[38;5;28;01mexcept\u001b[39;00m \u001b[38;5;167;01mTypeError\u001b[39;00m:\n\u001b[0;32m   3625\u001b[0m     \u001b[38;5;66;03m# If we have a listlike key, _check_indexing_error will raise\u001b[39;00m\n\u001b[0;32m   3626\u001b[0m     \u001b[38;5;66;03m#  InvalidIndexError. Otherwise we fall through and re-raise\u001b[39;00m\n\u001b[0;32m   3627\u001b[0m     \u001b[38;5;66;03m#  the TypeError.\u001b[39;00m\n\u001b[0;32m   3628\u001b[0m     \u001b[38;5;28mself\u001b[39m\u001b[38;5;241m.\u001b[39m_check_indexing_error(key)\n",
      "\u001b[1;31mKeyError\u001b[0m: 'Descriptor.CodeValue'"
     ]
    }
   ],
   "source": [
    "df_es_only_2 = df_2021_combined[(df_2021_combined[\"Descriptor.CodeValue\"] == 'ES')]"
   ]
  },
  {
   "cell_type": "code",
   "execution_count": null,
   "metadata": {},
   "outputs": [
    {
     "data": {
      "text/plain": [
       "481    1339\n",
       "482     503\n",
       "436     329\n",
       "483      76\n",
       "485      36\n",
       "410      23\n",
       "490      14\n",
       "Name: SourceCode, dtype: int64"
      ]
     },
     "execution_count": 69,
     "metadata": {},
     "output_type": "execute_result"
    }
   ],
   "source": [
    "df_es_only_2[\"SourceCode\"].value_counts()"
   ]
  },
  {
   "cell_type": "code",
   "execution_count": null,
   "metadata": {},
   "outputs": [],
   "source": [
    "# Could SourceCode == 410 not be counted by IR & A for the Education Specialist counts?"
   ]
  },
  {
   "cell_type": "code",
   "execution_count": null,
   "metadata": {},
   "outputs": [],
   "source": []
  }
 ],
 "metadata": {
  "kernelspec": {
   "display_name": "minimal_ds",
   "language": "python",
   "name": "python3"
  },
  "language_info": {
   "codemirror_mode": {
    "name": "ipython",
    "version": 3
   },
   "file_extension": ".py",
   "mimetype": "text/x-python",
   "name": "python",
   "nbconvert_exporter": "python",
   "pygments_lexer": "ipython3",
   "version": "3.10.2"
  }
 },
 "nbformat": 4,
 "nbformat_minor": 2
}
