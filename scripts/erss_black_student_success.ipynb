{
 "cells": [
  {
   "cell_type": "code",
   "execution_count": 1,
   "metadata": {},
   "outputs": [],
   "source": [
    "# Business logic applied to ERSS file:\n",
    "# We take a distinct count of a primary key based on an obfuscated SSN.\n",
    "# 0. Deduplicate the records based on calStateEduPersonUID (there doesn't seem to be any duplicates based on ID, Year, and Term.)\n",
    "# 1. erss_campus NOT IN (7, 97, 93): This includes all campuses including CalStateTEACH with an educator preparation program\n",
    "# 2. erss_cred_stat IN ('4','5','6','8', 'V'): This identifies students in a teaching credential program\n",
    "# 3. erss_year = 2021: Chosen to align with erss year 2021 in the Teaching Credentials Enrollment Dashboard\n",
    "# 4. erss_term = 4: Chosen to align with the Fall term in the Teaching Credentials Enrollment Dashboard\n",
    "# 5. erss_cred_obj mapped to SourceCode (MS, ES, and SS flag) using the \"Credential and Subject Matter Waiver Objective\" data dictionary definition\n",
    "\n",
    "# For NEW students:\n",
    "# 6. [\"erss_enroll_stat\"].isin([4,5])]"
   ]
  },
  {
   "cell_type": "code",
   "execution_count": 2,
   "metadata": {},
   "outputs": [],
   "source": [
    "# to format using black\n",
    "# black scripts\\erss_black_student_success.ipynb"
   ]
  },
  {
   "cell_type": "markdown",
   "metadata": {},
   "source": [
    "# Load in libraries"
   ]
  },
  {
   "cell_type": "code",
   "execution_count": 1,
   "metadata": {},
   "outputs": [],
   "source": [
    "# import pandas and pandasql libraries\n",
    "import pandas as pd\n",
    "from pandasql import sqldf"
   ]
  },
  {
   "cell_type": "markdown",
   "metadata": {},
   "source": [
    "# Part 1: Load in raw enrollment data for AY 2021-2022"
   ]
  },
  {
   "cell_type": "code",
   "execution_count": 5,
   "metadata": {},
   "outputs": [
    {
     "name": "stderr",
     "output_type": "stream",
     "text": [
      "<>:3: SyntaxWarning: invalid escape sequence '\\d'\n",
      "<>:3: SyntaxWarning: invalid escape sequence '\\d'\n",
      "C:\\Users\\jluong\\AppData\\Local\\Temp\\ipykernel_18212\\2299733542.py:3: SyntaxWarning: invalid escape sequence '\\d'\n",
      "  \"..\\data\\erss\\ERSS_20213_20222_221215.csv\",\n"
     ]
    }
   ],
   "source": [
    "# read in raw data\n",
    "df = pd.read_csv(\n",
    "    \"..\\data\\erss\\ERSS_20213_20222_221215.csv\",\n",
    "    dtype={\n",
    "        \"erss_cred_stat\": str,\n",
    "        \"erss_ethnic_old\": str,\n",
    "        \"erss_cred_emph\": str,\n",
    "        \"erss_spec_prog\": str,\n",
    "    },\n",
    ")"
   ]
  },
  {
   "cell_type": "markdown",
   "metadata": {},
   "source": [
    "## 1a: Load in credential objective lookup table\n",
    "- Used to determine MS,ES,SS down the line"
   ]
  },
  {
   "cell_type": "code",
   "execution_count": 6,
   "metadata": {},
   "outputs": [
    {
     "name": "stderr",
     "output_type": "stream",
     "text": [
      "<>:3: SyntaxWarning: invalid escape sequence '\\d'\n",
      "<>:3: SyntaxWarning: invalid escape sequence '\\d'\n",
      "C:\\Users\\jluong\\AppData\\Local\\Temp\\ipykernel_18212\\1471605555.py:3: SyntaxWarning: invalid escape sequence '\\d'\n",
      "  \"..\\data\\credential_objective_lookup\\erss_cred_obj_lookup.xlsx\",\n"
     ]
    }
   ],
   "source": [
    "# load in credential objective lookup table\n",
    "df_lookup = pd.read_excel(\n",
    "    \"..\\data\\credential_objective_lookup\\erss_cred_obj_lookup.xlsx\",\n",
    "    sheet_name=\"appendix_c_ir\",\n",
    ")"
   ]
  },
  {
   "cell_type": "code",
   "execution_count": 9,
   "metadata": {},
   "outputs": [],
   "source": [
    "# change datatype of erss_cred_obj to int so it can be joined on the erss table\n",
    "df_lookup[\"erss_cred_obj\"] = df_lookup[\"erss_cred_obj\"].astype(int)"
   ]
  },
  {
   "cell_type": "markdown",
   "metadata": {},
   "source": [
    "## 1b: Load in campus names and codes lookup table\n",
    "- Used to attach campus names to records"
   ]
  },
  {
   "cell_type": "code",
   "execution_count": 8,
   "metadata": {},
   "outputs": [
    {
     "name": "stderr",
     "output_type": "stream",
     "text": [
      "<>:2: SyntaxWarning: invalid escape sequence '\\d'\n",
      "<>:2: SyntaxWarning: invalid escape sequence '\\d'\n",
      "C:\\Users\\jluong\\AppData\\Local\\Temp\\ipykernel_18212\\2539122274.py:2: SyntaxWarning: invalid escape sequence '\\d'\n",
      "  df_campus_codes = pd.read_excel(\"..\\data\\campus_codes\\campus_codes_and_names.xlsx\")\n"
     ]
    }
   ],
   "source": [
    "# load in campus names and campus codes\n",
    "df_campus_codes = pd.read_excel(\"..\\data\\campus_codes\\campus_codes_and_names.xlsx\")"
   ]
  },
  {
   "cell_type": "markdown",
   "metadata": {},
   "source": [
    "# Part 2: Separate out records into INTERN, INTEGRATED, UNDERGRAD in REGULAR PROGRAMS, and POSTBACCs + GRADUATEs in REGULAR PROGRAMS"
   ]
  },
  {
   "cell_type": "markdown",
   "metadata": {},
   "source": [
    "## 2a: INTERN"
   ]
  },
  {
   "cell_type": "code",
   "execution_count": 10,
   "metadata": {},
   "outputs": [],
   "source": [
    "# recreate intern only\n",
    "## filter down to teacher credential enrollments\n",
    "df_2021_fall_intern = df[\n",
    "    (df[\"erss_year\"] == 2021)\n",
    "    & (df[\"erss_term\"] == 4)\n",
    "    & (df[\"erss_cred_stat\"].isin([\"8\"]))\n",
    "    & (df[\"erss_stud_lev\"] == 5)\n",
    "]"
   ]
  },
  {
   "cell_type": "code",
   "execution_count": 11,
   "metadata": {},
   "outputs": [],
   "source": [
    "# left join the program type onto the main DataFrame\n",
    "df_2021_combined_intern = pd.merge(\n",
    "    df_2021_fall_intern,\n",
    "    df_lookup,\n",
    "    left_on=\"erss_cred_obj\",\n",
    "    right_on=\"erss_cred_obj\",\n",
    "    how=\"left\",\n",
    ")"
   ]
  },
  {
   "cell_type": "code",
   "execution_count": 12,
   "metadata": {},
   "outputs": [
    {
     "data": {
      "text/plain": [
       "code_value\n",
       "ES       348\n",
       "SS       209\n",
       "MS       167\n",
       "Other     20\n",
       "Name: count, dtype: int64"
      ]
     },
     "execution_count": 12,
     "metadata": {},
     "output_type": "execute_result"
    }
   ],
   "source": [
    "df_2021_combined_intern[\"code_value\"].value_counts()"
   ]
  },
  {
   "cell_type": "markdown",
   "metadata": {},
   "source": [
    "## 2b: INTEGRATED"
   ]
  },
  {
   "cell_type": "code",
   "execution_count": 13,
   "metadata": {},
   "outputs": [],
   "source": [
    "# recreate integrated only\n",
    "## filter down to teacher credential enrollments\n",
    "df_2021_fall_integ = df[\n",
    "    (df[\"erss_year\"] == 2021)\n",
    "    & (df[\"erss_term\"] == 4)\n",
    "    & (df[\"erss_cred_stat\"].isin([\"5\", \"6\"]))\n",
    "    & (df[\"erss_stud_lev\"].isin([3, 4]))\n",
    "    & (df[\"erss_stud_stand\"].isin([\"B\"]))\n",
    "]"
   ]
  },
  {
   "cell_type": "code",
   "execution_count": 14,
   "metadata": {},
   "outputs": [],
   "source": [
    "# left join the program type onto the main DataFrame\n",
    "df_2021_combined_integ = pd.merge(\n",
    "    df_2021_fall_integ,\n",
    "    df_lookup,\n",
    "    left_on=\"erss_cred_obj\",\n",
    "    right_on=\"erss_cred_obj\",\n",
    "    how=\"left\",\n",
    ")"
   ]
  },
  {
   "cell_type": "code",
   "execution_count": 15,
   "metadata": {},
   "outputs": [
    {
     "data": {
      "text/plain": [
       "code_value\n",
       "MS    510\n",
       "ES     53\n",
       "SS     52\n",
       "Name: count, dtype: int64"
      ]
     },
     "execution_count": 15,
     "metadata": {},
     "output_type": "execute_result"
    }
   ],
   "source": [
    "df_2021_combined_integ[\"code_value\"].value_counts()"
   ]
  },
  {
   "cell_type": "markdown",
   "metadata": {},
   "source": [
    "### This means that the ES mismatch is likely due to a student in the REGULAR pool being counted."
   ]
  },
  {
   "cell_type": "markdown",
   "metadata": {},
   "source": [
    "# 2c: UNDERGRAD in REGULAR PROGRAMS"
   ]
  },
  {
   "cell_type": "code",
   "execution_count": 16,
   "metadata": {},
   "outputs": [],
   "source": [
    "## filter down to teacher credential enrollments\n",
    "## Undergrad\n",
    "## stud_lev 3 == junior\n",
    "## stud_lev 4 == senior\n",
    "\n",
    "df_2021_fall_undergrad = df[\n",
    "    (df[\"erss_year\"] == 2021)\n",
    "    & (df[\"erss_term\"] == 4)\n",
    "    & (df[\"erss_stud_lev\"].isin([3, 4]))\n",
    "    & (df[\"erss_cred_stat\"].isin([\"5\", \"6\"]))\n",
    "    & (df[\"erss_stud_stand\"].isin([\"5\"]))\n",
    "]"
   ]
  },
  {
   "cell_type": "markdown",
   "metadata": {},
   "source": [
    "## 2d: POSTBACC AND GRADUATES IN REGULAR PROGRAMS"
   ]
  },
  {
   "cell_type": "code",
   "execution_count": 17,
   "metadata": {},
   "outputs": [],
   "source": [
    "## Postbacc and graduates\n",
    "## filter down to teacher credential enrollments\n",
    "\n",
    "df_2021_fall_postbacc = df[\n",
    "    (df[\"erss_year\"] == 2021)\n",
    "    & (df[\"erss_term\"] == 4)\n",
    "    & (df[\"erss_stud_lev\"].isin([5]))\n",
    "    & (df[\"erss_cred_stat\"].isin([\"4\",\"5\", \"6\", \"V\", \"H\", \"I\", \"J\", \"K\"]))\n",
    "    & (df[\"erss_stud_stand\"].isin([\"C\", \"5\", \"1\", \"2\", \"3\", \"6\", \"7\", \"8\"]))\n",
    "]"
   ]
  },
  {
   "cell_type": "code",
   "execution_count": 18,
   "metadata": {},
   "outputs": [
    {
     "data": {
      "text/plain": [
       "erss_cred_stat\n",
       "5    11349\n",
       "4      456\n",
       "V      408\n",
       "6       30\n",
       "Name: count, dtype: int64"
      ]
     },
     "execution_count": 18,
     "metadata": {},
     "output_type": "execute_result"
    }
   ],
   "source": [
    "df_2021_fall_postbacc.erss_cred_stat.value_counts()"
   ]
  },
  {
   "cell_type": "markdown",
   "metadata": {},
   "source": [
    "# Part 3: Combine 2a: Intern and 2d: Postbacc and Graduates in regular programs"
   ]
  },
  {
   "cell_type": "code",
   "execution_count": 79,
   "metadata": {},
   "outputs": [],
   "source": [
    "# combine A) INTERN and D) postbacc/graduate table together\n",
    "# Why? Because this will only include (df[\"erss_stud_lev\"].isin([5])) aka those NOT in undergraduate programs.\n",
    "df_2021_fall = sqldf(\n",
    "    \"\"\"\n",
    "    SELECT *\n",
    "    FROM df_2021_fall_intern\n",
    "    UNION\n",
    "    SELECT * FROM df_2021_fall_postbacc\n",
    "\"\"\"\n",
    ")"
   ]
  },
  {
   "cell_type": "code",
   "execution_count": 80,
   "metadata": {},
   "outputs": [],
   "source": [
    "# left join the program type onto the main DataFrame\n",
    "df_2021_combined = pd.merge(\n",
    "    df_2021_fall,\n",
    "    df_lookup,\n",
    "    left_on=\"erss_cred_obj\",\n",
    "    right_on=\"erss_cred_obj\",\n",
    "    how=\"left\",\n",
    ")"
   ]
  },
  {
   "cell_type": "code",
   "execution_count": 81,
   "metadata": {},
   "outputs": [
    {
     "data": {
      "text/plain": [
       "code_value\n",
       "MS       4816\n",
       "SS       4302\n",
       "ES       2244\n",
       "Other    1625\n",
       "Name: count, dtype: int64"
      ]
     },
     "execution_count": 81,
     "metadata": {},
     "output_type": "execute_result"
    }
   ],
   "source": [
    "df_2021_combined[\"code_value\"].value_counts()"
   ]
  },
  {
   "cell_type": "code",
   "execution_count": 23,
   "metadata": {},
   "outputs": [
    {
     "data": {
      "text/plain": [
       "erss_stud_lev\n",
       "5    12987\n",
       "Name: count, dtype: int64"
      ]
     },
     "execution_count": 23,
     "metadata": {},
     "output_type": "execute_result"
    }
   ],
   "source": [
    "df_2021_combined[\"erss_stud_lev\"].value_counts()"
   ]
  },
  {
   "cell_type": "code",
   "execution_count": 24,
   "metadata": {},
   "outputs": [],
   "source": [
    "# left join the campus names onto the main DataFrame\n",
    "\n",
    "df_2021_combined_names = pd.merge(\n",
    "    df_2021_combined,\n",
    "    df_campus_codes,\n",
    "    left_on=\"erss_campus\",\n",
    "    right_on=\"campus_code\",\n",
    "    how=\"left\",\n",
    ")"
   ]
  },
  {
   "cell_type": "code",
   "execution_count": 25,
   "metadata": {},
   "outputs": [],
   "source": [
    "# filter down to MS, SS, ES credential type\n",
    "\n",
    "df_2021_combined_names_MS_SS_ES_only = df_2021_combined_names[\n",
    "    df_2021_combined_names[\"code_value\"].isin([\"MS\", \"SS\", \"ES\"])\n",
    "]"
   ]
  },
  {
   "cell_type": "code",
   "execution_count": 26,
   "metadata": {},
   "outputs": [
    {
     "data": {
      "text/plain": [
       "11362"
      ]
     },
     "execution_count": 26,
     "metadata": {},
     "output_type": "execute_result"
    }
   ],
   "source": [
    "len(df_2021_combined_names_MS_SS_ES_only)"
   ]
  },
  {
   "cell_type": "code",
   "execution_count": null,
   "metadata": {},
   "outputs": [],
   "source": [
    "# df_2021_combined_names_MS_SS_ES_only.campus_code.value_counts()"
   ]
  },
  {
   "cell_type": "markdown",
   "metadata": {},
   "source": [
    "### Validate enrollment counts for Monterey Bay and East Bay\n",
    "- counts seemed to be low compared to other campuses"
   ]
  },
  {
   "cell_type": "code",
   "execution_count": 28,
   "metadata": {},
   "outputs": [],
   "source": [
    "# new_students, all cred_stat\n",
    "df_2021_test = df_2021_combined_names_MS_SS_ES_only[\n",
    "    df_2021_combined_names_MS_SS_ES_only[\"erss_enroll_stat\"].isin([4, 5])\n",
    "]"
   ]
  },
  {
   "cell_type": "code",
   "execution_count": 29,
   "metadata": {},
   "outputs": [],
   "source": [
    "# race by campus\n",
    "sql_test_df= sqldf(\n",
    "    \"\"\"\n",
    "    SELECT \n",
    "        campus_name,\n",
    "        erss_cred_stat,\n",
    "        COUNT(calstateEduPersonUID) as total_records\n",
    "        FROM df_2021_test\n",
    "        WHERE campus_name IN ('Monterey Bay', 'East Bay')\n",
    "        GROUP BY \n",
    "            erss_cred_stat,\n",
    "            campus_name\n",
    "        ORDER BY \n",
    "            erss_cred_stat,\n",
    "            campus_name\n",
    "            \"\"\"\n",
    ")"
   ]
  },
  {
   "cell_type": "code",
   "execution_count": 30,
   "metadata": {},
   "outputs": [
    {
     "data": {
      "text/html": [
       "<div>\n",
       "<style scoped>\n",
       "    .dataframe tbody tr th:only-of-type {\n",
       "        vertical-align: middle;\n",
       "    }\n",
       "\n",
       "    .dataframe tbody tr th {\n",
       "        vertical-align: top;\n",
       "    }\n",
       "\n",
       "    .dataframe thead th {\n",
       "        text-align: right;\n",
       "    }\n",
       "</style>\n",
       "<table border=\"1\" class=\"dataframe\">\n",
       "  <thead>\n",
       "    <tr style=\"text-align: right;\">\n",
       "      <th></th>\n",
       "      <th>campus_name</th>\n",
       "      <th>erss_cred_stat</th>\n",
       "      <th>total_records</th>\n",
       "    </tr>\n",
       "  </thead>\n",
       "  <tbody>\n",
       "    <tr>\n",
       "      <th>0</th>\n",
       "      <td>Monterey Bay</td>\n",
       "      <td>4</td>\n",
       "      <td>11</td>\n",
       "    </tr>\n",
       "    <tr>\n",
       "      <th>1</th>\n",
       "      <td>East Bay</td>\n",
       "      <td>5</td>\n",
       "      <td>14</td>\n",
       "    </tr>\n",
       "    <tr>\n",
       "      <th>2</th>\n",
       "      <td>Monterey Bay</td>\n",
       "      <td>5</td>\n",
       "      <td>17</td>\n",
       "    </tr>\n",
       "    <tr>\n",
       "      <th>3</th>\n",
       "      <td>Monterey Bay</td>\n",
       "      <td>8</td>\n",
       "      <td>2</td>\n",
       "    </tr>\n",
       "    <tr>\n",
       "      <th>4</th>\n",
       "      <td>East Bay</td>\n",
       "      <td>V</td>\n",
       "      <td>2</td>\n",
       "    </tr>\n",
       "  </tbody>\n",
       "</table>\n",
       "</div>"
      ],
      "text/plain": [
       "    campus_name erss_cred_stat  total_records\n",
       "0  Monterey Bay              4             11\n",
       "1      East Bay              5             14\n",
       "2  Monterey Bay              5             17\n",
       "3  Monterey Bay              8              2\n",
       "4      East Bay              V              2"
      ]
     },
     "execution_count": 30,
     "metadata": {},
     "output_type": "execute_result"
    }
   ],
   "source": [
    "sql_test_df"
   ]
  },
  {
   "cell_type": "markdown",
   "metadata": {},
   "source": [
    "# Part 4: Filter down to new students only"
   ]
  },
  {
   "cell_type": "code",
   "execution_count": 31,
   "metadata": {},
   "outputs": [],
   "source": [
    "# filter down to first-time enrollments\n",
    "# first-time enrollment is defined as\n",
    "# erss_enroll_stat == 5: A student who is classified as a postbaccalaureate student for the first time,\n",
    "# who has all units attempted recorded prior to receiving the bachelor's degree. OPTION: A postbaccalaureate student with units attempted after\n",
    "# receiving the bachelor's degree who enters a graduate program can be coded as a first-time graduate student.\n",
    "# erss_enroll_stat == 4: A postbaccalaureate student new to this campus this term who has units attempted elsewhere as a postbaccalaureate student.\n",
    "\n",
    "df_2021_new_only = df_2021_combined_names_MS_SS_ES_only[\n",
    "    df_2021_combined_names_MS_SS_ES_only[\"erss_enroll_stat\"].isin([4, 5])\n",
    "    # remove those who have cred_stat = \"4\" because they already have a preliminary credential.\n",
    "    & (df_2021_combined_names_MS_SS_ES_only[\"erss_cred_stat\"].isin([\"8\",\"5\", \"6\", \"V\", \"H\", \"I\", \"J\", \"K\"]))\n",
    "]"
   ]
  },
  {
   "cell_type": "code",
   "execution_count": 32,
   "metadata": {},
   "outputs": [
    {
     "data": {
      "text/plain": [
       "erss_cred_stat\n",
       "5    4789\n",
       "8      82\n",
       "V      23\n",
       "6       7\n",
       "Name: count, dtype: int64"
      ]
     },
     "execution_count": 32,
     "metadata": {},
     "output_type": "execute_result"
    }
   ],
   "source": [
    "df_2021_new_only.erss_cred_stat.value_counts()"
   ]
  },
  {
   "cell_type": "code",
   "execution_count": 35,
   "metadata": {},
   "outputs": [
    {
     "data": {
      "text/plain": [
       "erss_ipeds_race_catg\n",
       "7    2350\n",
       "1    1629\n",
       "4     430\n",
       "8     203\n",
       "6     165\n",
       "2     109\n",
       "3       9\n",
       "5       6\n",
       "Name: count, dtype: int64"
      ]
     },
     "execution_count": 35,
     "metadata": {},
     "output_type": "execute_result"
    }
   ],
   "source": [
    "# 2 is Black\n",
    "df_2021_new_only.erss_ipeds_race_catg.value_counts()"
   ]
  },
  {
   "cell_type": "markdown",
   "metadata": {},
   "source": [
    "## 4a: Load in IPEDS Race Lookup table"
   ]
  },
  {
   "cell_type": "code",
   "execution_count": 36,
   "metadata": {},
   "outputs": [
    {
     "name": "stderr",
     "output_type": "stream",
     "text": [
      "<>:2: SyntaxWarning: invalid escape sequence '\\d'\n",
      "<>:2: SyntaxWarning: invalid escape sequence '\\d'\n",
      "C:\\Users\\jluong\\AppData\\Local\\Temp\\ipykernel_18212\\4264161771.py:2: SyntaxWarning: invalid escape sequence '\\d'\n",
      "  ipeds_race_df = pd.read_excel(\"..\\data\\ipeds_race_lookup\\ipeds_race_lookup.xlsx\")\n"
     ]
    }
   ],
   "source": [
    "# read in ipeds lookup table\n",
    "ipeds_race_df = pd.read_excel(\"..\\data\\ipeds_race_lookup\\ipeds_race_lookup.xlsx\")"
   ]
  },
  {
   "cell_type": "code",
   "execution_count": 37,
   "metadata": {},
   "outputs": [],
   "source": [
    "# join race descriptions onto the DataFrame\n",
    "df_2021_new_race = pd.merge(\n",
    "    df_2021_new_only,\n",
    "    ipeds_race_df,\n",
    "    left_on=\"erss_ipeds_race_catg\",\n",
    "    right_on=\"ipeds_value\",\n",
    "    how=\"left\",\n",
    ")"
   ]
  },
  {
   "cell_type": "code",
   "execution_count": 38,
   "metadata": {},
   "outputs": [
    {
     "data": {
      "text/plain": [
       "race_description\n",
       "Hispanic/Latino                              2350\n",
       "White                                        1629\n",
       "Asian                                         430\n",
       "Unknown                                       203\n",
       "Two or More Races                             165\n",
       "Black or African American                     109\n",
       "American Indian or Alaska Native                9\n",
       "Native Hawaiian or Other Pacific Islander       6\n",
       "Name: count, dtype: int64"
      ]
     },
     "execution_count": 38,
     "metadata": {},
     "output_type": "execute_result"
    }
   ],
   "source": [
    "df_2021_new_race.race_description.value_counts()"
   ]
  },
  {
   "cell_type": "markdown",
   "metadata": {},
   "source": [
    "## Part 4: END\n",
    "- The resultant DataFrame contains an enrollment file for new students in Fall term 2021 only enriched with:\n",
    "    - campus names\n",
    "    - credential objectives\n",
    "    - race/ethnicity"
   ]
  },
  {
   "cell_type": "markdown",
   "metadata": {},
   "source": [
    "## Part 5: Level 3 - Calculate race percent by campus"
   ]
  },
  {
   "cell_type": "code",
   "execution_count": 40,
   "metadata": {},
   "outputs": [],
   "source": [
    "# race by campus\n",
    "sql_df = sqldf(\n",
    "    \"\"\"\n",
    "    SELECT \n",
    "        campus_name,\n",
    "        race_description,\n",
    "        COUNT(calstateEduPersonUID) as total_records\n",
    "        FROM df_2021_new_race\n",
    "        GROUP BY \n",
    "            campus_name,\n",
    "            race_description\n",
    "        ORDER BY campus_name\n",
    "            \"\"\"\n",
    ")"
   ]
  },
  {
   "cell_type": "code",
   "execution_count": 41,
   "metadata": {},
   "outputs": [
    {
     "data": {
      "text/html": [
       "<div>\n",
       "<style scoped>\n",
       "    .dataframe tbody tr th:only-of-type {\n",
       "        vertical-align: middle;\n",
       "    }\n",
       "\n",
       "    .dataframe tbody tr th {\n",
       "        vertical-align: top;\n",
       "    }\n",
       "\n",
       "    .dataframe thead th {\n",
       "        text-align: right;\n",
       "    }\n",
       "</style>\n",
       "<table border=\"1\" class=\"dataframe\">\n",
       "  <thead>\n",
       "    <tr style=\"text-align: right;\">\n",
       "      <th></th>\n",
       "      <th>campus_name</th>\n",
       "      <th>race_description</th>\n",
       "      <th>total_records</th>\n",
       "    </tr>\n",
       "  </thead>\n",
       "  <tbody>\n",
       "    <tr>\n",
       "      <th>0</th>\n",
       "      <td>Bakersfield</td>\n",
       "      <td>Asian</td>\n",
       "      <td>2</td>\n",
       "    </tr>\n",
       "    <tr>\n",
       "      <th>1</th>\n",
       "      <td>Bakersfield</td>\n",
       "      <td>Black or African American</td>\n",
       "      <td>2</td>\n",
       "    </tr>\n",
       "    <tr>\n",
       "      <th>2</th>\n",
       "      <td>Bakersfield</td>\n",
       "      <td>Hispanic/Latino</td>\n",
       "      <td>106</td>\n",
       "    </tr>\n",
       "    <tr>\n",
       "      <th>3</th>\n",
       "      <td>Bakersfield</td>\n",
       "      <td>Two or More Races</td>\n",
       "      <td>4</td>\n",
       "    </tr>\n",
       "    <tr>\n",
       "      <th>4</th>\n",
       "      <td>Bakersfield</td>\n",
       "      <td>Unknown</td>\n",
       "      <td>10</td>\n",
       "    </tr>\n",
       "    <tr>\n",
       "      <th>...</th>\n",
       "      <td>...</td>\n",
       "      <td>...</td>\n",
       "      <td>...</td>\n",
       "    </tr>\n",
       "    <tr>\n",
       "      <th>136</th>\n",
       "      <td>Stanislaus</td>\n",
       "      <td>Black or African American</td>\n",
       "      <td>3</td>\n",
       "    </tr>\n",
       "    <tr>\n",
       "      <th>137</th>\n",
       "      <td>Stanislaus</td>\n",
       "      <td>Hispanic/Latino</td>\n",
       "      <td>119</td>\n",
       "    </tr>\n",
       "    <tr>\n",
       "      <th>138</th>\n",
       "      <td>Stanislaus</td>\n",
       "      <td>Two or More Races</td>\n",
       "      <td>5</td>\n",
       "    </tr>\n",
       "    <tr>\n",
       "      <th>139</th>\n",
       "      <td>Stanislaus</td>\n",
       "      <td>Unknown</td>\n",
       "      <td>11</td>\n",
       "    </tr>\n",
       "    <tr>\n",
       "      <th>140</th>\n",
       "      <td>Stanislaus</td>\n",
       "      <td>White</td>\n",
       "      <td>69</td>\n",
       "    </tr>\n",
       "  </tbody>\n",
       "</table>\n",
       "<p>141 rows × 3 columns</p>\n",
       "</div>"
      ],
      "text/plain": [
       "     campus_name           race_description  total_records\n",
       "0    Bakersfield                      Asian              2\n",
       "1    Bakersfield  Black or African American              2\n",
       "2    Bakersfield            Hispanic/Latino            106\n",
       "3    Bakersfield          Two or More Races              4\n",
       "4    Bakersfield                    Unknown             10\n",
       "..           ...                        ...            ...\n",
       "136   Stanislaus  Black or African American              3\n",
       "137   Stanislaus            Hispanic/Latino            119\n",
       "138   Stanislaus          Two or More Races              5\n",
       "139   Stanislaus                    Unknown             11\n",
       "140   Stanislaus                      White             69\n",
       "\n",
       "[141 rows x 3 columns]"
      ]
     },
     "execution_count": 41,
     "metadata": {},
     "output_type": "execute_result"
    }
   ],
   "source": [
    "sql_df    "
   ]
  },
  {
   "cell_type": "code",
   "execution_count": 42,
   "metadata": {},
   "outputs": [],
   "source": [
    "# total race by campus\n",
    "sql_partition_df = sqldf(\n",
    "    \"\"\"\n",
    "    SELECT\n",
    "        campus_name,\n",
    "        race_description,\n",
    "        total_records,\n",
    "        SUM(total_records) OVER (PARTITION BY campus_name) AS total_campus_records\n",
    "        FROM sql_df\n",
    "\"\"\"\n",
    ")"
   ]
  },
  {
   "cell_type": "code",
   "execution_count": 43,
   "metadata": {},
   "outputs": [
    {
     "data": {
      "text/html": [
       "<div>\n",
       "<style scoped>\n",
       "    .dataframe tbody tr th:only-of-type {\n",
       "        vertical-align: middle;\n",
       "    }\n",
       "\n",
       "    .dataframe tbody tr th {\n",
       "        vertical-align: top;\n",
       "    }\n",
       "\n",
       "    .dataframe thead th {\n",
       "        text-align: right;\n",
       "    }\n",
       "</style>\n",
       "<table border=\"1\" class=\"dataframe\">\n",
       "  <thead>\n",
       "    <tr style=\"text-align: right;\">\n",
       "      <th></th>\n",
       "      <th>campus_name</th>\n",
       "      <th>race_description</th>\n",
       "      <th>total_records</th>\n",
       "      <th>total_campus_records</th>\n",
       "    </tr>\n",
       "  </thead>\n",
       "  <tbody>\n",
       "    <tr>\n",
       "      <th>0</th>\n",
       "      <td>Bakersfield</td>\n",
       "      <td>Asian</td>\n",
       "      <td>2</td>\n",
       "      <td>149</td>\n",
       "    </tr>\n",
       "    <tr>\n",
       "      <th>1</th>\n",
       "      <td>Bakersfield</td>\n",
       "      <td>Black or African American</td>\n",
       "      <td>2</td>\n",
       "      <td>149</td>\n",
       "    </tr>\n",
       "    <tr>\n",
       "      <th>2</th>\n",
       "      <td>Bakersfield</td>\n",
       "      <td>Hispanic/Latino</td>\n",
       "      <td>106</td>\n",
       "      <td>149</td>\n",
       "    </tr>\n",
       "    <tr>\n",
       "      <th>3</th>\n",
       "      <td>Bakersfield</td>\n",
       "      <td>Two or More Races</td>\n",
       "      <td>4</td>\n",
       "      <td>149</td>\n",
       "    </tr>\n",
       "    <tr>\n",
       "      <th>4</th>\n",
       "      <td>Bakersfield</td>\n",
       "      <td>Unknown</td>\n",
       "      <td>10</td>\n",
       "      <td>149</td>\n",
       "    </tr>\n",
       "    <tr>\n",
       "      <th>...</th>\n",
       "      <td>...</td>\n",
       "      <td>...</td>\n",
       "      <td>...</td>\n",
       "      <td>...</td>\n",
       "    </tr>\n",
       "    <tr>\n",
       "      <th>136</th>\n",
       "      <td>Stanislaus</td>\n",
       "      <td>Black or African American</td>\n",
       "      <td>3</td>\n",
       "      <td>211</td>\n",
       "    </tr>\n",
       "    <tr>\n",
       "      <th>137</th>\n",
       "      <td>Stanislaus</td>\n",
       "      <td>Hispanic/Latino</td>\n",
       "      <td>119</td>\n",
       "      <td>211</td>\n",
       "    </tr>\n",
       "    <tr>\n",
       "      <th>138</th>\n",
       "      <td>Stanislaus</td>\n",
       "      <td>Two or More Races</td>\n",
       "      <td>5</td>\n",
       "      <td>211</td>\n",
       "    </tr>\n",
       "    <tr>\n",
       "      <th>139</th>\n",
       "      <td>Stanislaus</td>\n",
       "      <td>Unknown</td>\n",
       "      <td>11</td>\n",
       "      <td>211</td>\n",
       "    </tr>\n",
       "    <tr>\n",
       "      <th>140</th>\n",
       "      <td>Stanislaus</td>\n",
       "      <td>White</td>\n",
       "      <td>69</td>\n",
       "      <td>211</td>\n",
       "    </tr>\n",
       "  </tbody>\n",
       "</table>\n",
       "<p>141 rows × 4 columns</p>\n",
       "</div>"
      ],
      "text/plain": [
       "     campus_name           race_description  total_records  \\\n",
       "0    Bakersfield                      Asian              2   \n",
       "1    Bakersfield  Black or African American              2   \n",
       "2    Bakersfield            Hispanic/Latino            106   \n",
       "3    Bakersfield          Two or More Races              4   \n",
       "4    Bakersfield                    Unknown             10   \n",
       "..           ...                        ...            ...   \n",
       "136   Stanislaus  Black or African American              3   \n",
       "137   Stanislaus            Hispanic/Latino            119   \n",
       "138   Stanislaus          Two or More Races              5   \n",
       "139   Stanislaus                    Unknown             11   \n",
       "140   Stanislaus                      White             69   \n",
       "\n",
       "     total_campus_records  \n",
       "0                     149  \n",
       "1                     149  \n",
       "2                     149  \n",
       "3                     149  \n",
       "4                     149  \n",
       "..                    ...  \n",
       "136                   211  \n",
       "137                   211  \n",
       "138                   211  \n",
       "139                   211  \n",
       "140                   211  \n",
       "\n",
       "[141 rows x 4 columns]"
      ]
     },
     "execution_count": 43,
     "metadata": {},
     "output_type": "execute_result"
    }
   ],
   "source": [
    "sql_partition_df"
   ]
  },
  {
   "cell_type": "code",
   "execution_count": 44,
   "metadata": {},
   "outputs": [],
   "source": [
    "# total race percent by campus\n",
    "sql_percent_df = sqldf(\n",
    "    \"\"\"\n",
    "    SELECT\n",
    "        campus_name,\n",
    "        race_description,\n",
    "        total_records,\n",
    "        total_campus_records,\n",
    "        ROUND((CAST(total_records AS REAL)/CAST(total_campus_records AS REAL))*100, 1) AS total_percent_campus_records\n",
    "        FROM sql_partition_df\n",
    "\"\"\"\n",
    ")"
   ]
  },
  {
   "cell_type": "code",
   "execution_count": 45,
   "metadata": {},
   "outputs": [
    {
     "data": {
      "text/html": [
       "<div>\n",
       "<style scoped>\n",
       "    .dataframe tbody tr th:only-of-type {\n",
       "        vertical-align: middle;\n",
       "    }\n",
       "\n",
       "    .dataframe tbody tr th {\n",
       "        vertical-align: top;\n",
       "    }\n",
       "\n",
       "    .dataframe thead th {\n",
       "        text-align: right;\n",
       "    }\n",
       "</style>\n",
       "<table border=\"1\" class=\"dataframe\">\n",
       "  <thead>\n",
       "    <tr style=\"text-align: right;\">\n",
       "      <th></th>\n",
       "      <th>campus_name</th>\n",
       "      <th>race_description</th>\n",
       "      <th>total_records</th>\n",
       "      <th>total_campus_records</th>\n",
       "      <th>total_percent_campus_records</th>\n",
       "    </tr>\n",
       "  </thead>\n",
       "  <tbody>\n",
       "    <tr>\n",
       "      <th>0</th>\n",
       "      <td>Bakersfield</td>\n",
       "      <td>Asian</td>\n",
       "      <td>2</td>\n",
       "      <td>149</td>\n",
       "      <td>1.3</td>\n",
       "    </tr>\n",
       "    <tr>\n",
       "      <th>1</th>\n",
       "      <td>Bakersfield</td>\n",
       "      <td>Black or African American</td>\n",
       "      <td>2</td>\n",
       "      <td>149</td>\n",
       "      <td>1.3</td>\n",
       "    </tr>\n",
       "    <tr>\n",
       "      <th>2</th>\n",
       "      <td>Bakersfield</td>\n",
       "      <td>Hispanic/Latino</td>\n",
       "      <td>106</td>\n",
       "      <td>149</td>\n",
       "      <td>71.1</td>\n",
       "    </tr>\n",
       "    <tr>\n",
       "      <th>3</th>\n",
       "      <td>Bakersfield</td>\n",
       "      <td>Two or More Races</td>\n",
       "      <td>4</td>\n",
       "      <td>149</td>\n",
       "      <td>2.7</td>\n",
       "    </tr>\n",
       "    <tr>\n",
       "      <th>4</th>\n",
       "      <td>Bakersfield</td>\n",
       "      <td>Unknown</td>\n",
       "      <td>10</td>\n",
       "      <td>149</td>\n",
       "      <td>6.7</td>\n",
       "    </tr>\n",
       "    <tr>\n",
       "      <th>...</th>\n",
       "      <td>...</td>\n",
       "      <td>...</td>\n",
       "      <td>...</td>\n",
       "      <td>...</td>\n",
       "      <td>...</td>\n",
       "    </tr>\n",
       "    <tr>\n",
       "      <th>136</th>\n",
       "      <td>Stanislaus</td>\n",
       "      <td>Black or African American</td>\n",
       "      <td>3</td>\n",
       "      <td>211</td>\n",
       "      <td>1.4</td>\n",
       "    </tr>\n",
       "    <tr>\n",
       "      <th>137</th>\n",
       "      <td>Stanislaus</td>\n",
       "      <td>Hispanic/Latino</td>\n",
       "      <td>119</td>\n",
       "      <td>211</td>\n",
       "      <td>56.4</td>\n",
       "    </tr>\n",
       "    <tr>\n",
       "      <th>138</th>\n",
       "      <td>Stanislaus</td>\n",
       "      <td>Two or More Races</td>\n",
       "      <td>5</td>\n",
       "      <td>211</td>\n",
       "      <td>2.4</td>\n",
       "    </tr>\n",
       "    <tr>\n",
       "      <th>139</th>\n",
       "      <td>Stanislaus</td>\n",
       "      <td>Unknown</td>\n",
       "      <td>11</td>\n",
       "      <td>211</td>\n",
       "      <td>5.2</td>\n",
       "    </tr>\n",
       "    <tr>\n",
       "      <th>140</th>\n",
       "      <td>Stanislaus</td>\n",
       "      <td>White</td>\n",
       "      <td>69</td>\n",
       "      <td>211</td>\n",
       "      <td>32.7</td>\n",
       "    </tr>\n",
       "  </tbody>\n",
       "</table>\n",
       "<p>141 rows × 5 columns</p>\n",
       "</div>"
      ],
      "text/plain": [
       "     campus_name           race_description  total_records  \\\n",
       "0    Bakersfield                      Asian              2   \n",
       "1    Bakersfield  Black or African American              2   \n",
       "2    Bakersfield            Hispanic/Latino            106   \n",
       "3    Bakersfield          Two or More Races              4   \n",
       "4    Bakersfield                    Unknown             10   \n",
       "..           ...                        ...            ...   \n",
       "136   Stanislaus  Black or African American              3   \n",
       "137   Stanislaus            Hispanic/Latino            119   \n",
       "138   Stanislaus          Two or More Races              5   \n",
       "139   Stanislaus                    Unknown             11   \n",
       "140   Stanislaus                      White             69   \n",
       "\n",
       "     total_campus_records  total_percent_campus_records  \n",
       "0                     149                           1.3  \n",
       "1                     149                           1.3  \n",
       "2                     149                          71.1  \n",
       "3                     149                           2.7  \n",
       "4                     149                           6.7  \n",
       "..                    ...                           ...  \n",
       "136                   211                           1.4  \n",
       "137                   211                          56.4  \n",
       "138                   211                           2.4  \n",
       "139                   211                           5.2  \n",
       "140                   211                          32.7  \n",
       "\n",
       "[141 rows x 5 columns]"
      ]
     },
     "execution_count": 45,
     "metadata": {},
     "output_type": "execute_result"
    }
   ],
   "source": [
    "sql_percent_df"
   ]
  },
  {
   "cell_type": "code",
   "execution_count": 46,
   "metadata": {},
   "outputs": [
    {
     "name": "stderr",
     "output_type": "stream",
     "text": [
      "<>:1: SyntaxWarning: invalid escape sequence '\\d'\n",
      "<>:1: SyntaxWarning: invalid escape sequence '\\d'\n",
      "C:\\Users\\jluong\\AppData\\Local\\Temp\\ipykernel_18212\\2455078727.py:1: SyntaxWarning: invalid escape sequence '\\d'\n",
      "  sql_percent_df.to_csv(\"..\\data\\output\\sql_percent_df_AY_2021.csv\")\n"
     ]
    }
   ],
   "source": [
    "sql_percent_df.to_csv(\"..\\data\\output\\sql_percent_df_AY_2021.csv\")"
   ]
  },
  {
   "cell_type": "markdown",
   "metadata": {},
   "source": [
    "# Calculate race percent for system"
   ]
  },
  {
   "cell_type": "code",
   "execution_count": 47,
   "metadata": {},
   "outputs": [],
   "source": [
    "# race by campus\n",
    "sql_all = sqldf(\n",
    "    \"\"\"\n",
    "    SELECT \n",
    "        'systemwide' as campus,\n",
    "        race_description,\n",
    "        COUNT(calstateEduPersonUID) as total_records\n",
    "        FROM df_2021_new_race\n",
    "        GROUP BY \n",
    "            race_description\n",
    "            \"\"\"\n",
    ")"
   ]
  },
  {
   "cell_type": "code",
   "execution_count": 48,
   "metadata": {},
   "outputs": [
    {
     "data": {
      "text/html": [
       "<div>\n",
       "<style scoped>\n",
       "    .dataframe tbody tr th:only-of-type {\n",
       "        vertical-align: middle;\n",
       "    }\n",
       "\n",
       "    .dataframe tbody tr th {\n",
       "        vertical-align: top;\n",
       "    }\n",
       "\n",
       "    .dataframe thead th {\n",
       "        text-align: right;\n",
       "    }\n",
       "</style>\n",
       "<table border=\"1\" class=\"dataframe\">\n",
       "  <thead>\n",
       "    <tr style=\"text-align: right;\">\n",
       "      <th></th>\n",
       "      <th>campus</th>\n",
       "      <th>race_description</th>\n",
       "      <th>total_records</th>\n",
       "    </tr>\n",
       "  </thead>\n",
       "  <tbody>\n",
       "    <tr>\n",
       "      <th>0</th>\n",
       "      <td>systemwide</td>\n",
       "      <td>American Indian or Alaska Native</td>\n",
       "      <td>9</td>\n",
       "    </tr>\n",
       "    <tr>\n",
       "      <th>1</th>\n",
       "      <td>systemwide</td>\n",
       "      <td>Asian</td>\n",
       "      <td>430</td>\n",
       "    </tr>\n",
       "    <tr>\n",
       "      <th>2</th>\n",
       "      <td>systemwide</td>\n",
       "      <td>Black or African American</td>\n",
       "      <td>109</td>\n",
       "    </tr>\n",
       "    <tr>\n",
       "      <th>3</th>\n",
       "      <td>systemwide</td>\n",
       "      <td>Hispanic/Latino</td>\n",
       "      <td>2350</td>\n",
       "    </tr>\n",
       "    <tr>\n",
       "      <th>4</th>\n",
       "      <td>systemwide</td>\n",
       "      <td>Native Hawaiian or Other Pacific Islander</td>\n",
       "      <td>6</td>\n",
       "    </tr>\n",
       "    <tr>\n",
       "      <th>5</th>\n",
       "      <td>systemwide</td>\n",
       "      <td>Two or More Races</td>\n",
       "      <td>165</td>\n",
       "    </tr>\n",
       "    <tr>\n",
       "      <th>6</th>\n",
       "      <td>systemwide</td>\n",
       "      <td>Unknown</td>\n",
       "      <td>203</td>\n",
       "    </tr>\n",
       "    <tr>\n",
       "      <th>7</th>\n",
       "      <td>systemwide</td>\n",
       "      <td>White</td>\n",
       "      <td>1629</td>\n",
       "    </tr>\n",
       "  </tbody>\n",
       "</table>\n",
       "</div>"
      ],
      "text/plain": [
       "       campus                           race_description  total_records\n",
       "0  systemwide           American Indian or Alaska Native              9\n",
       "1  systemwide                                      Asian            430\n",
       "2  systemwide                  Black or African American            109\n",
       "3  systemwide                            Hispanic/Latino           2350\n",
       "4  systemwide  Native Hawaiian or Other Pacific Islander              6\n",
       "5  systemwide                          Two or More Races            165\n",
       "6  systemwide                                    Unknown            203\n",
       "7  systemwide                                      White           1629"
      ]
     },
     "execution_count": 48,
     "metadata": {},
     "output_type": "execute_result"
    }
   ],
   "source": [
    "sql_all"
   ]
  },
  {
   "cell_type": "code",
   "execution_count": 49,
   "metadata": {},
   "outputs": [],
   "source": [
    "sql_system = sqldf(\n",
    "    \"\"\"\n",
    "    SELECT \n",
    "        campus,\n",
    "        race_description,\n",
    "        total_records,\n",
    "        SUM(total_records) OVER(PARTITION BY campus),\n",
    "        (ROUND(100.0*total_records/(SUM(total_records) OVER(PARTITION BY campus)),1)) AS percent_of_total\n",
    "        FROM sql_all\n",
    "            \"\"\"\n",
    ")"
   ]
  },
  {
   "cell_type": "code",
   "execution_count": 50,
   "metadata": {},
   "outputs": [
    {
     "data": {
      "text/html": [
       "<div>\n",
       "<style scoped>\n",
       "    .dataframe tbody tr th:only-of-type {\n",
       "        vertical-align: middle;\n",
       "    }\n",
       "\n",
       "    .dataframe tbody tr th {\n",
       "        vertical-align: top;\n",
       "    }\n",
       "\n",
       "    .dataframe thead th {\n",
       "        text-align: right;\n",
       "    }\n",
       "</style>\n",
       "<table border=\"1\" class=\"dataframe\">\n",
       "  <thead>\n",
       "    <tr style=\"text-align: right;\">\n",
       "      <th></th>\n",
       "      <th>campus</th>\n",
       "      <th>race_description</th>\n",
       "      <th>total_records</th>\n",
       "      <th>SUM(total_records) OVER(PARTITION BY campus)</th>\n",
       "      <th>percent_of_total</th>\n",
       "    </tr>\n",
       "  </thead>\n",
       "  <tbody>\n",
       "    <tr>\n",
       "      <th>0</th>\n",
       "      <td>systemwide</td>\n",
       "      <td>American Indian or Alaska Native</td>\n",
       "      <td>9</td>\n",
       "      <td>4901</td>\n",
       "      <td>0.2</td>\n",
       "    </tr>\n",
       "    <tr>\n",
       "      <th>1</th>\n",
       "      <td>systemwide</td>\n",
       "      <td>Asian</td>\n",
       "      <td>430</td>\n",
       "      <td>4901</td>\n",
       "      <td>8.8</td>\n",
       "    </tr>\n",
       "    <tr>\n",
       "      <th>2</th>\n",
       "      <td>systemwide</td>\n",
       "      <td>Black or African American</td>\n",
       "      <td>109</td>\n",
       "      <td>4901</td>\n",
       "      <td>2.2</td>\n",
       "    </tr>\n",
       "    <tr>\n",
       "      <th>3</th>\n",
       "      <td>systemwide</td>\n",
       "      <td>Hispanic/Latino</td>\n",
       "      <td>2350</td>\n",
       "      <td>4901</td>\n",
       "      <td>47.9</td>\n",
       "    </tr>\n",
       "    <tr>\n",
       "      <th>4</th>\n",
       "      <td>systemwide</td>\n",
       "      <td>Native Hawaiian or Other Pacific Islander</td>\n",
       "      <td>6</td>\n",
       "      <td>4901</td>\n",
       "      <td>0.1</td>\n",
       "    </tr>\n",
       "    <tr>\n",
       "      <th>5</th>\n",
       "      <td>systemwide</td>\n",
       "      <td>Two or More Races</td>\n",
       "      <td>165</td>\n",
       "      <td>4901</td>\n",
       "      <td>3.4</td>\n",
       "    </tr>\n",
       "    <tr>\n",
       "      <th>6</th>\n",
       "      <td>systemwide</td>\n",
       "      <td>Unknown</td>\n",
       "      <td>203</td>\n",
       "      <td>4901</td>\n",
       "      <td>4.1</td>\n",
       "    </tr>\n",
       "    <tr>\n",
       "      <th>7</th>\n",
       "      <td>systemwide</td>\n",
       "      <td>White</td>\n",
       "      <td>1629</td>\n",
       "      <td>4901</td>\n",
       "      <td>33.2</td>\n",
       "    </tr>\n",
       "  </tbody>\n",
       "</table>\n",
       "</div>"
      ],
      "text/plain": [
       "       campus                           race_description  total_records  \\\n",
       "0  systemwide           American Indian or Alaska Native              9   \n",
       "1  systemwide                                      Asian            430   \n",
       "2  systemwide                  Black or African American            109   \n",
       "3  systemwide                            Hispanic/Latino           2350   \n",
       "4  systemwide  Native Hawaiian or Other Pacific Islander              6   \n",
       "5  systemwide                          Two or More Races            165   \n",
       "6  systemwide                                    Unknown            203   \n",
       "7  systemwide                                      White           1629   \n",
       "\n",
       "   SUM(total_records) OVER(PARTITION BY campus)  percent_of_total  \n",
       "0                                          4901               0.2  \n",
       "1                                          4901               8.8  \n",
       "2                                          4901               2.2  \n",
       "3                                          4901              47.9  \n",
       "4                                          4901               0.1  \n",
       "5                                          4901               3.4  \n",
       "6                                          4901               4.1  \n",
       "7                                          4901              33.2  "
      ]
     },
     "execution_count": 50,
     "metadata": {},
     "output_type": "execute_result"
    }
   ],
   "source": [
    "sql_system"
   ]
  },
  {
   "cell_type": "code",
   "execution_count": 51,
   "metadata": {},
   "outputs": [],
   "source": [
    "# append system_df onto campus_df\n",
    "\n",
    "sql_combined_df_with_cst = sqldf(\n",
    "    \"\"\"\n",
    "    SELECT *\n",
    "    FROM sql_system\n",
    "    UNION\n",
    "    SELECT *\n",
    "    FROM sql_percent_df\n",
    "            \"\"\"\n",
    ")"
   ]
  },
  {
   "cell_type": "code",
   "execution_count": 52,
   "metadata": {},
   "outputs": [
    {
     "name": "stderr",
     "output_type": "stream",
     "text": [
      "<>:1: SyntaxWarning: invalid escape sequence '\\d'\n",
      "<>:1: SyntaxWarning: invalid escape sequence '\\d'\n",
      "C:\\Users\\jluong\\AppData\\Local\\Temp\\ipykernel_18212\\3294150127.py:1: SyntaxWarning: invalid escape sequence '\\d'\n",
      "  sql_combined_df_with_cst.to_csv(\"..\\data\\output\\RAW_level_3_first_time_epp_enrollment_fall_2016.csv\")\n"
     ]
    }
   ],
   "source": [
    "sql_combined_df_with_cst.to_csv(\"..\\data\\output\\RAW_level_3_first_time_epp_enrollment_fall_2016.csv\")"
   ]
  },
  {
   "cell_type": "code",
   "execution_count": 53,
   "metadata": {},
   "outputs": [],
   "source": [
    "# insert rows for missing race/ethnicity"
   ]
  },
  {
   "cell_type": "markdown",
   "metadata": {},
   "source": [
    "# Calculate for system without CalStateTEACH"
   ]
  },
  {
   "cell_type": "code",
   "execution_count": 54,
   "metadata": {},
   "outputs": [],
   "source": [
    "# race by campus\n",
    "sql_all_no_cst = sqldf(\n",
    "    \"\"\"\n",
    "    SELECT \n",
    "        'systemwide' AS campus,\n",
    "        race_description,\n",
    "        COUNT(calstateEduPersonUID) as total_records\n",
    "        FROM df_2021_new_race\n",
    "        WHERE campus_name != 'CalStateTEACH'\n",
    "        GROUP BY \n",
    "            race_description\n",
    "            \"\"\"\n",
    ")"
   ]
  },
  {
   "cell_type": "code",
   "execution_count": 55,
   "metadata": {},
   "outputs": [
    {
     "data": {
      "text/html": [
       "<div>\n",
       "<style scoped>\n",
       "    .dataframe tbody tr th:only-of-type {\n",
       "        vertical-align: middle;\n",
       "    }\n",
       "\n",
       "    .dataframe tbody tr th {\n",
       "        vertical-align: top;\n",
       "    }\n",
       "\n",
       "    .dataframe thead th {\n",
       "        text-align: right;\n",
       "    }\n",
       "</style>\n",
       "<table border=\"1\" class=\"dataframe\">\n",
       "  <thead>\n",
       "    <tr style=\"text-align: right;\">\n",
       "      <th></th>\n",
       "      <th>campus</th>\n",
       "      <th>race_description</th>\n",
       "      <th>total_records</th>\n",
       "    </tr>\n",
       "  </thead>\n",
       "  <tbody>\n",
       "    <tr>\n",
       "      <th>0</th>\n",
       "      <td>systemwide</td>\n",
       "      <td>American Indian or Alaska Native</td>\n",
       "      <td>7</td>\n",
       "    </tr>\n",
       "    <tr>\n",
       "      <th>1</th>\n",
       "      <td>systemwide</td>\n",
       "      <td>Asian</td>\n",
       "      <td>406</td>\n",
       "    </tr>\n",
       "    <tr>\n",
       "      <th>2</th>\n",
       "      <td>systemwide</td>\n",
       "      <td>Black or African American</td>\n",
       "      <td>99</td>\n",
       "    </tr>\n",
       "    <tr>\n",
       "      <th>3</th>\n",
       "      <td>systemwide</td>\n",
       "      <td>Hispanic/Latino</td>\n",
       "      <td>2225</td>\n",
       "    </tr>\n",
       "    <tr>\n",
       "      <th>4</th>\n",
       "      <td>systemwide</td>\n",
       "      <td>Native Hawaiian or Other Pacific Islander</td>\n",
       "      <td>5</td>\n",
       "    </tr>\n",
       "    <tr>\n",
       "      <th>5</th>\n",
       "      <td>systemwide</td>\n",
       "      <td>Two or More Races</td>\n",
       "      <td>152</td>\n",
       "    </tr>\n",
       "    <tr>\n",
       "      <th>6</th>\n",
       "      <td>systemwide</td>\n",
       "      <td>Unknown</td>\n",
       "      <td>187</td>\n",
       "    </tr>\n",
       "    <tr>\n",
       "      <th>7</th>\n",
       "      <td>systemwide</td>\n",
       "      <td>White</td>\n",
       "      <td>1482</td>\n",
       "    </tr>\n",
       "  </tbody>\n",
       "</table>\n",
       "</div>"
      ],
      "text/plain": [
       "       campus                           race_description  total_records\n",
       "0  systemwide           American Indian or Alaska Native              7\n",
       "1  systemwide                                      Asian            406\n",
       "2  systemwide                  Black or African American             99\n",
       "3  systemwide                            Hispanic/Latino           2225\n",
       "4  systemwide  Native Hawaiian or Other Pacific Islander              5\n",
       "5  systemwide                          Two or More Races            152\n",
       "6  systemwide                                    Unknown            187\n",
       "7  systemwide                                      White           1482"
      ]
     },
     "execution_count": 55,
     "metadata": {},
     "output_type": "execute_result"
    }
   ],
   "source": [
    "sql_all_no_cst"
   ]
  },
  {
   "cell_type": "code",
   "execution_count": 56,
   "metadata": {},
   "outputs": [],
   "source": [
    "sql_system_no_cst = sqldf(\n",
    "    \"\"\"\n",
    "    SELECT \n",
    "        race_description,\n",
    "        total_records,\n",
    "        SUM(total_records) OVER(PARTITION BY campus),\n",
    "        (ROUND(100.0*total_records/(SUM(total_records) OVER(PARTITION BY campus)),1)) AS percent_of_total\n",
    "        FROM sql_all_no_cst\n",
    "            \"\"\"\n",
    ")"
   ]
  },
  {
   "cell_type": "code",
   "execution_count": 57,
   "metadata": {},
   "outputs": [
    {
     "data": {
      "text/html": [
       "<div>\n",
       "<style scoped>\n",
       "    .dataframe tbody tr th:only-of-type {\n",
       "        vertical-align: middle;\n",
       "    }\n",
       "\n",
       "    .dataframe tbody tr th {\n",
       "        vertical-align: top;\n",
       "    }\n",
       "\n",
       "    .dataframe thead th {\n",
       "        text-align: right;\n",
       "    }\n",
       "</style>\n",
       "<table border=\"1\" class=\"dataframe\">\n",
       "  <thead>\n",
       "    <tr style=\"text-align: right;\">\n",
       "      <th></th>\n",
       "      <th>race_description</th>\n",
       "      <th>total_records</th>\n",
       "      <th>SUM(total_records) OVER(PARTITION BY campus)</th>\n",
       "      <th>percent_of_total</th>\n",
       "    </tr>\n",
       "  </thead>\n",
       "  <tbody>\n",
       "    <tr>\n",
       "      <th>0</th>\n",
       "      <td>American Indian or Alaska Native</td>\n",
       "      <td>7</td>\n",
       "      <td>4563</td>\n",
       "      <td>0.2</td>\n",
       "    </tr>\n",
       "    <tr>\n",
       "      <th>1</th>\n",
       "      <td>Asian</td>\n",
       "      <td>406</td>\n",
       "      <td>4563</td>\n",
       "      <td>8.9</td>\n",
       "    </tr>\n",
       "    <tr>\n",
       "      <th>2</th>\n",
       "      <td>Black or African American</td>\n",
       "      <td>99</td>\n",
       "      <td>4563</td>\n",
       "      <td>2.2</td>\n",
       "    </tr>\n",
       "    <tr>\n",
       "      <th>3</th>\n",
       "      <td>Hispanic/Latino</td>\n",
       "      <td>2225</td>\n",
       "      <td>4563</td>\n",
       "      <td>48.8</td>\n",
       "    </tr>\n",
       "    <tr>\n",
       "      <th>4</th>\n",
       "      <td>Native Hawaiian or Other Pacific Islander</td>\n",
       "      <td>5</td>\n",
       "      <td>4563</td>\n",
       "      <td>0.1</td>\n",
       "    </tr>\n",
       "    <tr>\n",
       "      <th>5</th>\n",
       "      <td>Two or More Races</td>\n",
       "      <td>152</td>\n",
       "      <td>4563</td>\n",
       "      <td>3.3</td>\n",
       "    </tr>\n",
       "    <tr>\n",
       "      <th>6</th>\n",
       "      <td>Unknown</td>\n",
       "      <td>187</td>\n",
       "      <td>4563</td>\n",
       "      <td>4.1</td>\n",
       "    </tr>\n",
       "    <tr>\n",
       "      <th>7</th>\n",
       "      <td>White</td>\n",
       "      <td>1482</td>\n",
       "      <td>4563</td>\n",
       "      <td>32.5</td>\n",
       "    </tr>\n",
       "  </tbody>\n",
       "</table>\n",
       "</div>"
      ],
      "text/plain": [
       "                            race_description  total_records  \\\n",
       "0           American Indian or Alaska Native              7   \n",
       "1                                      Asian            406   \n",
       "2                  Black or African American             99   \n",
       "3                            Hispanic/Latino           2225   \n",
       "4  Native Hawaiian or Other Pacific Islander              5   \n",
       "5                          Two or More Races            152   \n",
       "6                                    Unknown            187   \n",
       "7                                      White           1482   \n",
       "\n",
       "   SUM(total_records) OVER(PARTITION BY campus)  percent_of_total  \n",
       "0                                          4563               0.2  \n",
       "1                                          4563               8.9  \n",
       "2                                          4563               2.2  \n",
       "3                                          4563              48.8  \n",
       "4                                          4563               0.1  \n",
       "5                                          4563               3.3  \n",
       "6                                          4563               4.1  \n",
       "7                                          4563              32.5  "
      ]
     },
     "execution_count": 57,
     "metadata": {},
     "output_type": "execute_result"
    }
   ],
   "source": [
    "sql_system_no_cst"
   ]
  },
  {
   "cell_type": "markdown",
   "metadata": {},
   "source": [
    "## Part 5: End"
   ]
  },
  {
   "cell_type": "markdown",
   "metadata": {},
   "source": [
    "## Part 6: Level 4 - Connect Enrollment File to Two Years of Completer Files\n",
    "- completers in AY 2021-2022 or AY 2022-2023\n",
    "- this is used to determine who completed within 2 years"
   ]
  },
  {
   "cell_type": "code",
   "execution_count": 58,
   "metadata": {},
   "outputs": [
    {
     "name": "stderr",
     "output_type": "stream",
     "text": [
      "<>:2: SyntaxWarning: invalid escape sequence '\\d'\n",
      "<>:2: SyntaxWarning: invalid escape sequence '\\d'\n",
      "C:\\Users\\jluong\\AppData\\Local\\Temp\\ipykernel_18212\\1210033779.py:2: SyntaxWarning: invalid escape sequence '\\d'\n",
      "  df_21_22 = pd.read_csv(\"..\\data\\completer lists\\EDQ_COMB_COMP_2122_160623.csv\")\n"
     ]
    },
    {
     "name": "stdout",
     "output_type": "stream",
     "text": [
      "5344\n"
     ]
    }
   ],
   "source": [
    "# read in AY 2021-2022\n",
    "df_21_22 = pd.read_csv(\"..\\data\\completer lists\\EDQ_COMB_COMP_2122_160623.csv\")\n",
    "# read in AY 2022-2023\n",
    "print(len(df_21_22))"
   ]
  },
  {
   "cell_type": "code",
   "execution_count": 59,
   "metadata": {},
   "outputs": [
    {
     "data": {
      "text/plain": [
       "compCohort\n",
       "2021-2022    5344\n",
       "Name: count, dtype: int64"
      ]
     },
     "execution_count": 59,
     "metadata": {},
     "output_type": "execute_result"
    }
   ],
   "source": [
    "df_21_22.compCohort.value_counts()"
   ]
  },
  {
   "cell_type": "code",
   "execution_count": 61,
   "metadata": {},
   "outputs": [],
   "source": [
    "df_all = sqldf(\n",
    "    \"\"\"\n",
    "    SELECT *\n",
    "    FROM df_2021_new_race AS a\n",
    "    LEFT JOIN df_21_22 AS b\n",
    "    USING(calstateEduPersonUID)\n",
    "    WHERE a.erss_campus != 96 \n",
    "    \"\"\"\n",
    ")"
   ]
  },
  {
   "cell_type": "code",
   "execution_count": 62,
   "metadata": {},
   "outputs": [
    {
     "name": "stderr",
     "output_type": "stream",
     "text": [
      "<>:1: SyntaxWarning: invalid escape sequence '\\d'\n",
      "<>:1: SyntaxWarning: invalid escape sequence '\\d'\n",
      "C:\\Users\\jluong\\AppData\\Local\\Temp\\ipykernel_18212\\486548406.py:1: SyntaxWarning: invalid escape sequence '\\d'\n",
      "  df_all.to_csv(\"..\\data\\output\\completers_2021_2022.csv\")\n"
     ]
    }
   ],
   "source": [
    "# df_all.to_csv(\"..\\data\\output\\completers_2021_2022.csv\")"
   ]
  },
  {
   "cell_type": "code",
   "execution_count": 83,
   "metadata": {},
   "outputs": [],
   "source": [
    "# Include all campuses except:\n",
    "## CalStateTEACH\n",
    "## Humboldt\n",
    "## Channel Islands\n",
    "### This means we're looking at 20 campuses for EPP levels.\n",
    "### Blank SSN's were assigned a value of DBBA60960846556. This is because empty values are padded with zeroes by Ching.\n",
    "#### An empty record will be padded with '000000000' and then swapped with 'DBBA60960846556'"
   ]
  },
  {
   "cell_type": "code",
   "execution_count": 4,
   "metadata": {},
   "outputs": [],
   "source": [
    "os.chdir(\"Z:\\\\02 EdQ DataView and TPDM\\\\New Pipeline Data\\\\scripts\")"
   ]
  },
  {
   "cell_type": "code",
   "execution_count": 5,
   "metadata": {},
   "outputs": [
    {
     "name": "stderr",
     "output_type": "stream",
     "text": [
      "<>:2: SyntaxWarning: invalid escape sequence '\\d'\n",
      "<>:4: SyntaxWarning: invalid escape sequence '\\d'\n",
      "<>:2: SyntaxWarning: invalid escape sequence '\\d'\n",
      "<>:4: SyntaxWarning: invalid escape sequence '\\d'\n",
      "C:\\Users\\jluong\\AppData\\Local\\Temp\\ipykernel_43012\\447725702.py:2: SyntaxWarning: invalid escape sequence '\\d'\n",
      "  df_21_22 = pd.read_csv(\"..\\data\\completer lists\\EDQ_COMB_COMP_2122_160623.csv\")\n",
      "C:\\Users\\jluong\\AppData\\Local\\Temp\\ipykernel_43012\\447725702.py:4: SyntaxWarning: invalid escape sequence '\\d'\n",
      "  df_22_23 = pd.read_csv(\"..\\data\\completer lists\\EDQ_COMB_COMP_2223_050324.csv\")\n"
     ]
    },
    {
     "name": "stdout",
     "output_type": "stream",
     "text": [
      "5344\n",
      "5083\n"
     ]
    }
   ],
   "source": [
    "# read in AY 2021-2022\n",
    "df_21_22 = pd.read_csv(\"..\\data\\completer lists\\EDQ_COMB_COMP_2122_160623.csv\")\n",
    "# read in AY 2022-2023\n",
    "df_22_23 = pd.read_csv(\"..\\data\\completer lists\\EDQ_COMB_COMP_2223_050324.csv\")\n",
    "print(len(df_21_22))\n",
    "print(len(df_22_23))"
   ]
  },
  {
   "cell_type": "code",
   "execution_count": 6,
   "metadata": {},
   "outputs": [],
   "source": [
    "# drop columns so that both DataFrames have the same columns\n",
    "\n",
    "df_21_22 = df_21_22.drop(columns =['Study Code'])"
   ]
  },
  {
   "cell_type": "code",
   "execution_count": 7,
   "metadata": {},
   "outputs": [],
   "source": [
    "# drop columns so that both DataFrames have the same columns\n",
    "\n",
    "df_22_23 = df_22_23.drop(columns = [\n",
    "    'Personal Non-CSU Email',\n",
    "    'Other Email',\n",
    "    'Phone Number',\n",
    "    'Noyce Grant Recipients',\n",
    "    'Noyce Code',\n",
    "    'campus_name',\n",
    "    'campus_code'\n",
    "])"
   ]
  },
  {
   "cell_type": "code",
   "execution_count": 8,
   "metadata": {},
   "outputs": [],
   "source": [
    "# sort columns A to Z so they are in the same order for the UNION\n",
    "df_21_22 = df_21_22.sort_index(axis=1)"
   ]
  },
  {
   "cell_type": "code",
   "execution_count": 9,
   "metadata": {},
   "outputs": [],
   "source": [
    "# sort columns A to Z so they are in the same order for the UNION\n",
    "df_22_23 = df_22_23.sort_index(axis=1)"
   ]
  },
  {
   "cell_type": "code",
   "execution_count": 10,
   "metadata": {},
   "outputs": [
    {
     "name": "stdout",
     "output_type": "stream",
     "text": [
      "set()\n"
     ]
    }
   ],
   "source": [
    "# Find columns that are in df1 but not in df2\n",
    "columns_not_in_df2 = set(df_21_22.columns) - set(df_22_23.columns)\n",
    "print(columns_not_in_df2)"
   ]
  },
  {
   "cell_type": "code",
   "execution_count": 11,
   "metadata": {},
   "outputs": [
    {
     "name": "stdout",
     "output_type": "stream",
     "text": [
      "set()\n"
     ]
    }
   ],
   "source": [
    "# Find columns that are in df1 but not in df2\n",
    "columns_not_in_df1 = set(df_22_23.columns) - set(df_21_22.columns)\n",
    "print(columns_not_in_df1)"
   ]
  },
  {
   "cell_type": "code",
   "execution_count": 12,
   "metadata": {},
   "outputs": [],
   "source": [
    "assert df_21_22.columns.equals(df_22_23.columns), \"Column names of the two DataFrames are not the same.\""
   ]
  },
  {
   "cell_type": "code",
   "execution_count": 13,
   "metadata": {},
   "outputs": [],
   "source": [
    "# append df_22_23 onto df_21_22\n",
    "\n",
    "sql_completers_21_23 = sqldf(\n",
    "    \"\"\"\n",
    "    SELECT *\n",
    "    FROM df_21_22\n",
    "    UNION\n",
    "    SELECT *\n",
    "    FROM df_22_23\n",
    "            \"\"\"\n",
    ")"
   ]
  },
  {
   "cell_type": "code",
   "execution_count": 14,
   "metadata": {},
   "outputs": [
    {
     "data": {
      "text/plain": [
       "10423"
      ]
     },
     "execution_count": 14,
     "metadata": {},
     "output_type": "execute_result"
    }
   ],
   "source": [
    "len(sql_completers_21_23)"
   ]
  },
  {
   "cell_type": "code",
   "execution_count": 15,
   "metadata": {},
   "outputs": [
    {
     "data": {
      "text/html": [
       "<div>\n",
       "<style scoped>\n",
       "    .dataframe tbody tr th:only-of-type {\n",
       "        vertical-align: middle;\n",
       "    }\n",
       "\n",
       "    .dataframe tbody tr th {\n",
       "        vertical-align: top;\n",
       "    }\n",
       "\n",
       "    .dataframe thead th {\n",
       "        text-align: right;\n",
       "    }\n",
       "</style>\n",
       "<table border=\"1\" class=\"dataframe\">\n",
       "  <thead>\n",
       "    <tr style=\"text-align: right;\">\n",
       "      <th></th>\n",
       "      <th>CBEST</th>\n",
       "      <th>Campus ID Number</th>\n",
       "      <th>Campus Letter Code</th>\n",
       "      <th>Cohort Number</th>\n",
       "      <th>Content Code</th>\n",
       "      <th>Credential Code</th>\n",
       "      <th>Credential Program</th>\n",
       "      <th>DOB</th>\n",
       "      <th>Evaluation Year</th>\n",
       "      <th>First Name</th>\n",
       "      <th>Last Name</th>\n",
       "      <th>Middle</th>\n",
       "      <th>Program Name</th>\n",
       "      <th>Program Type</th>\n",
       "      <th>Reporting Group</th>\n",
       "      <th>System ID Number</th>\n",
       "      <th>System Letter Code</th>\n",
       "      <th>calstateEduPersonUID</th>\n",
       "      <th>compCohort</th>\n",
       "    </tr>\n",
       "  </thead>\n",
       "  <tbody>\n",
       "    <tr>\n",
       "      <th>0</th>\n",
       "      <td>None</td>\n",
       "      <td>1</td>\n",
       "      <td>BA</td>\n",
       "      <td>23</td>\n",
       "      <td>ART</td>\n",
       "      <td>S</td>\n",
       "      <td>P</td>\n",
       "      <td>1991-01-01</td>\n",
       "      <td>2023</td>\n",
       "      <td>Heather</td>\n",
       "      <td>Gospich</td>\n",
       "      <td>B</td>\n",
       "      <td>Traditional Single Subject Credential Program</td>\n",
       "      <td>T</td>\n",
       "      <td>3</td>\n",
       "      <td>1</td>\n",
       "      <td>CSU</td>\n",
       "      <td>DDAC06992224214</td>\n",
       "      <td>2021-2022</td>\n",
       "    </tr>\n",
       "    <tr>\n",
       "      <th>1</th>\n",
       "      <td>None</td>\n",
       "      <td>1</td>\n",
       "      <td>BA</td>\n",
       "      <td>23</td>\n",
       "      <td>ART</td>\n",
       "      <td>S</td>\n",
       "      <td>P</td>\n",
       "      <td>1991-02-28</td>\n",
       "      <td>2023</td>\n",
       "      <td>Berenice</td>\n",
       "      <td>Enriquez</td>\n",
       "      <td>R</td>\n",
       "      <td>Traditional Single Subject Credential Program</td>\n",
       "      <td>T</td>\n",
       "      <td>3</td>\n",
       "      <td>1</td>\n",
       "      <td>CSU</td>\n",
       "      <td>DFFA80850121914</td>\n",
       "      <td>2021-2022</td>\n",
       "    </tr>\n",
       "    <tr>\n",
       "      <th>2</th>\n",
       "      <td>None</td>\n",
       "      <td>1</td>\n",
       "      <td>BA</td>\n",
       "      <td>23</td>\n",
       "      <td>ART</td>\n",
       "      <td>S</td>\n",
       "      <td>P</td>\n",
       "      <td>1997-02-10</td>\n",
       "      <td>2023</td>\n",
       "      <td>Kimberly</td>\n",
       "      <td>Aguayo</td>\n",
       "      <td>R</td>\n",
       "      <td>Traditional Single Subject Credential Program</td>\n",
       "      <td>T</td>\n",
       "      <td>3</td>\n",
       "      <td>1</td>\n",
       "      <td>CSU</td>\n",
       "      <td>BCDC09256947941</td>\n",
       "      <td>2021-2022</td>\n",
       "    </tr>\n",
       "    <tr>\n",
       "      <th>3</th>\n",
       "      <td>None</td>\n",
       "      <td>1</td>\n",
       "      <td>BA</td>\n",
       "      <td>23</td>\n",
       "      <td>ART</td>\n",
       "      <td>S</td>\n",
       "      <td>X</td>\n",
       "      <td>1983-06-17</td>\n",
       "      <td>2023</td>\n",
       "      <td>Antonia</td>\n",
       "      <td>Lopez</td>\n",
       "      <td>A</td>\n",
       "      <td>Teacher Residency for Rural Education (TRRE)</td>\n",
       "      <td>R</td>\n",
       "      <td>3</td>\n",
       "      <td>1</td>\n",
       "      <td>CSU</td>\n",
       "      <td>DCAE02203478492</td>\n",
       "      <td>2021-2022</td>\n",
       "    </tr>\n",
       "    <tr>\n",
       "      <th>4</th>\n",
       "      <td>None</td>\n",
       "      <td>1</td>\n",
       "      <td>BA</td>\n",
       "      <td>23</td>\n",
       "      <td>BUSI</td>\n",
       "      <td>E</td>\n",
       "      <td>P</td>\n",
       "      <td>1996-09-08</td>\n",
       "      <td>2023</td>\n",
       "      <td>Luis</td>\n",
       "      <td>Martinez</td>\n",
       "      <td>G</td>\n",
       "      <td>Ed. Spec. (Mild/Moderate) - Student Teaching</td>\n",
       "      <td>T</td>\n",
       "      <td>3</td>\n",
       "      <td>1</td>\n",
       "      <td>CSU</td>\n",
       "      <td>DFCB91500849441</td>\n",
       "      <td>2021-2022</td>\n",
       "    </tr>\n",
       "  </tbody>\n",
       "</table>\n",
       "</div>"
      ],
      "text/plain": [
       "  CBEST  Campus ID Number Campus Letter Code  Cohort Number Content Code  \\\n",
       "0  None                 1                 BA             23          ART   \n",
       "1  None                 1                 BA             23          ART   \n",
       "2  None                 1                 BA             23          ART   \n",
       "3  None                 1                 BA             23          ART   \n",
       "4  None                 1                 BA             23         BUSI   \n",
       "\n",
       "  Credential Code Credential Program         DOB  Evaluation Year First Name  \\\n",
       "0               S                  P  1991-01-01             2023    Heather   \n",
       "1               S                  P  1991-02-28             2023   Berenice   \n",
       "2               S                  P  1997-02-10             2023   Kimberly   \n",
       "3               S                  X  1983-06-17             2023    Antonia   \n",
       "4               E                  P  1996-09-08             2023       Luis   \n",
       "\n",
       "  Last Name Middle                                   Program Name  \\\n",
       "0   Gospich      B  Traditional Single Subject Credential Program   \n",
       "1  Enriquez      R  Traditional Single Subject Credential Program   \n",
       "2    Aguayo      R  Traditional Single Subject Credential Program   \n",
       "3     Lopez      A   Teacher Residency for Rural Education (TRRE)   \n",
       "4  Martinez      G   Ed. Spec. (Mild/Moderate) - Student Teaching   \n",
       "\n",
       "  Program Type  Reporting Group  System ID Number System Letter Code  \\\n",
       "0            T                3                 1                CSU   \n",
       "1            T                3                 1                CSU   \n",
       "2            T                3                 1                CSU   \n",
       "3            R                3                 1                CSU   \n",
       "4            T                3                 1                CSU   \n",
       "\n",
       "  calstateEduPersonUID compCohort  \n",
       "0      DDAC06992224214  2021-2022  \n",
       "1      DFFA80850121914  2021-2022  \n",
       "2      BCDC09256947941  2021-2022  \n",
       "3      DCAE02203478492  2021-2022  \n",
       "4      DFCB91500849441  2021-2022  "
      ]
     },
     "execution_count": 15,
     "metadata": {},
     "output_type": "execute_result"
    }
   ],
   "source": [
    "sql_completers_21_23.head()"
   ]
  },
  {
   "cell_type": "code",
   "execution_count": 17,
   "metadata": {},
   "outputs": [
    {
     "name": "stderr",
     "output_type": "stream",
     "text": [
      "<>:1: SyntaxWarning: invalid escape sequence '\\d'\n",
      "<>:1: SyntaxWarning: invalid escape sequence '\\d'\n",
      "C:\\Users\\jluong\\AppData\\Local\\Temp\\ipykernel_43012\\2626708461.py:1: SyntaxWarning: invalid escape sequence '\\d'\n",
      "  sql_completers_21_23.to_csv(\"..\\data\\output\\\\for_schusterman_completers_21_to_23.csv\", index = False)\n"
     ]
    }
   ],
   "source": [
    "sql_completers_21_23.to_csv(\"..\\data\\output\\\\for_schusterman_completers_21_to_23.csv\", index = False)"
   ]
  },
  {
   "cell_type": "code",
   "execution_count": 96,
   "metadata": {},
   "outputs": [],
   "source": [
    "# 96 is CalStateTEACH\n",
    "# there are 20 completers who may not match with df_2021_new_race because the SSN was blank\n",
    "# after joining these tables, 17 records were duplicated because they were found in 2 different completer lists\n",
    "# 1 student, DEDF71281814529, showed an enrollment at 2 campuses, but only completed at Long Beach that year.\n",
    "# business rule: Only keep the first record (earliest record) of completion\n",
    "## What does this mean? This means that some campuses may have included a completer in both the 2021-2022 AND 2022-2023 lists.\n",
    "# If someone completed multiple programs, we look at their first completed program for the 2-year completion rate.\n",
    "df_all = sqldf(\n",
    "    \"\"\"\n",
    "    SELECT *\n",
    "    FROM df_2021_new_race AS a\n",
    "    LEFT JOIN sql_completers_21_23 AS b\n",
    "    USING(calstateEduPersonUID)\n",
    "    WHERE a.erss_campus != 96 \n",
    "    \"\"\"\n",
    ")"
   ]
  },
  {
   "cell_type": "code",
   "execution_count": 97,
   "metadata": {},
   "outputs": [
    {
     "name": "stderr",
     "output_type": "stream",
     "text": [
      "<>:1: SyntaxWarning: invalid escape sequence '\\d'\n",
      "<>:1: SyntaxWarning: invalid escape sequence '\\d'\n",
      "C:\\Users\\jluong\\AppData\\Local\\Temp\\ipykernel_18212\\3161568363.py:1: SyntaxWarning: invalid escape sequence '\\d'\n",
      "  df_all.to_csv(\"..\\data\\output\\RAW_level_4_epp_completers.csv\", index = False)\n"
     ]
    },
    {
     "ename": "",
     "evalue": "",
     "output_type": "error",
     "traceback": [
      "\u001b[1;31mThe Kernel crashed while executing code in the current cell or a previous cell. \n",
      "\u001b[1;31mPlease review the code in the cell(s) to identify a possible cause of the failure. \n",
      "\u001b[1;31mClick <a href='https://aka.ms/vscodeJupyterKernelCrash'>here</a> for more info. \n",
      "\u001b[1;31mView Jupyter <a href='command:jupyter.viewOutput'>log</a> for further details."
     ]
    }
   ],
   "source": [
    "df_all.to_csv(\"..\\data\\output\\RAW_level_4_epp_completers.csv\", index = False)"
   ]
  },
  {
   "cell_type": "code",
   "execution_count": null,
   "metadata": {},
   "outputs": [],
   "source": [
    "# feedback:\n",
    "# first-time freshmen fall 2016\n",
    "# 2-Year Completers or Completers within 2 years\n",
    "# Share data tables\n",
    "# Share funnel with numbers\n",
    "# Remember that in some charts n<10 is NOT shown, which could affect total counts."
   ]
  },
  {
   "cell_type": "code",
   "execution_count": 73,
   "metadata": {},
   "outputs": [],
   "source": [
    "# calculate 1-year completion rate\n"
   ]
  },
  {
   "cell_type": "code",
   "execution_count": 74,
   "metadata": {},
   "outputs": [],
   "source": [
    "# calculate 2-year completion rate"
   ]
  },
  {
   "cell_type": "code",
   "execution_count": null,
   "metadata": {},
   "outputs": [],
   "source": []
  }
 ],
 "metadata": {
  "kernelspec": {
   "display_name": "minimal_ds",
   "language": "python",
   "name": "python3"
  },
  "language_info": {
   "codemirror_mode": {
    "name": "ipython",
    "version": 3
   },
   "file_extension": ".py",
   "mimetype": "text/x-python",
   "name": "python",
   "nbconvert_exporter": "python",
   "pygments_lexer": "ipython3",
   "version": "3.12.1"
  }
 },
 "nbformat": 4,
 "nbformat_minor": 2
}
