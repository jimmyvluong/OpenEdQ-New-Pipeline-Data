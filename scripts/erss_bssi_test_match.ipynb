{
 "cells": [
  {
   "cell_type": "markdown",
   "metadata": {},
   "source": [
    "### Goal: Determine 2-year completion rate for first-time students in EPP's in Fall 2019."
   ]
  },
  {
   "cell_type": "markdown",
   "metadata": {},
   "source": [
    "#### files:\n",
    "1. enrollment\n",
    "2. completer lists\n",
    "3. credential lookup table\n",
    "4. campus codes and names lookup table\n",
    "5. race and ethnicity lookup table"
   ]
  },
  {
   "cell_type": "code",
   "execution_count": 1,
   "metadata": {},
   "outputs": [],
   "source": [
    "#### import packages ####\n",
    "import pandas as pd\n",
    "from pandasql import sqldf"
   ]
  },
  {
   "cell_type": "code",
   "execution_count": null,
   "metadata": {},
   "outputs": [],
   "source": [
    "#### Read in data ####\n",
    "### enrollment ###\n",
    "# erss data for AY 2019-2020\n",
    "df = pd.read_csv(\"..\\data\\erss\\.csv\",\n",
    "dtype={'erss_cred_stat': str, 'erss_ethnic_old': str, 'erss_cred_emph': str, 'erss_spec_prog' :str})"
   ]
  },
  {
   "cell_type": "code",
   "execution_count": null,
   "metadata": {},
   "outputs": [],
   "source": [
    "### completer lists ###\n",
    "# completer list for AY 2020-2021\n",
    "df_comp_2020_2021 = pd.read_csv()\n",
    "\n",
    "# completer list for AY 2021-2022\n",
    "df_comp_2021_2022 = pd.read_csv()"
   ]
  },
  {
   "cell_type": "code",
   "execution_count": null,
   "metadata": {},
   "outputs": [],
   "source": [
    "### credential objective lookup table ###\n",
    "# load in credential objective lookup table\n",
    "df_lookup = pd.read_excel(\"..\\data\\credential_objective_lookup\\erss_cred_obj_lookup.xlsx\", sheet_name = \"edq_version\")"
   ]
  },
  {
   "cell_type": "code",
   "execution_count": null,
   "metadata": {},
   "outputs": [],
   "source": [
    "### campus names and codes ###\n",
    "# load in campus names and campus codes\n",
    "df_campus_codes = pd.read_excel(\"..\\data\\campus_codes\\campus_codes_and_names.xlsx\")"
   ]
  },
  {
   "cell_type": "code",
   "execution_count": null,
   "metadata": {},
   "outputs": [],
   "source": [
    "### race and ethnicity lookup table ###\n",
    "\n",
    "# read in ipeds lookup table\n",
    "df_ipeds_race = pd.read_excel(\"..\\data\\ipeds_race_lookup\\ipeds_race_lookup.xlsx\")"
   ]
  },
  {
   "cell_type": "code",
   "execution_count": null,
   "metadata": {},
   "outputs": [],
   "source": [
    "#### clean and prepare data ####"
   ]
  },
  {
   "cell_type": "code",
   "execution_count": null,
   "metadata": {},
   "outputs": [],
   "source": [
    "### enrollment ###"
   ]
  },
  {
   "cell_type": "code",
   "execution_count": null,
   "metadata": {},
   "outputs": [],
   "source": [
    "### completer lists ###\n",
    "## check: make sure there's a field to identify the academic year, if not, create one ##\n",
    "\n",
    "## union the completer lists together"
   ]
  },
  {
   "cell_type": "code",
   "execution_count": null,
   "metadata": {},
   "outputs": [],
   "source": [
    "### credential objective lookup table ###\n",
    "\n",
    "# change datatype of erss_cred_obj to int so it can be joined on the erss table\n",
    "df_lookup['erss_cred_obj']= df_lookup['erss_cred_obj'].astype(int)\n",
    "\n",
    "# left join the program type onto the main DataFrame\n",
    "df_2021_combined = pd.merge(df_2021_fall, df_lookup, left_on = \"erss_cred_obj\", right_on = \"erss_cred_obj\",how = 'left')"
   ]
  },
  {
   "cell_type": "code",
   "execution_count": null,
   "metadata": {},
   "outputs": [],
   "source": []
  },
  {
   "cell_type": "code",
   "execution_count": null,
   "metadata": {},
   "outputs": [],
   "source": [
    "#### join data ####"
   ]
  },
  {
   "cell_type": "code",
   "execution_count": null,
   "metadata": {},
   "outputs": [],
   "source": [
    "#### calculate metrics ####\n",
    "### 1-year completion rate ###\n",
    "\n",
    "### 2-year completion rate ###\n",
    "\n",
    "### 3-year completion rate ###"
   ]
  }
 ],
 "metadata": {
  "kernelspec": {
   "display_name": "sql_env",
   "language": "python",
   "name": "python3"
  },
  "language_info": {
   "codemirror_mode": {
    "name": "ipython",
    "version": 3
   },
   "file_extension": ".py",
   "mimetype": "text/x-python",
   "name": "python",
   "nbconvert_exporter": "python",
   "pygments_lexer": "ipython3",
   "version": "3.12.1"
  }
 },
 "nbformat": 4,
 "nbformat_minor": 2
}
