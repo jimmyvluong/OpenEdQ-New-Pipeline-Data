{
 "cells": [
  {
   "cell_type": "markdown",
   "metadata": {},
   "source": [
    "## Section 1 of this script loads in enrollment data for AY 2022-2023 and outputs the number of teacher preparation program enrollments by  campus by race and ethnicity.\n",
    "\n",
    "## Section 2 of this script focuses on completers."
   ]
  },
  {
   "cell_type": "markdown",
   "metadata": {},
   "source": [
    "# Section 1"
   ]
  },
  {
   "cell_type": "code",
   "execution_count": 2,
   "metadata": {},
   "outputs": [
    {
     "data": {
      "text/plain": [
       "'z:\\\\02 EdQ DataView and TPDM\\\\New Pipeline Data\\\\scripts'"
      ]
     },
     "execution_count": 2,
     "metadata": {},
     "output_type": "execute_result"
    }
   ],
   "source": [
    "import os\n",
    "os.getcwd()"
   ]
  },
  {
   "cell_type": "code",
   "execution_count": 58,
   "metadata": {},
   "outputs": [],
   "source": [
    "os.chdir(\"Z:\\\\02 EdQ DataView and TPDM\\\\New Pipeline Data\\\\scripts\")"
   ]
  },
  {
   "cell_type": "code",
   "execution_count": 3,
   "metadata": {},
   "outputs": [],
   "source": [
    "# import pandas and pandasql libraries\n",
    "import pandas as pd\n",
    "from pandasql import sqldf"
   ]
  },
  {
   "cell_type": "markdown",
   "metadata": {},
   "source": [
    "# Load in enrollment data"
   ]
  },
  {
   "cell_type": "code",
   "execution_count": 4,
   "metadata": {},
   "outputs": [
    {
     "name": "stderr",
     "output_type": "stream",
     "text": [
      "<>:2: SyntaxWarning: invalid escape sequence '\\d'\n",
      "<>:2: SyntaxWarning: invalid escape sequence '\\d'\n",
      "C:\\Users\\jluong\\AppData\\Local\\Temp\\ipykernel_33204\\2726643687.py:2: SyntaxWarning: invalid escape sequence '\\d'\n",
      "  \"..\\data\\erss\\ERSS_20223_20234profileSLASH_N_REMOVED_240123.csv\",\n"
     ]
    }
   ],
   "source": [
    "df_erss = pd.read_csv(\n",
    "    \"..\\data\\erss\\ERSS_20223_20234profileSLASH_N_REMOVED_240123.csv\",\n",
    "    dtype={\n",
    "        \"erss_cred_stat\": str,\n",
    "        \"erss_ethnic_old\": str,\n",
    "        \"erss_cred_emph\": str,\n",
    "        \"erss_spec_prog\": str,\n",
    "    },\n",
    ")"
   ]
  },
  {
   "cell_type": "code",
   "execution_count": 139,
   "metadata": {},
   "outputs": [
    {
     "name": "stderr",
     "output_type": "stream",
     "text": [
      "<>:3: SyntaxWarning: invalid escape sequence '\\d'\n",
      "<>:3: SyntaxWarning: invalid escape sequence '\\d'\n",
      "C:\\Users\\jluong\\AppData\\Local\\Temp\\ipykernel_7808\\2408722835.py:3: SyntaxWarning: invalid escape sequence '\\d'\n",
      "  \"..\\data\\erss\\ERSS_20213_20222_221215.csv\",\n"
     ]
    }
   ],
   "source": [
    "## AY 2021-2022\n",
    "df_erss_21_22 = pd.read_csv(\n",
    "    \"..\\data\\erss\\ERSS_20213_20222_221215.csv\",\n",
    "    dtype={\n",
    "        \"erss_cred_stat\": str,\n",
    "        \"erss_ethnic_old\": str,\n",
    "        \"erss_cred_emph\": str,\n",
    "        \"erss_spec_prog\": str,\n",
    "    },\n",
    ")"
   ]
  },
  {
   "cell_type": "code",
   "execution_count": 5,
   "metadata": {},
   "outputs": [
    {
     "name": "stderr",
     "output_type": "stream",
     "text": [
      "<>:3: SyntaxWarning: invalid escape sequence '\\d'\n",
      "<>:3: SyntaxWarning: invalid escape sequence '\\d'\n",
      "C:\\Users\\jluong\\AppData\\Local\\Temp\\ipykernel_33204\\1471605555.py:3: SyntaxWarning: invalid escape sequence '\\d'\n",
      "  \"..\\data\\credential_objective_lookup\\erss_cred_obj_lookup.xlsx\",\n"
     ]
    }
   ],
   "source": [
    "# load in credential objective lookup table\n",
    "df_lookup = pd.read_excel(\n",
    "    \"..\\data\\credential_objective_lookup\\erss_cred_obj_lookup.xlsx\",\n",
    "    sheet_name=\"appendix_c_ir\",\n",
    ")"
   ]
  },
  {
   "cell_type": "code",
   "execution_count": 6,
   "metadata": {},
   "outputs": [],
   "source": [
    "# change datatype of erss_cred_obj to int so it can be joined on the erss table\n",
    "df_lookup[\"erss_cred_obj\"] = df_lookup[\"erss_cred_obj\"].astype(int)"
   ]
  },
  {
   "cell_type": "code",
   "execution_count": 7,
   "metadata": {},
   "outputs": [
    {
     "name": "stderr",
     "output_type": "stream",
     "text": [
      "<>:2: SyntaxWarning: invalid escape sequence '\\d'\n",
      "<>:2: SyntaxWarning: invalid escape sequence '\\d'\n",
      "C:\\Users\\jluong\\AppData\\Local\\Temp\\ipykernel_33204\\2539122274.py:2: SyntaxWarning: invalid escape sequence '\\d'\n",
      "  df_campus_codes = pd.read_excel(\"..\\data\\campus_codes\\campus_codes_and_names.xlsx\")\n"
     ]
    }
   ],
   "source": [
    "# load in campus names and campus codes\n",
    "df_campus_codes = pd.read_excel(\"..\\data\\campus_codes\\campus_codes_and_names.xlsx\")"
   ]
  },
  {
   "cell_type": "markdown",
   "metadata": {},
   "source": [
    "---------"
   ]
  },
  {
   "cell_type": "markdown",
   "metadata": {},
   "source": [
    "- filter down to Long Beach and SLO\n",
    "- filter down to Fall and Spring semesters for Long Beach\n",
    "- filter down to Fall, Winter, and Spring terms for SLO\n"
   ]
  },
  {
   "cell_type": "markdown",
   "metadata": {},
   "source": [
    "- 1\tWinter Quarter or Term\n",
    "- 2\tSpring Semester, Quarter, or Term\n",
    "- 3\tSummer Semester, Quarter, or Term\n",
    "- 4\tFall Semester, Quarter, or Term\n",
    "- 9\tAll Terms"
   ]
  },
  {
   "cell_type": "markdown",
   "metadata": {},
   "source": [
    "- ers_year for 2022 has erss_term 3 and 4\n",
    "- ers_year for 2023 has erss_term 1, 2, 3, and 4"
   ]
  },
  {
   "cell_type": "markdown",
   "metadata": {},
   "source": [
    "WANT\n",
    "- 2022 Fall: erss_year = 2022 & erss_term = 4\n",
    "- 2023 Winter: erss_year = 2023 & erss_term =  1 \n",
    "- 2023 Spring: erss_year = 2023 & erss_term =  2"
   ]
  },
  {
   "cell_type": "markdown",
   "metadata": {},
   "source": [
    "## 2a: INTERN"
   ]
  },
  {
   "cell_type": "code",
   "execution_count": 144,
   "metadata": {},
   "outputs": [],
   "source": [
    "# recreate intern only\n",
    "## filter down to teacher credential enrollments\n",
    "df_2022_fall_intern = df_erss[\n",
    "    (df_erss[\"erss_year\"] == 2022)\n",
    "    & (df_erss[\"erss_term\"] == 4)\n",
    "    & (df_erss[\"erss_cred_stat\"].isin([\"8\"]))\n",
    "    & (df_erss[\"erss_stud_lev\"] == 5)\n",
    "]"
   ]
  },
  {
   "cell_type": "code",
   "execution_count": 143,
   "metadata": {},
   "outputs": [],
   "source": [
    "# AY 2021-2022\n",
    "# recreate intern only\n",
    "## filter down to teacher credential enrollments\n",
    "df_2021_fall_intern = df_erss_21_22[\n",
    "    (df_erss_21_22[\"erss_year\"] == 2021)\n",
    "    & (df_erss_21_22[\"erss_term\"] == 4)\n",
    "    & (df_erss_21_22[\"erss_cred_stat\"].isin([\"8\"]))\n",
    "    & (df_erss_21_22[\"erss_stud_lev\"] == 5)\n",
    "]"
   ]
  },
  {
   "cell_type": "code",
   "execution_count": 148,
   "metadata": {},
   "outputs": [
    {
     "data": {
      "text/plain": [
       "738"
      ]
     },
     "execution_count": 148,
     "metadata": {},
     "output_type": "execute_result"
    }
   ],
   "source": [
    "len(df_2022_fall_intern)"
   ]
  },
  {
   "cell_type": "code",
   "execution_count": 149,
   "metadata": {},
   "outputs": [
    {
     "data": {
      "text/plain": [
       "744"
      ]
     },
     "execution_count": 149,
     "metadata": {},
     "output_type": "execute_result"
    }
   ],
   "source": [
    "len(df_2021_fall_intern)"
   ]
  },
  {
   "cell_type": "code",
   "execution_count": 145,
   "metadata": {},
   "outputs": [],
   "source": [
    "# recreate intern only\n",
    "## filter down to teacher credential enrollments\n",
    "df_2023_winter_spring_intern = df_erss[\n",
    "    (df_erss[\"erss_year\"] == 2023)\n",
    "    & (df_erss[\"erss_term\"].isin([1,2]))\n",
    "    & (df_erss[\"erss_cred_stat\"].isin([\"8\"]))\n",
    "    & (df_erss[\"erss_stud_lev\"] == 5)\n",
    "]"
   ]
  },
  {
   "cell_type": "code",
   "execution_count": 146,
   "metadata": {},
   "outputs": [],
   "source": [
    "# AY 2021-2022\n",
    "# recreate intern only\n",
    "## filter down to teacher credential enrollments\n",
    "df_2022_winter_spring_intern = df_erss_21_22[\n",
    "    (df_erss_21_22[\"erss_year\"] == 2022)\n",
    "    & (df_erss_21_22[\"erss_term\"].isin([1,2]))\n",
    "    & (df_erss_21_22[\"erss_cred_stat\"].isin([\"8\"]))\n",
    "    & (df_erss_21_22[\"erss_stud_lev\"] == 5)\n",
    "]"
   ]
  },
  {
   "cell_type": "code",
   "execution_count": 147,
   "metadata": {},
   "outputs": [
    {
     "data": {
      "text/plain": [
       "720"
      ]
     },
     "execution_count": 147,
     "metadata": {},
     "output_type": "execute_result"
    }
   ],
   "source": [
    "len(df_2023_winter_spring_intern)"
   ]
  },
  {
   "cell_type": "code",
   "execution_count": 150,
   "metadata": {},
   "outputs": [
    {
     "data": {
      "text/plain": [
       "764"
      ]
     },
     "execution_count": 150,
     "metadata": {},
     "output_type": "execute_result"
    }
   ],
   "source": [
    "len(df_2022_winter_spring_intern)"
   ]
  },
  {
   "cell_type": "code",
   "execution_count": 68,
   "metadata": {},
   "outputs": [],
   "source": [
    "# combine intern df's together\n",
    "df_22_23_intern = sqldf(\n",
    "    \"\"\"\n",
    "    SELECT *\n",
    "    FROM df_2022_fall_intern\n",
    "    UNION\n",
    "    SELECT * FROM df_2023_winter_spring_intern\n",
    "\"\"\"\n",
    ")"
   ]
  },
  {
   "cell_type": "code",
   "execution_count": 151,
   "metadata": {},
   "outputs": [],
   "source": [
    "# AY 2021-2022\n",
    "# combine intern df's together\n",
    "df_21_22_intern = sqldf(\n",
    "    \"\"\"\n",
    "    SELECT *\n",
    "    FROM df_2021_fall_intern\n",
    "    UNION\n",
    "    SELECT * FROM df_2022_winter_spring_intern\n",
    "\"\"\"\n",
    ")"
   ]
  },
  {
   "cell_type": "code",
   "execution_count": 152,
   "metadata": {},
   "outputs": [
    {
     "name": "stdout",
     "output_type": "stream",
     "text": [
      "966\n"
     ]
    },
    {
     "data": {
      "text/plain": [
       "1508"
      ]
     },
     "execution_count": 152,
     "metadata": {},
     "output_type": "execute_result"
    }
   ],
   "source": [
    "print(len(df_22_23_intern))\n",
    "len(df_21_22_intern)"
   ]
  },
  {
   "cell_type": "code",
   "execution_count": 70,
   "metadata": {},
   "outputs": [],
   "source": [
    "# Note: Dropping duplicates can be problematic here because records with missing SSN's get the same masked calstateEduPersonUID\n",
    "df_22_23_intern.drop_duplicates(subset=['calstateEduPersonUID'], inplace = True)\n"
   ]
  },
  {
   "cell_type": "code",
   "execution_count": 154,
   "metadata": {},
   "outputs": [],
   "source": [
    "# AY 2021-2022\n",
    "df_21_22_intern.drop_duplicates(subset=['calstateEduPersonUID'], inplace = True)\n"
   ]
  },
  {
   "cell_type": "code",
   "execution_count": 156,
   "metadata": {},
   "outputs": [
    {
     "name": "stdout",
     "output_type": "stream",
     "text": [
      "966\n"
     ]
    },
    {
     "data": {
      "text/plain": [
       "991"
      ]
     },
     "execution_count": 156,
     "metadata": {},
     "output_type": "execute_result"
    }
   ],
   "source": [
    "print(len(df_22_23_intern))\n",
    "len(df_21_22_intern)\n",
    "# Next: Do the same for AY 2021-2022 for part 2d"
   ]
  },
  {
   "cell_type": "markdown",
   "metadata": {},
   "source": [
    "## 2d: POSTBACC AND GRADUATES IN REGULAR PROGRAMS"
   ]
  },
  {
   "cell_type": "code",
   "execution_count": 73,
   "metadata": {},
   "outputs": [
    {
     "data": {
      "text/plain": [
       "11083"
      ]
     },
     "execution_count": 73,
     "metadata": {},
     "output_type": "execute_result"
    }
   ],
   "source": [
    "## Postbacc and graduates\n",
    "## filter down to teacher credential enrollments\n",
    "\n",
    "df_2022_fall_postbacc = df_erss[\n",
    "    (df_erss[\"erss_year\"] == 2022)\n",
    "    & (df_erss[\"erss_term\"] == 4)\n",
    "    & (df_erss[\"erss_stud_lev\"].isin([5]))\n",
    "    & (df_erss[\"erss_cred_stat\"].isin([\"4\",\"5\", \"6\", \"V\", \"H\", \"I\", \"J\", \"K\"]))\n",
    "    & (df_erss[\"erss_stud_stand\"].isin([\"C\", \"5\", \"1\", \"2\", \"3\", \"6\", \"7\", \"8\"]))\n",
    "]\n",
    "len(df_2022_fall_postbacc)"
   ]
  },
  {
   "cell_type": "code",
   "execution_count": 157,
   "metadata": {},
   "outputs": [
    {
     "data": {
      "text/plain": [
       "12243"
      ]
     },
     "execution_count": 157,
     "metadata": {},
     "output_type": "execute_result"
    }
   ],
   "source": [
    "# AY 2021-2022\n",
    "## Postbacc and graduates\n",
    "## filter down to teacher credential enrollments\n",
    "\n",
    "df_2021_fall_postbacc = df_erss_21_22[\n",
    "    (df_erss_21_22[\"erss_year\"] == 2021)\n",
    "    & (df_erss_21_22[\"erss_term\"] == 4)\n",
    "    & (df_erss_21_22[\"erss_stud_lev\"].isin([5]))\n",
    "    & (df_erss_21_22[\"erss_cred_stat\"].isin([\"4\",\"5\", \"6\", \"V\", \"H\", \"I\", \"J\", \"K\"]))\n",
    "    & (df_erss_21_22[\"erss_stud_stand\"].isin([\"C\", \"5\", \"1\", \"2\", \"3\", \"6\", \"7\", \"8\"]))\n",
    "]\n",
    "len(df_2021_fall_postbacc)"
   ]
  },
  {
   "cell_type": "code",
   "execution_count": 74,
   "metadata": {},
   "outputs": [
    {
     "data": {
      "text/plain": [
       "9980"
      ]
     },
     "execution_count": 74,
     "metadata": {},
     "output_type": "execute_result"
    }
   ],
   "source": [
    "## Postbacc and graduates\n",
    "## filter down to teacher credential enrollments\n",
    "\n",
    "df_2023_winter_spring_postbacc = df_erss[\n",
    "    (df_erss[\"erss_year\"] == 2023)\n",
    "    & (df_erss[\"erss_term\"].isin([1,2]))\n",
    "    & (df_erss[\"erss_stud_lev\"].isin([5]))\n",
    "    & (df_erss[\"erss_cred_stat\"].isin([\"4\",\"5\", \"6\", \"V\", \"H\", \"I\", \"J\", \"K\"]))\n",
    "    & (df_erss[\"erss_stud_stand\"].isin([\"C\", \"5\", \"1\", \"2\", \"3\", \"6\", \"7\", \"8\"]))\n",
    "]\n",
    "len(df_2023_winter_spring_postbacc)"
   ]
  },
  {
   "cell_type": "code",
   "execution_count": 158,
   "metadata": {},
   "outputs": [
    {
     "data": {
      "text/plain": [
       "11091"
      ]
     },
     "execution_count": 158,
     "metadata": {},
     "output_type": "execute_result"
    }
   ],
   "source": [
    "# AY 2021-2022\n",
    "## Postbacc and graduates\n",
    "## filter down to teacher credential enrollments\n",
    "\n",
    "df_2022_winter_spring_postbacc = df_erss_21_22[\n",
    "    (df_erss_21_22[\"erss_year\"] == 2022)\n",
    "    & (df_erss_21_22[\"erss_term\"].isin([1,2]))\n",
    "    & (df_erss_21_22[\"erss_stud_lev\"].isin([5]))\n",
    "    & (df_erss_21_22[\"erss_cred_stat\"].isin([\"4\",\"5\", \"6\", \"V\", \"H\", \"I\", \"J\", \"K\"]))\n",
    "    & (df_erss_21_22[\"erss_stud_stand\"].isin([\"C\", \"5\", \"1\", \"2\", \"3\", \"6\", \"7\", \"8\"]))\n",
    "]\n",
    "len(df_2022_winter_spring_postbacc)"
   ]
  },
  {
   "cell_type": "code",
   "execution_count": 75,
   "metadata": {},
   "outputs": [
    {
     "data": {
      "text/plain": [
       "erss_cred_stat\n",
       "5    10166\n",
       "V      437\n",
       "4      420\n",
       "6       60\n",
       "Name: count, dtype: int64"
      ]
     },
     "execution_count": 75,
     "metadata": {},
     "output_type": "execute_result"
    }
   ],
   "source": [
    "df_2022_fall_postbacc.erss_cred_stat.value_counts()"
   ]
  },
  {
   "cell_type": "code",
   "execution_count": 159,
   "metadata": {},
   "outputs": [
    {
     "data": {
      "text/plain": [
       "erss_cred_stat\n",
       "5    11349\n",
       "4      456\n",
       "V      408\n",
       "6       30\n",
       "Name: count, dtype: int64"
      ]
     },
     "execution_count": 159,
     "metadata": {},
     "output_type": "execute_result"
    }
   ],
   "source": [
    "df_2021_fall_postbacc.erss_cred_stat.value_counts()"
   ]
  },
  {
   "cell_type": "code",
   "execution_count": 76,
   "metadata": {},
   "outputs": [
    {
     "data": {
      "text/plain": [
       "11083"
      ]
     },
     "execution_count": 76,
     "metadata": {},
     "output_type": "execute_result"
    }
   ],
   "source": [
    "# check MS, ES, SS counts\n",
    "# left join the program type onto the main DataFrame\n",
    "df_2022_2023_merge_test = pd.merge(\n",
    "    df_2022_fall_postbacc,\n",
    "    df_lookup,\n",
    "    left_on=\"erss_cred_obj\",\n",
    "    right_on=\"erss_cred_obj\",\n",
    "    how=\"left\",\n",
    ")\n",
    "len(df_2022_2023_merge_test)"
   ]
  },
  {
   "cell_type": "code",
   "execution_count": 77,
   "metadata": {},
   "outputs": [
    {
     "data": {
      "text/plain": [
       "code_value\n",
       "MS       4344\n",
       "SS       3544\n",
       "Other    1623\n",
       "ES       1572\n",
       "Name: count, dtype: int64"
      ]
     },
     "execution_count": 77,
     "metadata": {},
     "output_type": "execute_result"
    }
   ],
   "source": [
    "df_2022_2023_merge_test[\"code_value\"].value_counts()"
   ]
  },
  {
   "cell_type": "code",
   "execution_count": 78,
   "metadata": {},
   "outputs": [
    {
     "data": {
      "text/plain": [
       "10629.213483146068"
      ]
     },
     "execution_count": 78,
     "metadata": {},
     "output_type": "execute_result"
    }
   ],
   "source": [
    "(4344+3544+1572)/0.89"
   ]
  },
  {
   "cell_type": "code",
   "execution_count": 79,
   "metadata": {},
   "outputs": [
    {
     "data": {
      "text/plain": [
       "21063"
      ]
     },
     "execution_count": 79,
     "metadata": {},
     "output_type": "execute_result"
    }
   ],
   "source": [
    "# combine postbacc df's together\n",
    "df_22_23_postbacc = sqldf(\n",
    "    \"\"\"\n",
    "    SELECT *\n",
    "    FROM df_2022_fall_postbacc\n",
    "    UNION\n",
    "    SELECT * FROM df_2023_winter_spring_postbacc\n",
    "\"\"\"\n",
    ")\n",
    "len(df_22_23_postbacc)"
   ]
  },
  {
   "cell_type": "code",
   "execution_count": 160,
   "metadata": {},
   "outputs": [
    {
     "data": {
      "text/plain": [
       "23334"
      ]
     },
     "execution_count": 160,
     "metadata": {},
     "output_type": "execute_result"
    }
   ],
   "source": [
    "# AY 2021-2022\n",
    "# combine postbacc df's together\n",
    "df_21_22_postbacc = sqldf(\n",
    "    \"\"\"\n",
    "    SELECT *\n",
    "    FROM df_2021_fall_postbacc\n",
    "    UNION\n",
    "    SELECT * FROM df_2022_winter_spring_postbacc\n",
    "\"\"\"\n",
    ")\n",
    "len(df_21_22_postbacc)"
   ]
  },
  {
   "cell_type": "code",
   "execution_count": 80,
   "metadata": {},
   "outputs": [
    {
     "data": {
      "text/plain": [
       "13828"
      ]
     },
     "execution_count": 80,
     "metadata": {},
     "output_type": "execute_result"
    }
   ],
   "source": [
    "df_22_23_postbacc.drop_duplicates(subset=['calstateEduPersonUID'], inplace = True)\n",
    "len(df_22_23_postbacc)"
   ]
  },
  {
   "cell_type": "code",
   "execution_count": 161,
   "metadata": {},
   "outputs": [
    {
     "data": {
      "text/plain": [
       "14326"
      ]
     },
     "execution_count": 161,
     "metadata": {},
     "output_type": "execute_result"
    }
   ],
   "source": [
    "df_21_22_postbacc.drop_duplicates(subset=['calstateEduPersonUID'], inplace = True)\n",
    "len(df_21_22_postbacc)"
   ]
  },
  {
   "cell_type": "markdown",
   "metadata": {},
   "source": [
    "----------"
   ]
  },
  {
   "cell_type": "markdown",
   "metadata": {},
   "source": [
    "# Part 3: Combine 2a: Intern and 2d: Postbacc and Graduates in regular programs"
   ]
  },
  {
   "cell_type": "code",
   "execution_count": 81,
   "metadata": {},
   "outputs": [
    {
     "data": {
      "text/plain": [
       "14794"
      ]
     },
     "execution_count": 81,
     "metadata": {},
     "output_type": "execute_result"
    }
   ],
   "source": [
    "# combine A) INTERN and D) postbacc/graduate table together\n",
    "# Why? Because this will only include (df[\"erss_stud_lev\"].isin([5])) aka those NOT in undergraduate programs.\n",
    "df_2022_2023 = sqldf(\n",
    "    \"\"\"\n",
    "    SELECT *\n",
    "    FROM df_22_23_intern\n",
    "    UNION\n",
    "    SELECT * FROM df_22_23_postbacc\n",
    "\"\"\"\n",
    ")\n",
    "len(df_2022_2023)"
   ]
  },
  {
   "cell_type": "code",
   "execution_count": 82,
   "metadata": {},
   "outputs": [
    {
     "data": {
      "text/plain": [
       "14608"
      ]
     },
     "execution_count": 82,
     "metadata": {},
     "output_type": "execute_result"
    }
   ],
   "source": [
    "df_2022_2023.drop_duplicates(subset=['calstateEduPersonUID'], inplace = True)\n",
    "len(df_2022_2023)"
   ]
  },
  {
   "cell_type": "code",
   "execution_count": 83,
   "metadata": {},
   "outputs": [
    {
     "data": {
      "text/plain": [
       "14608"
      ]
     },
     "execution_count": 83,
     "metadata": {},
     "output_type": "execute_result"
    }
   ],
   "source": [
    "# left join the program type onto the main DataFrame\n",
    "df_2022_2023_merge = pd.merge(\n",
    "    df_2022_2023,\n",
    "    df_lookup,\n",
    "    left_on=\"erss_cred_obj\",\n",
    "    right_on=\"erss_cred_obj\",\n",
    "    how=\"left\",\n",
    ")\n",
    "len(df_2022_2023_merge)"
   ]
  },
  {
   "cell_type": "code",
   "execution_count": 162,
   "metadata": {},
   "outputs": [
    {
     "data": {
      "text/plain": [
       "code_value\n",
       "MS       5920\n",
       "SS       4595\n",
       "ES       2168\n",
       "Other    1925\n",
       "Name: count, dtype: int64"
      ]
     },
     "execution_count": 162,
     "metadata": {},
     "output_type": "execute_result"
    }
   ],
   "source": [
    "df_2022_2023_merge[\"code_value\"].value_counts()"
   ]
  },
  {
   "cell_type": "code",
   "execution_count": 85,
   "metadata": {},
   "outputs": [
    {
     "data": {
      "text/plain": [
       "erss_stud_lev\n",
       "5    14608\n",
       "Name: count, dtype: int64"
      ]
     },
     "execution_count": 85,
     "metadata": {},
     "output_type": "execute_result"
    }
   ],
   "source": [
    "df_2022_2023_merge[\"erss_stud_lev\"].value_counts()"
   ]
  },
  {
   "cell_type": "markdown",
   "metadata": {},
   "source": [
    "## 4a: Load in IPEDS Race Lookup table"
   ]
  },
  {
   "cell_type": "code",
   "execution_count": 86,
   "metadata": {},
   "outputs": [
    {
     "name": "stderr",
     "output_type": "stream",
     "text": [
      "<>:2: SyntaxWarning: invalid escape sequence '\\d'\n",
      "<>:2: SyntaxWarning: invalid escape sequence '\\d'\n",
      "C:\\Users\\jluong\\AppData\\Local\\Temp\\ipykernel_7808\\4264161771.py:2: SyntaxWarning: invalid escape sequence '\\d'\n",
      "  ipeds_race_df = pd.read_excel(\"..\\data\\ipeds_race_lookup\\ipeds_race_lookup.xlsx\")\n"
     ]
    }
   ],
   "source": [
    "# read in ipeds lookup table\n",
    "ipeds_race_df = pd.read_excel(\"..\\data\\ipeds_race_lookup\\ipeds_race_lookup.xlsx\")"
   ]
  },
  {
   "cell_type": "code",
   "execution_count": 87,
   "metadata": {},
   "outputs": [],
   "source": [
    "# join race descriptions onto the DataFrame\n",
    "df_2022_2023_race = pd.merge(\n",
    "    df_2022_2023_merge,\n",
    "    ipeds_race_df,\n",
    "    left_on=\"erss_ipeds_race_catg\",\n",
    "    right_on=\"ipeds_value\",\n",
    "    how=\"left\",\n",
    ")"
   ]
  },
  {
   "cell_type": "code",
   "execution_count": 88,
   "metadata": {},
   "outputs": [],
   "source": [
    "# left join the campus names onto the main DataFrame\n",
    "\n",
    "df_2022_2023_campus_names = pd.merge(\n",
    "    df_2022_2023_race,\n",
    "    df_campus_codes,\n",
    "    left_on=\"erss_campus\",\n",
    "    right_on=\"campus_code\",\n",
    "    how=\"left\",\n",
    ")"
   ]
  },
  {
   "cell_type": "markdown",
   "metadata": {},
   "source": [
    "# Part 3: For AY 2021-2022 Combine 2a: Intern and 2d: Postbacc and Graduates in regular programs"
   ]
  },
  {
   "cell_type": "code",
   "execution_count": 163,
   "metadata": {},
   "outputs": [
    {
     "data": {
      "text/plain": [
       "15317"
      ]
     },
     "execution_count": 163,
     "metadata": {},
     "output_type": "execute_result"
    }
   ],
   "source": [
    "# combine A) INTERN and D) postbacc/graduate table together\n",
    "# Why? Because this will only include (df[\"erss_stud_lev\"].isin([5])) aka those NOT in undergraduate programs.\n",
    "df_2021_2022 = sqldf(\n",
    "    \"\"\"\n",
    "    SELECT *\n",
    "    FROM df_21_22_intern\n",
    "    UNION\n",
    "    SELECT * FROM df_21_22_postbacc\n",
    "\"\"\"\n",
    ")\n",
    "len(df_2021_2022)"
   ]
  },
  {
   "cell_type": "code",
   "execution_count": 164,
   "metadata": {},
   "outputs": [
    {
     "data": {
      "text/plain": [
       "15129"
      ]
     },
     "execution_count": 164,
     "metadata": {},
     "output_type": "execute_result"
    }
   ],
   "source": [
    "df_2021_2022.drop_duplicates(subset=['calstateEduPersonUID'], inplace = True)\n",
    "len(df_2021_2022)"
   ]
  },
  {
   "cell_type": "code",
   "execution_count": 165,
   "metadata": {},
   "outputs": [
    {
     "data": {
      "text/plain": [
       "15129"
      ]
     },
     "execution_count": 165,
     "metadata": {},
     "output_type": "execute_result"
    }
   ],
   "source": [
    "# left join the program type onto the main DataFrame\n",
    "df_2021_2022_merge = pd.merge(\n",
    "    df_2021_2022,\n",
    "    df_lookup,\n",
    "    left_on=\"erss_cred_obj\",\n",
    "    right_on=\"erss_cred_obj\",\n",
    "    how=\"left\",\n",
    ")\n",
    "len(df_2021_2022_merge)"
   ]
  },
  {
   "cell_type": "code",
   "execution_count": 166,
   "metadata": {},
   "outputs": [
    {
     "data": {
      "text/plain": [
       "code_value\n",
       "MS       5774\n",
       "SS       4975\n",
       "ES       2551\n",
       "Other    1829\n",
       "Name: count, dtype: int64"
      ]
     },
     "execution_count": 166,
     "metadata": {},
     "output_type": "execute_result"
    }
   ],
   "source": [
    "df_2021_2022_merge[\"code_value\"].value_counts()"
   ]
  },
  {
   "cell_type": "code",
   "execution_count": 167,
   "metadata": {},
   "outputs": [
    {
     "data": {
      "text/plain": [
       "erss_stud_lev\n",
       "5    15129\n",
       "Name: count, dtype: int64"
      ]
     },
     "execution_count": 167,
     "metadata": {},
     "output_type": "execute_result"
    }
   ],
   "source": [
    "df_2021_2022_merge[\"erss_stud_lev\"].value_counts()"
   ]
  },
  {
   "cell_type": "markdown",
   "metadata": {},
   "source": [
    "## 4a: Load in IPEDS Race Lookup table"
   ]
  },
  {
   "cell_type": "code",
   "execution_count": null,
   "metadata": {},
   "outputs": [
    {
     "name": "stderr",
     "output_type": "stream",
     "text": [
      "<>:2: SyntaxWarning: invalid escape sequence '\\d'\n",
      "<>:2: SyntaxWarning: invalid escape sequence '\\d'\n",
      "C:\\Users\\jluong\\AppData\\Local\\Temp\\ipykernel_7808\\4264161771.py:2: SyntaxWarning: invalid escape sequence '\\d'\n",
      "  ipeds_race_df = pd.read_excel(\"..\\data\\ipeds_race_lookup\\ipeds_race_lookup.xlsx\")\n"
     ]
    }
   ],
   "source": [
    "# read in ipeds lookup table\n",
    "ipeds_race_df = pd.read_excel(\"..\\data\\ipeds_race_lookup\\ipeds_race_lookup.xlsx\")"
   ]
  },
  {
   "cell_type": "code",
   "execution_count": 168,
   "metadata": {},
   "outputs": [],
   "source": [
    "# join race descriptions onto the DataFrame\n",
    "df_2021_2022_race = pd.merge(\n",
    "    df_2021_2022_merge,\n",
    "    ipeds_race_df,\n",
    "    left_on=\"erss_ipeds_race_catg\",\n",
    "    right_on=\"ipeds_value\",\n",
    "    how=\"left\",\n",
    ")"
   ]
  },
  {
   "cell_type": "code",
   "execution_count": 169,
   "metadata": {},
   "outputs": [],
   "source": [
    "# left join the campus names onto the main DataFrame\n",
    "\n",
    "df_2021_2022_campus_names = pd.merge(\n",
    "    df_2021_2022_race,\n",
    "    df_campus_codes,\n",
    "    left_on=\"erss_campus\",\n",
    "    right_on=\"campus_code\",\n",
    "    how=\"left\",\n",
    ")"
   ]
  },
  {
   "cell_type": "markdown",
   "metadata": {},
   "source": [
    "-----"
   ]
  },
  {
   "cell_type": "markdown",
   "metadata": {},
   "source": [
    "# 5: Determine enrollment rate"
   ]
  },
  {
   "cell_type": "markdown",
   "metadata": {},
   "source": [
    "- want total enrollments for this campus\n",
    "- want total applications for this campus for the same years and terms"
   ]
  },
  {
   "cell_type": "code",
   "execution_count": 89,
   "metadata": {},
   "outputs": [
    {
     "name": "stdout",
     "output_type": "stream",
     "text": [
      "12683\n"
     ]
    }
   ],
   "source": [
    "# filter down to MS, SS, ES only\n",
    "\n",
    "df_2022_2023_campus_names = sqldf(\n",
    "    \"\"\"\n",
    "    SELECT *\n",
    "    FROM df_2022_2023_campus_names\n",
    "    WHERE code_value IN ('MS', 'SS', 'ES')\n",
    "\"\"\"\n",
    ")\n",
    "print(len(df_2022_2023_campus_names))"
   ]
  },
  {
   "cell_type": "code",
   "execution_count": 90,
   "metadata": {},
   "outputs": [
    {
     "data": {
      "text/plain": [
       "Index(['calstateEduPersonUID', 'erss_year', 'erss_term', 'erss_campus',\n",
       "       'erss_birth_date', 'erss_sex', 'erss_ethnic_old', 'erss_cit',\n",
       "       'erss_country', 'erss_res', 'erss_res_stat', 'erss_inst_orig',\n",
       "       'erss_matric_per', 'erss_adm_basis_old', 'erss_enroll_stat',\n",
       "       'erss_stud_lev', 'erss_deg_obj', 'erss_conc', 'erss_cred_stat',\n",
       "       'erss_cred_obj', 'erss_deg_held', 'erss_stud_stand', 'erss_transf_gpa',\n",
       "       'erss_campus_gpa', 'erss_total_ue', 'erss_total_gpa', 'erss_eop_stat',\n",
       "       'erss_dss', 'erss_dss_prog', 'erss_cip', 'erss_cred_emph',\n",
       "       'erss_tua_ld', 'erss_tua_ud', 'erss_tua_gd', 'erss_hs_gpa',\n",
       "       'erss_imm_yr', 'erss_spec_prog', 'erss_start_date_CST', 'erss_sufw',\n",
       "       'erss_matric_type', 'erss_tua_pc', 'erss_mil_stat', 'erss_hl_stat',\n",
       "       'erss_hl_catg', 'erss_multi_race_catg', 'erss_ipeds_race_catg',\n",
       "       'erss_emplid', 'erss_major', 'erss_cur_mil_stat', 'erss_mil_dep_stat',\n",
       "       'erss_ccc_control', 'erss_cum_ue_campus', 'erss_deg_prog_del',\n",
       "       'erss_adm_basis_new', 'erss_add_auth', 'erss_ca_prom_stat', 'erss_ssid',\n",
       "       'erss_csuapply_id', 'description', 'code_value', 'ipeds_value',\n",
       "       'race_description', 'index', 'campus_code', 'campus_name',\n",
       "       'Campus ID Number', 'Campus Letter Code'],\n",
       "      dtype='object')"
      ]
     },
     "execution_count": 90,
     "metadata": {},
     "output_type": "execute_result"
    }
   ],
   "source": [
    "df_2022_2023_campus_names.columns"
   ]
  },
  {
   "cell_type": "code",
   "execution_count": 133,
   "metadata": {},
   "outputs": [
    {
     "data": {
      "text/plain": [
       "campus_name\n",
       "CalStateTEACH      1534\n",
       "Long Beach         1467\n",
       "Northridge         1091\n",
       "Los Angeles         910\n",
       "San Bernardino      776\n",
       "Fullerton           731\n",
       "Fresno              647\n",
       "San Jose            638\n",
       "San Diego           537\n",
       "Stanislaus          515\n",
       "Bakersfield         514\n",
       "Pomona              503\n",
       "San Francisco       466\n",
       "Dominguez Hills     454\n",
       "Sacramento          387\n",
       "Chico               298\n",
       "East Bay            244\n",
       "Sonoma              228\n",
       "San Marcos          197\n",
       "Monterey Bay        176\n",
       "San Luis Obispo     142\n",
       "Channel Islands     124\n",
       "Humboldt            104\n",
       "Name: count, dtype: int64"
      ]
     },
     "execution_count": 133,
     "metadata": {},
     "output_type": "execute_result"
    }
   ],
   "source": [
    "df_2022_2023_campus_names.campus_name.value_counts()"
   ]
  },
  {
   "cell_type": "markdown",
   "metadata": {},
   "source": [
    "# From here, you can get counts for all campuses - use this for the CTEPP report."
   ]
  },
  {
   "cell_type": "code",
   "execution_count": 92,
   "metadata": {},
   "outputs": [],
   "source": [
    "# race by campus\n",
    "sql_all_df = sqldf(\n",
    "    \"\"\"\n",
    "    SELECT \n",
    "        campus_name,\n",
    "        race_description,\n",
    "        COUNT(calstateEduPersonUID) as total_records\n",
    "        FROM df_2022_2023_campus_names\n",
    "        GROUP BY \n",
    "            campus_name,\n",
    "            race_description\n",
    "        ORDER BY campus_name\n",
    "            \"\"\"\n",
    ")"
   ]
  },
  {
   "cell_type": "code",
   "execution_count": 93,
   "metadata": {},
   "outputs": [
    {
     "data": {
      "text/html": [
       "<div>\n",
       "<style scoped>\n",
       "    .dataframe tbody tr th:only-of-type {\n",
       "        vertical-align: middle;\n",
       "    }\n",
       "\n",
       "    .dataframe tbody tr th {\n",
       "        vertical-align: top;\n",
       "    }\n",
       "\n",
       "    .dataframe thead th {\n",
       "        text-align: right;\n",
       "    }\n",
       "</style>\n",
       "<table border=\"1\" class=\"dataframe\">\n",
       "  <thead>\n",
       "    <tr style=\"text-align: right;\">\n",
       "      <th></th>\n",
       "      <th>campus_name</th>\n",
       "      <th>race_description</th>\n",
       "      <th>total_records</th>\n",
       "    </tr>\n",
       "  </thead>\n",
       "  <tbody>\n",
       "    <tr>\n",
       "      <th>0</th>\n",
       "      <td>Bakersfield</td>\n",
       "      <td>American Indian or Alaska Native</td>\n",
       "      <td>5</td>\n",
       "    </tr>\n",
       "    <tr>\n",
       "      <th>1</th>\n",
       "      <td>Bakersfield</td>\n",
       "      <td>Asian</td>\n",
       "      <td>10</td>\n",
       "    </tr>\n",
       "    <tr>\n",
       "      <th>2</th>\n",
       "      <td>Bakersfield</td>\n",
       "      <td>Black or African American</td>\n",
       "      <td>16</td>\n",
       "    </tr>\n",
       "    <tr>\n",
       "      <th>3</th>\n",
       "      <td>Bakersfield</td>\n",
       "      <td>Hispanic/Latino</td>\n",
       "      <td>343</td>\n",
       "    </tr>\n",
       "    <tr>\n",
       "      <th>4</th>\n",
       "      <td>Bakersfield</td>\n",
       "      <td>Two or More Races</td>\n",
       "      <td>11</td>\n",
       "    </tr>\n",
       "  </tbody>\n",
       "</table>\n",
       "</div>"
      ],
      "text/plain": [
       "   campus_name                  race_description  total_records\n",
       "0  Bakersfield  American Indian or Alaska Native              5\n",
       "1  Bakersfield                             Asian             10\n",
       "2  Bakersfield         Black or African American             16\n",
       "3  Bakersfield                   Hispanic/Latino            343\n",
       "4  Bakersfield                 Two or More Races             11"
      ]
     },
     "execution_count": 93,
     "metadata": {},
     "output_type": "execute_result"
    }
   ],
   "source": [
    "sql_all_df.head()"
   ]
  },
  {
   "cell_type": "code",
   "execution_count": 94,
   "metadata": {},
   "outputs": [
    {
     "name": "stderr",
     "output_type": "stream",
     "text": [
      "<>:1: SyntaxWarning: invalid escape sequence '\\d'\n",
      "<>:1: SyntaxWarning: invalid escape sequence '\\d'\n",
      "C:\\Users\\jluong\\AppData\\Local\\Temp\\ipykernel_7808\\4264802076.py:1: SyntaxWarning: invalid escape sequence '\\d'\n",
      "  sql_all_df.to_csv(\"..\\data\\output\\ctepp_enrollment_22_23.csv\", index = False)\n"
     ]
    }
   ],
   "source": [
    "sql_all_df.to_csv(\"..\\data\\output\\ctepp_enrollment_22_23.csv\", index = False)"
   ]
  },
  {
   "cell_type": "code",
   "execution_count": 95,
   "metadata": {},
   "outputs": [],
   "source": [
    "# not used: label cohort 1 and cohort 2\n",
    "cohort_1 = ['Bakersfield','Humboldt','Northridge','San Luis Obispo']\n",
    "cohort_2 = ['Chico','Los Angeles','Long Beach','Pomona','Sacramento','Stanislaus']"
   ]
  },
  {
   "cell_type": "code",
   "execution_count": 96,
   "metadata": {},
   "outputs": [
    {
     "data": {
      "text/plain": [
       "1609"
      ]
     },
     "execution_count": 96,
     "metadata": {},
     "output_type": "execute_result"
    }
   ],
   "source": [
    "# filter down to the two campuses of interest\n",
    "df_LB_SLO = df_2022_2023_campus_names[\n",
    "    (df_2022_2023_campus_names[\"campus_name\"].isin([\"Long Beach\", \"San Luis Obispo\"]))\n",
    "]\n",
    "len(df_LB_SLO)"
   ]
  },
  {
   "cell_type": "code",
   "execution_count": 97,
   "metadata": {},
   "outputs": [
    {
     "data": {
      "text/plain": [
       "campus_name\n",
       "Long Beach         1467\n",
       "San Luis Obispo     142\n",
       "Name: count, dtype: int64"
      ]
     },
     "execution_count": 97,
     "metadata": {},
     "output_type": "execute_result"
    }
   ],
   "source": [
    "df_LB_SLO.campus_name.value_counts()"
   ]
  },
  {
   "cell_type": "code",
   "execution_count": 98,
   "metadata": {},
   "outputs": [],
   "source": [
    "# race by campus\n",
    "sql_df = sqldf(\n",
    "    \"\"\"\n",
    "    SELECT \n",
    "        campus_name,\n",
    "        race_description,\n",
    "        COUNT(calstateEduPersonUID) as total_records\n",
    "        FROM df_LB_SLO\n",
    "        GROUP BY \n",
    "            campus_name,\n",
    "            race_description\n",
    "        ORDER BY campus_name\n",
    "            \"\"\"\n",
    ")"
   ]
  },
  {
   "cell_type": "code",
   "execution_count": 99,
   "metadata": {},
   "outputs": [
    {
     "data": {
      "text/html": [
       "<div>\n",
       "<style scoped>\n",
       "    .dataframe tbody tr th:only-of-type {\n",
       "        vertical-align: middle;\n",
       "    }\n",
       "\n",
       "    .dataframe tbody tr th {\n",
       "        vertical-align: top;\n",
       "    }\n",
       "\n",
       "    .dataframe thead th {\n",
       "        text-align: right;\n",
       "    }\n",
       "</style>\n",
       "<table border=\"1\" class=\"dataframe\">\n",
       "  <thead>\n",
       "    <tr style=\"text-align: right;\">\n",
       "      <th></th>\n",
       "      <th>campus_name</th>\n",
       "      <th>race_description</th>\n",
       "      <th>total_records</th>\n",
       "    </tr>\n",
       "  </thead>\n",
       "  <tbody>\n",
       "    <tr>\n",
       "      <th>0</th>\n",
       "      <td>Long Beach</td>\n",
       "      <td>American Indian or Alaska Native</td>\n",
       "      <td>2</td>\n",
       "    </tr>\n",
       "    <tr>\n",
       "      <th>1</th>\n",
       "      <td>Long Beach</td>\n",
       "      <td>Asian</td>\n",
       "      <td>217</td>\n",
       "    </tr>\n",
       "    <tr>\n",
       "      <th>2</th>\n",
       "      <td>Long Beach</td>\n",
       "      <td>Black or African American</td>\n",
       "      <td>37</td>\n",
       "    </tr>\n",
       "    <tr>\n",
       "      <th>3</th>\n",
       "      <td>Long Beach</td>\n",
       "      <td>Hispanic/Latino</td>\n",
       "      <td>735</td>\n",
       "    </tr>\n",
       "    <tr>\n",
       "      <th>4</th>\n",
       "      <td>Long Beach</td>\n",
       "      <td>Native Hawaiian or Other Pacific Islander</td>\n",
       "      <td>1</td>\n",
       "    </tr>\n",
       "    <tr>\n",
       "      <th>5</th>\n",
       "      <td>Long Beach</td>\n",
       "      <td>Two or More Races</td>\n",
       "      <td>56</td>\n",
       "    </tr>\n",
       "    <tr>\n",
       "      <th>6</th>\n",
       "      <td>Long Beach</td>\n",
       "      <td>Unknown</td>\n",
       "      <td>79</td>\n",
       "    </tr>\n",
       "    <tr>\n",
       "      <th>7</th>\n",
       "      <td>Long Beach</td>\n",
       "      <td>White</td>\n",
       "      <td>340</td>\n",
       "    </tr>\n",
       "    <tr>\n",
       "      <th>8</th>\n",
       "      <td>San Luis Obispo</td>\n",
       "      <td>Asian</td>\n",
       "      <td>4</td>\n",
       "    </tr>\n",
       "    <tr>\n",
       "      <th>9</th>\n",
       "      <td>San Luis Obispo</td>\n",
       "      <td>Hispanic/Latino</td>\n",
       "      <td>51</td>\n",
       "    </tr>\n",
       "    <tr>\n",
       "      <th>10</th>\n",
       "      <td>San Luis Obispo</td>\n",
       "      <td>Two or More Races</td>\n",
       "      <td>2</td>\n",
       "    </tr>\n",
       "    <tr>\n",
       "      <th>11</th>\n",
       "      <td>San Luis Obispo</td>\n",
       "      <td>Unknown</td>\n",
       "      <td>6</td>\n",
       "    </tr>\n",
       "    <tr>\n",
       "      <th>12</th>\n",
       "      <td>San Luis Obispo</td>\n",
       "      <td>White</td>\n",
       "      <td>79</td>\n",
       "    </tr>\n",
       "  </tbody>\n",
       "</table>\n",
       "</div>"
      ],
      "text/plain": [
       "        campus_name                           race_description  total_records\n",
       "0        Long Beach           American Indian or Alaska Native              2\n",
       "1        Long Beach                                      Asian            217\n",
       "2        Long Beach                  Black or African American             37\n",
       "3        Long Beach                            Hispanic/Latino            735\n",
       "4        Long Beach  Native Hawaiian or Other Pacific Islander              1\n",
       "5        Long Beach                          Two or More Races             56\n",
       "6        Long Beach                                    Unknown             79\n",
       "7        Long Beach                                      White            340\n",
       "8   San Luis Obispo                                      Asian              4\n",
       "9   San Luis Obispo                            Hispanic/Latino             51\n",
       "10  San Luis Obispo                          Two or More Races              2\n",
       "11  San Luis Obispo                                    Unknown              6\n",
       "12  San Luis Obispo                                      White             79"
      ]
     },
     "execution_count": 99,
     "metadata": {},
     "output_type": "execute_result"
    }
   ],
   "source": [
    "sql_df"
   ]
  },
  {
   "cell_type": "markdown",
   "metadata": {},
   "source": [
    "---------"
   ]
  },
  {
   "cell_type": "markdown",
   "metadata": {},
   "source": [
    "# Section 2"
   ]
  },
  {
   "cell_type": "markdown",
   "metadata": {},
   "source": [
    "- **Number of candidates** can be determined by the number of new enrollments by campus by race/ethnicity in AY 2022-2023.\n",
    "    - Add this to the candidates count\n",
    "- When dropping duplicates, did it keep the newest or oldest record? To avoid this, filter by the new enrollment record first, THEN drop duplicates.\n",
    "- **Number of completers** can be determined by counting the number of completer records by campus by race/ethnicity in the completer records."
   ]
  },
  {
   "cell_type": "markdown",
   "metadata": {},
   "source": [
    "### Intern students"
   ]
  },
  {
   "cell_type": "code",
   "execution_count": 100,
   "metadata": {},
   "outputs": [],
   "source": [
    "# combine intern df's together\n",
    "# filter to new students only using \"WHERE erss_enroll_stat IN (4,5)\"\n",
    "df_22_23_intern_new = sqldf(\n",
    "    \"\"\"\n",
    "    SELECT *\n",
    "    FROM df_2022_fall_intern\n",
    "    WHERE erss_enroll_stat IN (4,5)\n",
    "    UNION\n",
    "    SELECT * FROM df_2023_winter_spring_intern\n",
    "    WHERE erss_enroll_stat IN (4,5)\n",
    "\"\"\"\n",
    ")"
   ]
  },
  {
   "cell_type": "code",
   "execution_count": 101,
   "metadata": {},
   "outputs": [
    {
     "data": {
      "text/plain": [
       "erss_enroll_stat\n",
       "5    80\n",
       "Name: count, dtype: int64"
      ]
     },
     "execution_count": 101,
     "metadata": {},
     "output_type": "execute_result"
    }
   ],
   "source": [
    "df_22_23_intern_new.erss_enroll_stat.value_counts()"
   ]
  },
  {
   "cell_type": "code",
   "execution_count": 102,
   "metadata": {},
   "outputs": [
    {
     "data": {
      "text/plain": [
       "80"
      ]
     },
     "execution_count": 102,
     "metadata": {},
     "output_type": "execute_result"
    }
   ],
   "source": [
    "# drop duplicates\n",
    "df_22_23_intern_new.drop_duplicates(subset=['calstateEduPersonUID'], inplace = True)\n",
    "len(df_22_23_intern_new)\n"
   ]
  },
  {
   "cell_type": "markdown",
   "metadata": {},
   "source": [
    "### Postbacc students"
   ]
  },
  {
   "cell_type": "code",
   "execution_count": 103,
   "metadata": {},
   "outputs": [
    {
     "data": {
      "text/plain": [
       "6648"
      ]
     },
     "execution_count": 103,
     "metadata": {},
     "output_type": "execute_result"
    }
   ],
   "source": [
    "# combine postbacc df's together\n",
    "df_22_23_postbacc_new = sqldf(\n",
    "    \"\"\"\n",
    "    SELECT *\n",
    "    FROM df_2022_fall_postbacc\n",
    "    WHERE erss_enroll_stat IN (4,5)\n",
    "    UNION\n",
    "    SELECT * FROM df_2023_winter_spring_postbacc\n",
    "    WHERE erss_enroll_stat IN (4,5)\n",
    "\"\"\"\n",
    ")\n",
    "len(df_22_23_postbacc_new)"
   ]
  },
  {
   "cell_type": "code",
   "execution_count": 104,
   "metadata": {},
   "outputs": [
    {
     "data": {
      "text/plain": [
       "13828"
      ]
     },
     "execution_count": 104,
     "metadata": {},
     "output_type": "execute_result"
    }
   ],
   "source": [
    "df_22_23_postbacc_new.drop_duplicates(subset=['calstateEduPersonUID'], inplace = True)\n",
    "len(df_22_23_postbacc)"
   ]
  },
  {
   "cell_type": "markdown",
   "metadata": {},
   "source": [
    "### Combine intern and postbacc records"
   ]
  },
  {
   "cell_type": "code",
   "execution_count": 105,
   "metadata": {},
   "outputs": [
    {
     "name": "stdout",
     "output_type": "stream",
     "text": [
      "6697\n",
      "6695\n"
     ]
    }
   ],
   "source": [
    "# combine A) INTERN and D) postbacc/graduate table together\n",
    "# Why? Because this will only include (df[\"erss_stud_lev\"].isin([5])) aka those NOT in undergraduate programs.\n",
    "df_2022_2023_new = sqldf(\n",
    "    \"\"\"\n",
    "    SELECT *\n",
    "    FROM df_22_23_intern_new\n",
    "    UNION\n",
    "    SELECT * FROM df_22_23_postbacc_new\n",
    "\"\"\"\n",
    ")\n",
    "print(len(df_2022_2023_new))\n",
    "df_2022_2023_new.drop_duplicates(subset=['calstateEduPersonUID'], inplace = True)\n",
    "print(len(df_2022_2023_new))"
   ]
  },
  {
   "cell_type": "code",
   "execution_count": 106,
   "metadata": {},
   "outputs": [
    {
     "data": {
      "text/plain": [
       "6695"
      ]
     },
     "execution_count": 106,
     "metadata": {},
     "output_type": "execute_result"
    }
   ],
   "source": [
    "# left join the program type onto the main DataFrame\n",
    "df_2022_2023_merge_new = pd.merge(\n",
    "    df_2022_2023_new,\n",
    "    df_lookup,\n",
    "    left_on=\"erss_cred_obj\",\n",
    "    right_on=\"erss_cred_obj\",\n",
    "    how=\"left\",\n",
    ")\n",
    "len(df_2022_2023_merge_new)"
   ]
  },
  {
   "cell_type": "code",
   "execution_count": 107,
   "metadata": {},
   "outputs": [
    {
     "data": {
      "text/plain": [
       "code_value\n",
       "MS       2721\n",
       "SS       2429\n",
       "Other     790\n",
       "ES        755\n",
       "Name: count, dtype: int64"
      ]
     },
     "execution_count": 107,
     "metadata": {},
     "output_type": "execute_result"
    }
   ],
   "source": [
    "df_2022_2023_merge_new[\"code_value\"].value_counts()"
   ]
  },
  {
   "cell_type": "code",
   "execution_count": 108,
   "metadata": {},
   "outputs": [
    {
     "data": {
      "text/plain": [
       "erss_stud_lev\n",
       "5    6695\n",
       "Name: count, dtype: int64"
      ]
     },
     "execution_count": 108,
     "metadata": {},
     "output_type": "execute_result"
    }
   ],
   "source": [
    "df_2022_2023_merge_new[\"erss_stud_lev\"].value_counts()"
   ]
  },
  {
   "cell_type": "markdown",
   "metadata": {},
   "source": [
    "## 4a: Load in IPEDS Race Lookup table"
   ]
  },
  {
   "cell_type": "code",
   "execution_count": 109,
   "metadata": {},
   "outputs": [
    {
     "name": "stderr",
     "output_type": "stream",
     "text": [
      "<>:2: SyntaxWarning: invalid escape sequence '\\d'\n",
      "<>:2: SyntaxWarning: invalid escape sequence '\\d'\n",
      "C:\\Users\\jluong\\AppData\\Local\\Temp\\ipykernel_7808\\4264161771.py:2: SyntaxWarning: invalid escape sequence '\\d'\n",
      "  ipeds_race_df = pd.read_excel(\"..\\data\\ipeds_race_lookup\\ipeds_race_lookup.xlsx\")\n"
     ]
    }
   ],
   "source": [
    "# read in ipeds lookup table\n",
    "ipeds_race_df = pd.read_excel(\"..\\data\\ipeds_race_lookup\\ipeds_race_lookup.xlsx\")"
   ]
  },
  {
   "cell_type": "code",
   "execution_count": 110,
   "metadata": {},
   "outputs": [],
   "source": [
    "# join race descriptions onto the DataFrame\n",
    "df_2022_2023_race = pd.merge(\n",
    "    df_2022_2023_merge_new,\n",
    "    ipeds_race_df,\n",
    "    left_on=\"erss_ipeds_race_catg\",\n",
    "    right_on=\"ipeds_value\",\n",
    "    how=\"left\",\n",
    ")"
   ]
  },
  {
   "cell_type": "code",
   "execution_count": 111,
   "metadata": {},
   "outputs": [],
   "source": [
    "# left join the campus names onto the main DataFrame\n",
    "\n",
    "df_2022_2023_campus_names_new = pd.merge(\n",
    "    df_2022_2023_race,\n",
    "    df_campus_codes,\n",
    "    left_on=\"erss_campus\",\n",
    "    right_on=\"campus_code\",\n",
    "    how=\"left\",\n",
    ")"
   ]
  },
  {
   "cell_type": "code",
   "execution_count": 112,
   "metadata": {},
   "outputs": [
    {
     "name": "stdout",
     "output_type": "stream",
     "text": [
      "5905\n"
     ]
    }
   ],
   "source": [
    "# filter down to MS, SS, ES only\n",
    "\n",
    "df_2022_2023_final = sqldf(\n",
    "    \"\"\"\n",
    "    SELECT *\n",
    "    FROM df_2022_2023_campus_names_new\n",
    "    WHERE code_value IN ('MS', 'SS', 'ES')\n",
    "\"\"\"\n",
    ")\n",
    "print(len(df_2022_2023_final))"
   ]
  },
  {
   "cell_type": "code",
   "execution_count": 113,
   "metadata": {},
   "outputs": [],
   "source": [
    "# use this for all campuses candidate counts\n",
    "# these are new students at each campus\n",
    "# race by campus\n",
    "sql_all_df_new_candidates = sqldf(\n",
    "    \"\"\"\n",
    "    SELECT \n",
    "        campus_name,\n",
    "        race_description,\n",
    "        COUNT(calstateEduPersonUID) as total_records\n",
    "        FROM df_2022_2023_final\n",
    "        GROUP BY \n",
    "            campus_name,\n",
    "            race_description\n",
    "        ORDER BY campus_name\n",
    "            \"\"\"\n",
    ")"
   ]
  },
  {
   "cell_type": "code",
   "execution_count": 114,
   "metadata": {},
   "outputs": [
    {
     "name": "stderr",
     "output_type": "stream",
     "text": [
      "<>:1: SyntaxWarning: invalid escape sequence '\\d'\n",
      "<>:1: SyntaxWarning: invalid escape sequence '\\d'\n",
      "C:\\Users\\jluong\\AppData\\Local\\Temp\\ipykernel_7808\\3432052173.py:1: SyntaxWarning: invalid escape sequence '\\d'\n",
      "  sql_all_df_new_candidates.to_csv(\"..\\data\\output\\ctepp_new_candidates.csv\", index = False)\n"
     ]
    }
   ],
   "source": [
    "sql_all_df_new_candidates.to_csv(\"..\\data\\output\\ctepp_new_candidates.csv\", index = False)"
   ]
  },
  {
   "cell_type": "code",
   "execution_count": 115,
   "metadata": {},
   "outputs": [],
   "source": [
    "# race by campus LB and SLO only\n",
    "sql_new_candidates_LB_SLO = sqldf(\n",
    "    \"\"\"\n",
    "    SELECT \n",
    "        campus_name,\n",
    "        race_description,\n",
    "        total_records as new_candidates\n",
    "        FROM sql_all_df_new_candidates\n",
    "        WHERE campus_name IN ('Long Beach','San Luis Obispo')\n",
    "    \"\"\"\n",
    ")\n"
   ]
  },
  {
   "cell_type": "code",
   "execution_count": 116,
   "metadata": {},
   "outputs": [
    {
     "data": {
      "text/html": [
       "<div>\n",
       "<style scoped>\n",
       "    .dataframe tbody tr th:only-of-type {\n",
       "        vertical-align: middle;\n",
       "    }\n",
       "\n",
       "    .dataframe tbody tr th {\n",
       "        vertical-align: top;\n",
       "    }\n",
       "\n",
       "    .dataframe thead th {\n",
       "        text-align: right;\n",
       "    }\n",
       "</style>\n",
       "<table border=\"1\" class=\"dataframe\">\n",
       "  <thead>\n",
       "    <tr style=\"text-align: right;\">\n",
       "      <th></th>\n",
       "      <th>campus_name</th>\n",
       "      <th>race_description</th>\n",
       "      <th>new_candidates</th>\n",
       "    </tr>\n",
       "  </thead>\n",
       "  <tbody>\n",
       "    <tr>\n",
       "      <th>0</th>\n",
       "      <td>Long Beach</td>\n",
       "      <td>American Indian or Alaska Native</td>\n",
       "      <td>2</td>\n",
       "    </tr>\n",
       "    <tr>\n",
       "      <th>1</th>\n",
       "      <td>Long Beach</td>\n",
       "      <td>Asian</td>\n",
       "      <td>104</td>\n",
       "    </tr>\n",
       "    <tr>\n",
       "      <th>2</th>\n",
       "      <td>Long Beach</td>\n",
       "      <td>Black or African American</td>\n",
       "      <td>24</td>\n",
       "    </tr>\n",
       "    <tr>\n",
       "      <th>3</th>\n",
       "      <td>Long Beach</td>\n",
       "      <td>Hispanic/Latino</td>\n",
       "      <td>357</td>\n",
       "    </tr>\n",
       "    <tr>\n",
       "      <th>4</th>\n",
       "      <td>Long Beach</td>\n",
       "      <td>Two or More Races</td>\n",
       "      <td>31</td>\n",
       "    </tr>\n",
       "    <tr>\n",
       "      <th>5</th>\n",
       "      <td>Long Beach</td>\n",
       "      <td>Unknown</td>\n",
       "      <td>44</td>\n",
       "    </tr>\n",
       "    <tr>\n",
       "      <th>6</th>\n",
       "      <td>Long Beach</td>\n",
       "      <td>White</td>\n",
       "      <td>159</td>\n",
       "    </tr>\n",
       "    <tr>\n",
       "      <th>7</th>\n",
       "      <td>San Luis Obispo</td>\n",
       "      <td>Asian</td>\n",
       "      <td>2</td>\n",
       "    </tr>\n",
       "    <tr>\n",
       "      <th>8</th>\n",
       "      <td>San Luis Obispo</td>\n",
       "      <td>Hispanic/Latino</td>\n",
       "      <td>24</td>\n",
       "    </tr>\n",
       "    <tr>\n",
       "      <th>9</th>\n",
       "      <td>San Luis Obispo</td>\n",
       "      <td>Two or More Races</td>\n",
       "      <td>2</td>\n",
       "    </tr>\n",
       "    <tr>\n",
       "      <th>10</th>\n",
       "      <td>San Luis Obispo</td>\n",
       "      <td>Unknown</td>\n",
       "      <td>1</td>\n",
       "    </tr>\n",
       "    <tr>\n",
       "      <th>11</th>\n",
       "      <td>San Luis Obispo</td>\n",
       "      <td>White</td>\n",
       "      <td>36</td>\n",
       "    </tr>\n",
       "  </tbody>\n",
       "</table>\n",
       "</div>"
      ],
      "text/plain": [
       "        campus_name                  race_description  new_candidates\n",
       "0        Long Beach  American Indian or Alaska Native               2\n",
       "1        Long Beach                             Asian             104\n",
       "2        Long Beach         Black or African American              24\n",
       "3        Long Beach                   Hispanic/Latino             357\n",
       "4        Long Beach                 Two or More Races              31\n",
       "5        Long Beach                           Unknown              44\n",
       "6        Long Beach                             White             159\n",
       "7   San Luis Obispo                             Asian               2\n",
       "8   San Luis Obispo                   Hispanic/Latino              24\n",
       "9   San Luis Obispo                 Two or More Races               2\n",
       "10  San Luis Obispo                           Unknown               1\n",
       "11  San Luis Obispo                             White              36"
      ]
     },
     "execution_count": 116,
     "metadata": {},
     "output_type": "execute_result"
    }
   ],
   "source": [
    "sql_new_candidates_LB_SLO"
   ]
  },
  {
   "cell_type": "code",
   "execution_count": 117,
   "metadata": {},
   "outputs": [],
   "source": [
    "# next steps:\n",
    "# [Complete] modify query for 1 and 2 to only include MS, ES, and SS students\n",
    "# [Complete] add these new enrollments numbers to the Number of Candidates numbers\n",
    "# calculate completers by race/ethnicity for AY 2022/2023 and add them to the Number of Completers numbers\n",
    "# recalculate completion rate\n",
    "\n",
    "# time to completion can be calculated using matriculation date and weighting the completers for AY 2022/2023."
   ]
  },
  {
   "cell_type": "markdown",
   "metadata": {},
   "source": [
    "# Section 3: Completers\n",
    "- connect completers records with enrollment records to get\n",
    "    - race/ethnicity\n",
    "    - matriculation period"
   ]
  },
  {
   "cell_type": "code",
   "execution_count": 179,
   "metadata": {},
   "outputs": [
    {
     "name": "stdout",
     "output_type": "stream",
     "text": [
      "5169\n"
     ]
    }
   ],
   "source": [
    "# read in AY 2022-2023\n",
    "df_22_23 = pd.read_csv(\"..\\\\data\\\\completer lists\\\\EDQ_COMB_COMP_2223_120424.csv\")\n",
    "print(len(df_22_23))"
   ]
  },
  {
   "cell_type": "code",
   "execution_count": 180,
   "metadata": {},
   "outputs": [],
   "source": [
    "# drop unneeded columns\n",
    "\n",
    "df_22_23 = df_22_23.drop(columns = [\n",
    "    'Personal Non-CSU Email',\n",
    "    'Other Email',\n",
    "    'Phone Number',\n",
    "    'Noyce Grant Recipients',\n",
    "    'Noyce Code',\n",
    "    'campus_name',\n",
    "    'campus_code'\n",
    "])"
   ]
  },
  {
   "cell_type": "markdown",
   "metadata": {},
   "source": [
    "### Join enrollment onto completers"
   ]
  },
  {
   "cell_type": "code",
   "execution_count": 181,
   "metadata": {},
   "outputs": [
    {
     "data": {
      "text/plain": [
       "27812"
      ]
     },
     "execution_count": 181,
     "metadata": {},
     "output_type": "execute_result"
    }
   ],
   "source": [
    "# combine the AY 2021-2022 and AY 2022-2023 in an attempt to get more CalStateEduPersonUID to match on.\n",
    "df_2021_2023_enrollment = sqldf(\n",
    "    \"\"\"\n",
    "    SELECT *\n",
    "    FROM df_2022_2023_campus_names\n",
    "    UNION\n",
    "    SELECT * FROM df_2021_2022_campus_names\n",
    "\"\"\"\n",
    ")\n",
    "len(df_2021_2023_enrollment)\n"
   ]
  },
  {
   "cell_type": "code",
   "execution_count": 182,
   "metadata": {},
   "outputs": [
    {
     "data": {
      "text/plain": [
       "22600"
      ]
     },
     "execution_count": 182,
     "metadata": {},
     "output_type": "execute_result"
    }
   ],
   "source": [
    "df_2021_2023_enrollment.drop_duplicates(subset=['calstateEduPersonUID'], inplace = True)\n",
    "len(df_2021_2023_enrollment)"
   ]
  },
  {
   "cell_type": "code",
   "execution_count": null,
   "metadata": {},
   "outputs": [],
   "source": [
    "# Data issue: San Diego is not matching many completers with enrollments, compared to all other campuses."
   ]
  },
  {
   "cell_type": "code",
   "execution_count": 183,
   "metadata": {},
   "outputs": [
    {
     "data": {
      "text/plain": [
       "campus_name\n",
       "Long Beach         2412\n",
       "CalStateTEACH      2212\n",
       "Northridge         1856\n",
       "Fullerton          1482\n",
       "San Bernardino     1445\n",
       "Los Angeles        1361\n",
       "San Jose           1354\n",
       "San Diego          1202\n",
       "Fresno             1106\n",
       "Bakersfield         987\n",
       "San Francisco       977\n",
       "Stanislaus          778\n",
       "Sacramento          749\n",
       "Dominguez Hills     746\n",
       "Pomona              732\n",
       "East Bay            664\n",
       "Chico               542\n",
       "San Marcos          410\n",
       "Sonoma              406\n",
       "Monterey Bay        393\n",
       "San Luis Obispo     297\n",
       "Channel Islands     282\n",
       "Humboldt            207\n",
       "Name: count, dtype: int64"
      ]
     },
     "execution_count": 183,
     "metadata": {},
     "output_type": "execute_result"
    }
   ],
   "source": [
    "df_2021_2023_enrollment.campus_name.value_counts()"
   ]
  },
  {
   "cell_type": "code",
   "execution_count": 138,
   "metadata": {},
   "outputs": [],
   "source": [
    "# use the enrollment df for all enrollments for AY 2022-23\n",
    "\n",
    "# 96 is CalStateTEACH\n",
    "# there are 20 completers who may not match with df_2021_new_race because the SSN was blank\n",
    "# after joining these tables, 17 records were duplicated because they were found in 2 different completer lists\n",
    "# 1 student, DEDF71281814529, showed an enrollment at 2 campuses, but only completed at Long Beach that year.\n",
    "# business rule: Only keep the first record (earliest record) of completion\n",
    "## What does this mean? This means that some campuses may have included a completer in both the 2021-2022 AND 2022-2023 lists.\n",
    "# If someone completed multiple programs, we look at their first completed program for the 2-year completion rate.\n",
    "df_all = sqldf(\n",
    "    \"\"\"\n",
    "    SELECT *\n",
    "    FROM df_22_23 AS a\n",
    "    LEFT JOIN df_2022_2023_campus_names AS b\n",
    "    USING(calstateEduPersonUID)\n",
    "    \"\"\"\n",
    ")"
   ]
  },
  {
   "cell_type": "code",
   "execution_count": 184,
   "metadata": {},
   "outputs": [],
   "source": [
    "# use the enrollment df for all enrollments for AY 2021-2022 AND AY 2022-23\n",
    "\n",
    "# 96 is CalStateTEACH\n",
    "# there are 20 completers who may not match with df_2021_new_race because the SSN was blank\n",
    "# after joining these tables, 17 records were duplicated because they were found in 2 different completer lists\n",
    "# 1 student, DEDF71281814529, showed an enrollment at 2 campuses, but only completed at Long Beach that year.\n",
    "# business rule: Only keep the first record (earliest record) of completion\n",
    "## What does this mean? This means that some campuses may have included a completer in both the 2021-2022 AND 2022-2023 lists.\n",
    "# If someone completed multiple programs, we look at their first completed program for the 2-year completion rate.\n",
    "df_all_21_23 = sqldf(\n",
    "    \"\"\"\n",
    "    SELECT *\n",
    "    FROM df_22_23 AS a\n",
    "    LEFT JOIN df_2021_2023_enrollment AS b\n",
    "    USING(calstateEduPersonUID)\n",
    "    \"\"\"\n",
    ")"
   ]
  },
  {
   "cell_type": "code",
   "execution_count": 185,
   "metadata": {},
   "outputs": [
    {
     "data": {
      "text/plain": [
       "4301"
      ]
     },
     "execution_count": 185,
     "metadata": {},
     "output_type": "execute_result"
    }
   ],
   "source": [
    "# Including AY 2021-2022 records yieled about 300 more matches.\n",
    "# Including summer terms did not yield a significant increase in matches.\n",
    "df_all_21_23.campus_name.value_counts().sum()"
   ]
  },
  {
   "cell_type": "code",
   "execution_count": 174,
   "metadata": {},
   "outputs": [
    {
     "name": "stderr",
     "output_type": "stream",
     "text": [
      "<>:1: SyntaxWarning: invalid escape sequence '\\d'\n",
      "<>:1: SyntaxWarning: invalid escape sequence '\\d'\n",
      "C:\\Users\\jluong\\AppData\\Local\\Temp\\ipykernel_7808\\3147189188.py:1: SyntaxWarning: invalid escape sequence '\\d'\n",
      "  df_all_21_23.to_csv(\"..\\data\\output\\ctepp_completers_21_23_enrollment.csv\", index = False)\n"
     ]
    }
   ],
   "source": [
    "df_all_21_23.to_csv(\"..\\data\\output\\ctepp_completers_21_23_enrollment.csv\", index = False)"
   ]
  },
  {
   "cell_type": "code",
   "execution_count": 121,
   "metadata": {},
   "outputs": [
    {
     "data": {
      "text/plain": [
       "5169"
      ]
     },
     "execution_count": 121,
     "metadata": {},
     "output_type": "execute_result"
    }
   ],
   "source": [
    "len(df_all)\n",
    "len"
   ]
  },
  {
   "cell_type": "code",
   "execution_count": 122,
   "metadata": {},
   "outputs": [
    {
     "name": "stdout",
     "output_type": "stream",
     "text": [
      "Row count is : 5171\n"
     ]
    }
   ],
   "source": [
    "def csv_reader(file_name):\n",
    "  for row in open(file_name, 'r'):\n",
    "    yield row\n",
    "\n",
    "csv_gen = csv_reader(\"..\\\\data\\\\output\\\\ctepp_completers.csv\")\n",
    "row_count = 0\n",
    "\n",
    "for row in csv_gen:\n",
    "  row_count += 1\n",
    "\n",
    "print(f\"Row count is : {row_count}\")\n",
    "csv_gen.close()"
   ]
  },
  {
   "cell_type": "code",
   "execution_count": 123,
   "metadata": {},
   "outputs": [
    {
     "name": "stdout",
     "output_type": "stream",
     "text": [
      "Row count is : 5171\n"
     ]
    }
   ],
   "source": [
    "csv_gen2 = csv_reader(\"..\\\\data\\\\output\\\\ctepp_completers.csv\")\n",
    "row_count = 0\n",
    "\n",
    "for row in csv_gen2:\n",
    "  row_count += 1\n",
    "\n",
    "print(f\"Row count is : {row_count}\")\n",
    "csv_gen2.close()"
   ]
  },
  {
   "cell_type": "code",
   "execution_count": 124,
   "metadata": {},
   "outputs": [
    {
     "name": "stderr",
     "output_type": "stream",
     "text": [
      "<>:1: SyntaxWarning: invalid escape sequence '\\d'\n",
      "<>:1: SyntaxWarning: invalid escape sequence '\\d'\n",
      "C:\\Users\\jluong\\AppData\\Local\\Temp\\ipykernel_7808\\1144365750.py:1: SyntaxWarning: invalid escape sequence '\\d'\n",
      "  df_all.to_csv(\"..\\data\\output\\ctepp_completers.csv\", index = False)\n"
     ]
    }
   ],
   "source": [
    "df_all.to_csv(\"..\\data\\output\\ctepp_completers.csv\", index = False)"
   ]
  },
  {
   "cell_type": "code",
   "execution_count": 125,
   "metadata": {},
   "outputs": [
    {
     "data": {
      "text/plain": [
       "4003"
      ]
     },
     "execution_count": 125,
     "metadata": {},
     "output_type": "execute_result"
    }
   ],
   "source": [
    "df_all.campus_name.value_counts().sum()"
   ]
  },
  {
   "cell_type": "code",
   "execution_count": 126,
   "metadata": {},
   "outputs": [
    {
     "data": {
      "text/plain": [
       "campus_name\n",
       "Fullerton          411\n",
       "Long Beach         406\n",
       "Fresno             382\n",
       "San Jose           302\n",
       "Northridge         256\n",
       "Bakersfield        255\n",
       "Sacramento         240\n",
       "Los Angeles        218\n",
       "Chico              212\n",
       "San Bernardino     204\n",
       "San Francisco      139\n",
       "Pomona             132\n",
       "San Marcos         131\n",
       "Stanislaus         130\n",
       "Sonoma             129\n",
       "San Luis Obispo    120\n",
       "Dominguez Hills    112\n",
       "East Bay            91\n",
       "Humboldt            68\n",
       "Monterey Bay        65\n",
       "Name: count, dtype: int64"
      ]
     },
     "execution_count": 126,
     "metadata": {},
     "output_type": "execute_result"
    }
   ],
   "source": [
    "# LB: 509 completers --> 103 unmatched completers\n",
    "# SLO: 120 completers --> 0 unmatched completers\n",
    "df_all.campus_name.value_counts()"
   ]
  },
  {
   "cell_type": "code",
   "execution_count": 127,
   "metadata": {},
   "outputs": [],
   "source": [
    "df_all.drop(labels= ['Campus ID Number', 'Campus Letter Code'], axis = 1, inplace = True)"
   ]
  },
  {
   "cell_type": "code",
   "execution_count": 128,
   "metadata": {},
   "outputs": [],
   "source": [
    "# race by campus\n",
    "completers_df = sqldf(\n",
    "    \"\"\"\n",
    "    SELECT \n",
    "        campus_name,\n",
    "        race_description,\n",
    "        COUNT(calstateEduPersonUID) as total_records\n",
    "        FROM df_all\n",
    "        WHERE campus_name IN ('Long Beach', 'San Luis Obispo')\n",
    "        GROUP BY \n",
    "            campus_name,\n",
    "            race_description\n",
    "        ORDER BY campus_name\n",
    "            \"\"\"\n",
    ")"
   ]
  },
  {
   "cell_type": "code",
   "execution_count": 129,
   "metadata": {},
   "outputs": [
    {
     "data": {
      "text/html": [
       "<div>\n",
       "<style scoped>\n",
       "    .dataframe tbody tr th:only-of-type {\n",
       "        vertical-align: middle;\n",
       "    }\n",
       "\n",
       "    .dataframe tbody tr th {\n",
       "        vertical-align: top;\n",
       "    }\n",
       "\n",
       "    .dataframe thead th {\n",
       "        text-align: right;\n",
       "    }\n",
       "</style>\n",
       "<table border=\"1\" class=\"dataframe\">\n",
       "  <thead>\n",
       "    <tr style=\"text-align: right;\">\n",
       "      <th></th>\n",
       "      <th>campus_name</th>\n",
       "      <th>race_description</th>\n",
       "      <th>total_records</th>\n",
       "    </tr>\n",
       "  </thead>\n",
       "  <tbody>\n",
       "    <tr>\n",
       "      <th>0</th>\n",
       "      <td>Long Beach</td>\n",
       "      <td>Asian</td>\n",
       "      <td>61</td>\n",
       "    </tr>\n",
       "    <tr>\n",
       "      <th>1</th>\n",
       "      <td>Long Beach</td>\n",
       "      <td>Black or African American</td>\n",
       "      <td>6</td>\n",
       "    </tr>\n",
       "    <tr>\n",
       "      <th>2</th>\n",
       "      <td>Long Beach</td>\n",
       "      <td>Hispanic/Latino</td>\n",
       "      <td>211</td>\n",
       "    </tr>\n",
       "    <tr>\n",
       "      <th>3</th>\n",
       "      <td>Long Beach</td>\n",
       "      <td>Two or More Races</td>\n",
       "      <td>18</td>\n",
       "    </tr>\n",
       "    <tr>\n",
       "      <th>4</th>\n",
       "      <td>Long Beach</td>\n",
       "      <td>Unknown</td>\n",
       "      <td>14</td>\n",
       "    </tr>\n",
       "    <tr>\n",
       "      <th>5</th>\n",
       "      <td>Long Beach</td>\n",
       "      <td>White</td>\n",
       "      <td>96</td>\n",
       "    </tr>\n",
       "    <tr>\n",
       "      <th>6</th>\n",
       "      <td>San Luis Obispo</td>\n",
       "      <td>Asian</td>\n",
       "      <td>3</td>\n",
       "    </tr>\n",
       "    <tr>\n",
       "      <th>7</th>\n",
       "      <td>San Luis Obispo</td>\n",
       "      <td>Hispanic/Latino</td>\n",
       "      <td>40</td>\n",
       "    </tr>\n",
       "    <tr>\n",
       "      <th>8</th>\n",
       "      <td>San Luis Obispo</td>\n",
       "      <td>Two or More Races</td>\n",
       "      <td>1</td>\n",
       "    </tr>\n",
       "    <tr>\n",
       "      <th>9</th>\n",
       "      <td>San Luis Obispo</td>\n",
       "      <td>Unknown</td>\n",
       "      <td>5</td>\n",
       "    </tr>\n",
       "    <tr>\n",
       "      <th>10</th>\n",
       "      <td>San Luis Obispo</td>\n",
       "      <td>White</td>\n",
       "      <td>71</td>\n",
       "    </tr>\n",
       "  </tbody>\n",
       "</table>\n",
       "</div>"
      ],
      "text/plain": [
       "        campus_name           race_description  total_records\n",
       "0        Long Beach                      Asian             61\n",
       "1        Long Beach  Black or African American              6\n",
       "2        Long Beach            Hispanic/Latino            211\n",
       "3        Long Beach          Two or More Races             18\n",
       "4        Long Beach                    Unknown             14\n",
       "5        Long Beach                      White             96\n",
       "6   San Luis Obispo                      Asian              3\n",
       "7   San Luis Obispo            Hispanic/Latino             40\n",
       "8   San Luis Obispo          Two or More Races              1\n",
       "9   San Luis Obispo                    Unknown              5\n",
       "10  San Luis Obispo                      White             71"
      ]
     },
     "execution_count": 129,
     "metadata": {},
     "output_type": "execute_result"
    }
   ],
   "source": [
    "completers_df"
   ]
  },
  {
   "cell_type": "markdown",
   "metadata": {},
   "source": [
    "- Time to completion was calculated in Excel using an estimated completion date of 1/1/2023.\n",
    "- Outliers removed:\n",
    "    - Time to completion over 9 years\n",
    "    - Time to completion under 0.5 years"
   ]
  },
  {
   "cell_type": "code",
   "execution_count": 134,
   "metadata": {},
   "outputs": [],
   "source": [
    "# dataframe for all records by race for all campuses\n",
    "# race by campus\n",
    "completers_df_all = sqldf(\n",
    "    \"\"\"\n",
    "    SELECT \n",
    "        campus_name,\n",
    "        race_description,\n",
    "        COUNT(calstateEduPersonUID) as total_records\n",
    "        FROM df_all\n",
    "        GROUP BY \n",
    "            campus_name,\n",
    "            race_description\n",
    "        ORDER BY campus_name\n",
    "            \"\"\"\n",
    ")"
   ]
  },
  {
   "cell_type": "code",
   "execution_count": 135,
   "metadata": {},
   "outputs": [
    {
     "data": {
      "text/html": [
       "<div>\n",
       "<style scoped>\n",
       "    .dataframe tbody tr th:only-of-type {\n",
       "        vertical-align: middle;\n",
       "    }\n",
       "\n",
       "    .dataframe tbody tr th {\n",
       "        vertical-align: top;\n",
       "    }\n",
       "\n",
       "    .dataframe thead th {\n",
       "        text-align: right;\n",
       "    }\n",
       "</style>\n",
       "<table border=\"1\" class=\"dataframe\">\n",
       "  <thead>\n",
       "    <tr style=\"text-align: right;\">\n",
       "      <th></th>\n",
       "      <th>campus_name</th>\n",
       "      <th>race_description</th>\n",
       "      <th>total_records</th>\n",
       "    </tr>\n",
       "  </thead>\n",
       "  <tbody>\n",
       "    <tr>\n",
       "      <th>0</th>\n",
       "      <td>None</td>\n",
       "      <td>None</td>\n",
       "      <td>1166</td>\n",
       "    </tr>\n",
       "    <tr>\n",
       "      <th>1</th>\n",
       "      <td>Bakersfield</td>\n",
       "      <td>American Indian or Alaska Native</td>\n",
       "      <td>2</td>\n",
       "    </tr>\n",
       "    <tr>\n",
       "      <th>2</th>\n",
       "      <td>Bakersfield</td>\n",
       "      <td>Asian</td>\n",
       "      <td>6</td>\n",
       "    </tr>\n",
       "    <tr>\n",
       "      <th>3</th>\n",
       "      <td>Bakersfield</td>\n",
       "      <td>Black or African American</td>\n",
       "      <td>4</td>\n",
       "    </tr>\n",
       "    <tr>\n",
       "      <th>4</th>\n",
       "      <td>Bakersfield</td>\n",
       "      <td>Hispanic/Latino</td>\n",
       "      <td>168</td>\n",
       "    </tr>\n",
       "    <tr>\n",
       "      <th>...</th>\n",
       "      <td>...</td>\n",
       "      <td>...</td>\n",
       "      <td>...</td>\n",
       "    </tr>\n",
       "    <tr>\n",
       "      <th>123</th>\n",
       "      <td>Stanislaus</td>\n",
       "      <td>Asian</td>\n",
       "      <td>9</td>\n",
       "    </tr>\n",
       "    <tr>\n",
       "      <th>124</th>\n",
       "      <td>Stanislaus</td>\n",
       "      <td>Hispanic/Latino</td>\n",
       "      <td>70</td>\n",
       "    </tr>\n",
       "    <tr>\n",
       "      <th>125</th>\n",
       "      <td>Stanislaus</td>\n",
       "      <td>Two or More Races</td>\n",
       "      <td>2</td>\n",
       "    </tr>\n",
       "    <tr>\n",
       "      <th>126</th>\n",
       "      <td>Stanislaus</td>\n",
       "      <td>Unknown</td>\n",
       "      <td>2</td>\n",
       "    </tr>\n",
       "    <tr>\n",
       "      <th>127</th>\n",
       "      <td>Stanislaus</td>\n",
       "      <td>White</td>\n",
       "      <td>47</td>\n",
       "    </tr>\n",
       "  </tbody>\n",
       "</table>\n",
       "<p>128 rows × 3 columns</p>\n",
       "</div>"
      ],
      "text/plain": [
       "     campus_name                  race_description  total_records\n",
       "0           None                              None           1166\n",
       "1    Bakersfield  American Indian or Alaska Native              2\n",
       "2    Bakersfield                             Asian              6\n",
       "3    Bakersfield         Black or African American              4\n",
       "4    Bakersfield                   Hispanic/Latino            168\n",
       "..           ...                               ...            ...\n",
       "123   Stanislaus                             Asian              9\n",
       "124   Stanislaus                   Hispanic/Latino             70\n",
       "125   Stanislaus                 Two or More Races              2\n",
       "126   Stanislaus                           Unknown              2\n",
       "127   Stanislaus                             White             47\n",
       "\n",
       "[128 rows x 3 columns]"
      ]
     },
     "execution_count": 135,
     "metadata": {},
     "output_type": "execute_result"
    }
   ],
   "source": [
    "completers_df_all"
   ]
  },
  {
   "cell_type": "code",
   "execution_count": null,
   "metadata": {},
   "outputs": [],
   "source": [
    "# consider matching 2022-2023 completers with 2 years of enrollment data, AND/OR include the summer session for enrollment."
   ]
  }
 ],
 "metadata": {
  "kernelspec": {
   "display_name": "sql_env",
   "language": "python",
   "name": "python3"
  },
  "language_info": {
   "codemirror_mode": {
    "name": "ipython",
    "version": 3
   },
   "file_extension": ".py",
   "mimetype": "text/x-python",
   "name": "python",
   "nbconvert_exporter": "python",
   "pygments_lexer": "ipython3",
   "version": "3.12.1"
  }
 },
 "nbformat": 4,
 "nbformat_minor": 2
}
