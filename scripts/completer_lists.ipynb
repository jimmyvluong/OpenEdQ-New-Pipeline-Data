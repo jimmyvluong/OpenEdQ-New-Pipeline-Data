{
 "cells": [
  {
   "cell_type": "code",
   "execution_count": 1,
   "metadata": {},
   "outputs": [],
   "source": [
    "import pandas as pd\n",
    "from pandasql import sqldf\n",
    "import openpyxl\n",
    "import os"
   ]
  },
  {
   "cell_type": "code",
   "execution_count": 6,
   "metadata": {},
   "outputs": [
    {
     "data": {
      "text/plain": [
       "'\\\\\\\\pwedqfs01\\\\te\\\\02 EdQ DataView and TPDM\\\\New Pipeline Data\\\\scripts'"
      ]
     },
     "execution_count": 6,
     "metadata": {},
     "output_type": "execute_result"
    }
   ],
   "source": [
    "os.getcwd()"
   ]
  },
  {
   "cell_type": "code",
   "execution_count": 8,
   "metadata": {},
   "outputs": [],
   "source": [
    "# read in AY 2021-2022\n",
    "df_2122 = pd.read_csv(\"..\\\\data\\\\completer lists\\\\EDQ_COMB_COMP_2122_160623.csv\")"
   ]
  },
  {
   "cell_type": "code",
   "execution_count": 9,
   "metadata": {},
   "outputs": [
    {
     "data": {
      "text/html": [
       "<div>\n",
       "<style scoped>\n",
       "    .dataframe tbody tr th:only-of-type {\n",
       "        vertical-align: middle;\n",
       "    }\n",
       "\n",
       "    .dataframe tbody tr th {\n",
       "        vertical-align: top;\n",
       "    }\n",
       "\n",
       "    .dataframe thead th {\n",
       "        text-align: right;\n",
       "    }\n",
       "</style>\n",
       "<table border=\"1\" class=\"dataframe\">\n",
       "  <thead>\n",
       "    <tr style=\"text-align: right;\">\n",
       "      <th></th>\n",
       "      <th>calstateEduPersonUID</th>\n",
       "      <th>Study Code</th>\n",
       "      <th>Last Name</th>\n",
       "      <th>First Name</th>\n",
       "      <th>Middle</th>\n",
       "      <th>DOB</th>\n",
       "      <th>System Letter Code</th>\n",
       "      <th>System ID Number</th>\n",
       "      <th>Campus ID Number</th>\n",
       "      <th>Campus Letter Code</th>\n",
       "      <th>Cohort Number</th>\n",
       "      <th>Evaluation Year</th>\n",
       "      <th>Program Type</th>\n",
       "      <th>Reporting Group</th>\n",
       "      <th>CBEST</th>\n",
       "      <th>Credential Code</th>\n",
       "      <th>Credential Program</th>\n",
       "      <th>Program Name</th>\n",
       "      <th>Content Code</th>\n",
       "      <th>compCohort</th>\n",
       "    </tr>\n",
       "  </thead>\n",
       "  <tbody>\n",
       "    <tr>\n",
       "      <th>0</th>\n",
       "      <td>CCDA26649319124</td>\n",
       "      <td>329804</td>\n",
       "      <td>Kalinski</td>\n",
       "      <td>Breda</td>\n",
       "      <td>T</td>\n",
       "      <td>1990-02-05</td>\n",
       "      <td>CSU</td>\n",
       "      <td>1</td>\n",
       "      <td>8</td>\n",
       "      <td>LB</td>\n",
       "      <td>23</td>\n",
       "      <td>2023</td>\n",
       "      <td>T</td>\n",
       "      <td>3</td>\n",
       "      <td>NaN</td>\n",
       "      <td>S</td>\n",
       "      <td>X</td>\n",
       "      <td>NaN</td>\n",
       "      <td>PE</td>\n",
       "      <td>2021-2022</td>\n",
       "    </tr>\n",
       "    <tr>\n",
       "      <th>1</th>\n",
       "      <td>ABEB85079404958</td>\n",
       "      <td>330644</td>\n",
       "      <td>Climaco-Garcia</td>\n",
       "      <td>Xiomara</td>\n",
       "      <td>E</td>\n",
       "      <td>1989-07-10</td>\n",
       "      <td>CSU</td>\n",
       "      <td>1</td>\n",
       "      <td>11</td>\n",
       "      <td>NO</td>\n",
       "      <td>23</td>\n",
       "      <td>2023</td>\n",
       "      <td>T</td>\n",
       "      <td>3</td>\n",
       "      <td>NaN</td>\n",
       "      <td>S</td>\n",
       "      <td>P</td>\n",
       "      <td>Traditional</td>\n",
       "      <td>FLS</td>\n",
       "      <td>2021-2022</td>\n",
       "    </tr>\n",
       "    <tr>\n",
       "      <th>2</th>\n",
       "      <td>CCFE75208047459</td>\n",
       "      <td>330312</td>\n",
       "      <td>Kertnoi</td>\n",
       "      <td>Yanisa</td>\n",
       "      <td>NaN</td>\n",
       "      <td>1998-06-05</td>\n",
       "      <td>CSU</td>\n",
       "      <td>1</td>\n",
       "      <td>9</td>\n",
       "      <td>LA</td>\n",
       "      <td>23</td>\n",
       "      <td>2023</td>\n",
       "      <td>T</td>\n",
       "      <td>3</td>\n",
       "      <td>NaN</td>\n",
       "      <td>M</td>\n",
       "      <td>X</td>\n",
       "      <td>NaN</td>\n",
       "      <td>GS</td>\n",
       "      <td>2021-2022</td>\n",
       "    </tr>\n",
       "    <tr>\n",
       "      <th>3</th>\n",
       "      <td>EEAC46244467747</td>\n",
       "      <td>329461</td>\n",
       "      <td>Sesar</td>\n",
       "      <td>Zachary</td>\n",
       "      <td>NaN</td>\n",
       "      <td>1989-04-02</td>\n",
       "      <td>CSU</td>\n",
       "      <td>1</td>\n",
       "      <td>6</td>\n",
       "      <td>EB</td>\n",
       "      <td>23</td>\n",
       "      <td>2023</td>\n",
       "      <td>I</td>\n",
       "      <td>3</td>\n",
       "      <td>NaN</td>\n",
       "      <td>S</td>\n",
       "      <td>X</td>\n",
       "      <td>Single Subject: Art</td>\n",
       "      <td>ART</td>\n",
       "      <td>2021-2022</td>\n",
       "    </tr>\n",
       "    <tr>\n",
       "      <th>4</th>\n",
       "      <td>FFAA46450610415</td>\n",
       "      <td>331626</td>\n",
       "      <td>Harmer</td>\n",
       "      <td>Cheyanne</td>\n",
       "      <td>N</td>\n",
       "      <td>1990-04-22</td>\n",
       "      <td>CSU</td>\n",
       "      <td>1</td>\n",
       "      <td>15</td>\n",
       "      <td>SD</td>\n",
       "      <td>23</td>\n",
       "      <td>2023</td>\n",
       "      <td>T</td>\n",
       "      <td>3</td>\n",
       "      <td>NaN</td>\n",
       "      <td>M</td>\n",
       "      <td>P</td>\n",
       "      <td>STE MS 2042</td>\n",
       "      <td>GS</td>\n",
       "      <td>2021-2022</td>\n",
       "    </tr>\n",
       "  </tbody>\n",
       "</table>\n",
       "</div>"
      ],
      "text/plain": [
       "  calstateEduPersonUID  Study Code       Last Name First Name Middle  \\\n",
       "0      CCDA26649319124      329804        Kalinski      Breda      T   \n",
       "1      ABEB85079404958      330644  Climaco-Garcia    Xiomara      E   \n",
       "2      CCFE75208047459      330312         Kertnoi     Yanisa    NaN   \n",
       "3      EEAC46244467747      329461           Sesar    Zachary    NaN   \n",
       "4      FFAA46450610415      331626          Harmer   Cheyanne      N   \n",
       "\n",
       "          DOB System Letter Code  System ID Number  Campus ID Number  \\\n",
       "0  1990-02-05                CSU                 1                 8   \n",
       "1  1989-07-10                CSU                 1                11   \n",
       "2  1998-06-05                CSU                 1                 9   \n",
       "3  1989-04-02                CSU                 1                 6   \n",
       "4  1990-04-22                CSU                 1                15   \n",
       "\n",
       "  Campus Letter Code  Cohort Number  Evaluation Year Program Type  \\\n",
       "0                 LB             23             2023            T   \n",
       "1                 NO             23             2023            T   \n",
       "2                 LA             23             2023            T   \n",
       "3                 EB             23             2023            I   \n",
       "4                 SD             23             2023            T   \n",
       "\n",
       "   Reporting Group CBEST Credential Code Credential Program  \\\n",
       "0                3   NaN               S                  X   \n",
       "1                3   NaN               S                  P   \n",
       "2                3   NaN               M                  X   \n",
       "3                3   NaN               S                  X   \n",
       "4                3   NaN               M                  P   \n",
       "\n",
       "          Program Name Content Code compCohort  \n",
       "0                  NaN           PE  2021-2022  \n",
       "1          Traditional          FLS  2021-2022  \n",
       "2                  NaN           GS  2021-2022  \n",
       "3  Single Subject: Art          ART  2021-2022  \n",
       "4          STE MS 2042           GS  2021-2022  "
      ]
     },
     "execution_count": 9,
     "metadata": {},
     "output_type": "execute_result"
    }
   ],
   "source": [
    "df_2122.head()"
   ]
  },
  {
   "cell_type": "code",
   "execution_count": 10,
   "metadata": {},
   "outputs": [
    {
     "data": {
      "text/plain": [
       "Index(['calstateEduPersonUID', 'Study Code', 'Last Name', 'First Name',\n",
       "       'Middle', 'DOB', 'System Letter Code', 'System ID Number',\n",
       "       'Campus ID Number', 'Campus Letter Code', 'Cohort Number',\n",
       "       'Evaluation Year', 'Program Type', 'Reporting Group', 'CBEST',\n",
       "       'Credential Code', 'Credential Program', 'Program Name', 'Content Code',\n",
       "       'compCohort'],\n",
       "      dtype='object')"
      ]
     },
     "execution_count": 10,
     "metadata": {},
     "output_type": "execute_result"
    }
   ],
   "source": [
    "df_2122.columns"
   ]
  },
  {
   "cell_type": "code",
   "execution_count": 11,
   "metadata": {},
   "outputs": [
    {
     "data": {
      "text/plain": [
       "20"
      ]
     },
     "execution_count": 11,
     "metadata": {},
     "output_type": "execute_result"
    }
   ],
   "source": [
    "len(df_2122.columns)"
   ]
  },
  {
   "cell_type": "code",
   "execution_count": null,
   "metadata": {},
   "outputs": [],
   "source": [
    "# Of those, who completed?\n",
    "# Match an enrollment record from the filtered down EPP first-time enrollment table."
   ]
  }
 ],
 "metadata": {
  "kernelspec": {
   "display_name": "sql_env",
   "language": "python",
   "name": "python3"
  },
  "language_info": {
   "codemirror_mode": {
    "name": "ipython",
    "version": 3
   },
   "file_extension": ".py",
   "mimetype": "text/x-python",
   "name": "python",
   "nbconvert_exporter": "python",
   "pygments_lexer": "ipython3",
   "version": "3.12.1"
  }
 },
 "nbformat": 4,
 "nbformat_minor": 2
}
